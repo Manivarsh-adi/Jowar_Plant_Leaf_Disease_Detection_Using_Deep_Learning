{
 "cells": [
  {
   "cell_type": "code",
   "execution_count": 1,
   "metadata": {},
   "outputs": [],
   "source": [
    "import numpy as np\n",
    "import pandas as pd\n",
    "import tensorflow as tf\n",
    "import cv2\n",
    "import datetime\n",
    "import os\n",
    "\n",
    "import matplotlib.pyplot as plt\n",
    "from PIL import Image\n",
    "from tensorflow.keras import layers, models\n",
    "from tensorflow.keras.layers import LeakyReLU\n",
    "from keras.optimizers import Adam\n",
    "from keras.callbacks import ReduceLROnPlateau\n",
    "from keras.regularizers import l1, l2, l1_l2\n",
    "from keras.layers.normalization import BatchNormalization"
   ]
  },
  {
   "cell_type": "code",
   "execution_count": 2,
   "metadata": {},
   "outputs": [],
   "source": [
    "os.environ['TF_FORCE_GPU_ALLOW_GROWTH'] = 'true'"
   ]
  },
  {
   "cell_type": "code",
   "execution_count": 3,
   "metadata": {},
   "outputs": [
    {
     "data": {
      "text/plain": [
       "[PhysicalDevice(name='/physical_device:GPU:0', device_type='GPU')]"
      ]
     },
     "execution_count": 3,
     "metadata": {},
     "output_type": "execute_result"
    }
   ],
   "source": [
    "tf.config.experimental.list_physical_devices('GPU')\n"
   ]
  },
  {
   "cell_type": "code",
   "execution_count": null,
   "metadata": {},
   "outputs": [],
   "source": []
  },
  {
   "cell_type": "code",
   "execution_count": 3,
   "metadata": {},
   "outputs": [
    {
     "ename": "IndentationError",
     "evalue": "unexpected indent (<ipython-input-3-3c134b058e07>, line 2)",
     "output_type": "error",
     "traceback": [
      "\u001b[1;36m  File \u001b[1;32m\"<ipython-input-3-3c134b058e07>\"\u001b[1;36m, line \u001b[1;32m2\u001b[0m\n\u001b[1;33m    labels = \"inferred\",\u001b[0m\n\u001b[1;37m    ^\u001b[0m\n\u001b[1;31mIndentationError\u001b[0m\u001b[1;31m:\u001b[0m unexpected indent\n"
     ]
    }
   ],
   "source": [
    "#tf.keras.preprocessing.image_dataset_from_directory( \"C:\\\\Users\\\\adhim\\\\Desktop\\\\Compressed_Segmented\\\\Train\",\n",
    "                                                      labels = \"inferred\",\n",
    "                                                      label_mode = \"int\",\n",
    "                                                      class_names = None,\n",
    "                                                      color_mode = \"rgb\",\n",
    "                                                      batch_size = 32,\n",
    "                                                      image_size = (250, 250),\n",
    "                                                      shuffle = True,\n",
    "                                                      seed = None,\n",
    "                                                      validation_split = None,\n",
    "                                                      subset = None,\n",
    "                                                      interpolation = \"bilinear\",\n",
    "                                                      follow_links = False)"
   ]
  },
  {
   "cell_type": "code",
   "execution_count": 4,
   "metadata": {},
   "outputs": [
    {
     "data": {
      "text/plain": [
       "tensorflow.python.data.ops.dataset_ops.DatasetV2"
      ]
     },
     "execution_count": 4,
     "metadata": {},
     "output_type": "execute_result"
    }
   ],
   "source": [
    "tf.data.Dataset"
   ]
  },
  {
   "cell_type": "code",
   "execution_count": 92,
   "metadata": {},
   "outputs": [
    {
     "ename": "IndentationError",
     "evalue": "unexpected indent (<ipython-input-92-87b7c8710186>, line 2)",
     "output_type": "error",
     "traceback": [
      "\u001b[1;36m  File \u001b[1;32m\"<ipython-input-92-87b7c8710186>\"\u001b[1;36m, line \u001b[1;32m2\u001b[0m\n\u001b[1;33m    grayscale = False,\u001b[0m\n\u001b[1;37m    ^\u001b[0m\n\u001b[1;31mIndentationError\u001b[0m\u001b[1;31m:\u001b[0m unexpected indent\n"
     ]
    }
   ],
   "source": [
    "#tf.keras.preprocessing.image.load_img(\"C:\\\\Users\\\\adhim\\\\Desktop\\\\Compressed_Segmented\\\\Train\\\\DarkSpoted\\\\1.jpg\",\n",
    "                                       grayscale = False,\n",
    "                                       color_mode = \"rgb\",\n",
    "                                       target_size = None,\n",
    "                                       interpolation = \"nearest\")"
   ]
  },
  {
   "cell_type": "markdown",
   "metadata": {},
   "source": [
    "## Flow from Directory"
   ]
  },
  {
   "cell_type": "code",
   "execution_count": 4,
   "metadata": {},
   "outputs": [],
   "source": [
    "Datagen= tf.keras.preprocessing.image.ImageDataGenerator( rescale = 1./25,\n",
    "                                                          shear_range = 0.2,\n",
    "                                                          zoom_range = 0.2,\n",
    "                                                          horizontal_flip = True,\n",
    "                                                          vertical_flip = True,\n",
    "                                                          rotation_range = 10,\n",
    "                                                          #width_shift_range = 0.2,\n",
    "                                                          #height_shift_range = 0.2,\n",
    "                                                          #brightness_range = [0.2, 1.2]\n",
    "                                                               )"
   ]
  },
  {
   "cell_type": "code",
   "execution_count": 5,
   "metadata": {},
   "outputs": [
    {
     "name": "stdout",
     "output_type": "stream",
     "text": [
      "Found 374 images belonging to 3 classes.\n"
     ]
    }
   ],
   "source": [
    "train_generator = Datagen.flow_from_directory( \n",
    "                                                     \"C:\\\\Users\\\\adhim\\\\Desktop\\\\Compressed_Segmented1\\\\Train\",\n",
    "                                                     target_size = (250, 250),\n",
    "                                                     batch_size = 32,\n",
    "                                                     class_mode = \"binary\"\n",
    "                                                    )"
   ]
  },
  {
   "cell_type": "code",
   "execution_count": null,
   "metadata": {},
   "outputs": [],
   "source": []
  },
  {
   "cell_type": "code",
   "execution_count": null,
   "metadata": {},
   "outputs": [],
   "source": []
  },
  {
   "cell_type": "code",
   "execution_count": 6,
   "metadata": {},
   "outputs": [
    {
     "name": "stdout",
     "output_type": "stream",
     "text": [
      "Found 146 images belonging to 3 classes.\n"
     ]
    }
   ],
   "source": [
    "validation_generator = Datagen.flow_from_directory( \"C:\\\\Users\\\\adhim\\\\Desktop\\\\Compressed_Segmented1\\\\Validation\",\n",
    "                                                          target_size = (250, 250),\n",
    "                                                         batch_size = 32,\n",
    "                                                         class_mode = \"binary\"\n",
    "                                                         )"
   ]
  },
  {
   "cell_type": "code",
   "execution_count": null,
   "metadata": {},
   "outputs": [],
   "source": []
  },
  {
   "cell_type": "markdown",
   "metadata": {},
   "source": [
    "# Models for  Threshold Segmented Images"
   ]
  },
  {
   "cell_type": "markdown",
   "metadata": {},
   "source": [
    "## Model 1"
   ]
  },
  {
   "cell_type": "code",
   "execution_count": 7,
   "metadata": {},
   "outputs": [],
   "source": [
    "leaky_relu_alpha = 0.1"
   ]
  },
  {
   "cell_type": "code",
   "execution_count": 8,
   "metadata": {},
   "outputs": [],
   "source": [
    "model = models.Sequential()\n",
    "\n",
    "model.add(layers.Conv2D(64, (3, 3), input_shape = (250, 250, 3)))\n",
    "\n",
    "model.add(LeakyReLU( alpha = leaky_relu_alpha))\n",
    "\n",
    "model.add(layers.MaxPooling2D((2, 2)))\n",
    "\n",
    "model.add(layers.Dropout(0.25))\n",
    "\n",
    "model.add(layers.Conv2D(128, (3, 3)))\n",
    "\n",
    "model.add(LeakyReLU( alpha = leaky_relu_alpha))\n",
    "\n",
    "model.add(layers.MaxPooling2D((2, 2)))\n",
    "\n",
    "model.add(layers.Dropout(0.25))"
   ]
  },
  {
   "cell_type": "code",
   "execution_count": 9,
   "metadata": {},
   "outputs": [
    {
     "name": "stdout",
     "output_type": "stream",
     "text": [
      "Model: \"sequential\"\n",
      "_________________________________________________________________\n",
      "Layer (type)                 Output Shape              Param #   \n",
      "=================================================================\n",
      "conv2d (Conv2D)              (None, 248, 248, 64)      1792      \n",
      "_________________________________________________________________\n",
      "leaky_re_lu (LeakyReLU)      (None, 248, 248, 64)      0         \n",
      "_________________________________________________________________\n",
      "max_pooling2d (MaxPooling2D) (None, 124, 124, 64)      0         \n",
      "_________________________________________________________________\n",
      "dropout (Dropout)            (None, 124, 124, 64)      0         \n",
      "_________________________________________________________________\n",
      "conv2d_1 (Conv2D)            (None, 122, 122, 128)     73856     \n",
      "_________________________________________________________________\n",
      "leaky_re_lu_1 (LeakyReLU)    (None, 122, 122, 128)     0         \n",
      "_________________________________________________________________\n",
      "max_pooling2d_1 (MaxPooling2 (None, 61, 61, 128)       0         \n",
      "_________________________________________________________________\n",
      "dropout_1 (Dropout)          (None, 61, 61, 128)       0         \n",
      "=================================================================\n",
      "Total params: 75,648\n",
      "Trainable params: 75,648\n",
      "Non-trainable params: 0\n",
      "_________________________________________________________________\n"
     ]
    }
   ],
   "source": [
    "model.summary()"
   ]
  },
  {
   "cell_type": "code",
   "execution_count": 10,
   "metadata": {},
   "outputs": [],
   "source": [
    "model.add(layers.Flatten())\n",
    "\n",
    "model.add(layers.Dense(256, activation = \"relu\"))\n",
    "\n",
    "model.add(layers.Dense(128, activation = \"relu\"))\n",
    "\n",
    "model.add(LeakyReLU( alpha = leaky_relu_alpha))\n",
    "\n",
    "model.add(layers.Dense(2, activation = \"softmax\"))"
   ]
  },
  {
   "cell_type": "code",
   "execution_count": 11,
   "metadata": {},
   "outputs": [
    {
     "name": "stdout",
     "output_type": "stream",
     "text": [
      "Model: \"sequential\"\n",
      "_________________________________________________________________\n",
      "Layer (type)                 Output Shape              Param #   \n",
      "=================================================================\n",
      "conv2d (Conv2D)              (None, 248, 248, 64)      1792      \n",
      "_________________________________________________________________\n",
      "leaky_re_lu (LeakyReLU)      (None, 248, 248, 64)      0         \n",
      "_________________________________________________________________\n",
      "max_pooling2d (MaxPooling2D) (None, 124, 124, 64)      0         \n",
      "_________________________________________________________________\n",
      "dropout (Dropout)            (None, 124, 124, 64)      0         \n",
      "_________________________________________________________________\n",
      "conv2d_1 (Conv2D)            (None, 122, 122, 128)     73856     \n",
      "_________________________________________________________________\n",
      "leaky_re_lu_1 (LeakyReLU)    (None, 122, 122, 128)     0         \n",
      "_________________________________________________________________\n",
      "max_pooling2d_1 (MaxPooling2 (None, 61, 61, 128)       0         \n",
      "_________________________________________________________________\n",
      "dropout_1 (Dropout)          (None, 61, 61, 128)       0         \n",
      "_________________________________________________________________\n",
      "flatten (Flatten)            (None, 476288)            0         \n",
      "_________________________________________________________________\n",
      "dense (Dense)                (None, 256)               121929984 \n",
      "_________________________________________________________________\n",
      "dense_1 (Dense)              (None, 128)               32896     \n",
      "_________________________________________________________________\n",
      "leaky_re_lu_2 (LeakyReLU)    (None, 128)               0         \n",
      "_________________________________________________________________\n",
      "dense_2 (Dense)              (None, 2)                 258       \n",
      "=================================================================\n",
      "Total params: 122,038,786\n",
      "Trainable params: 122,038,786\n",
      "Non-trainable params: 0\n",
      "_________________________________________________________________\n"
     ]
    }
   ],
   "source": [
    "model.summary()"
   ]
  },
  {
   "cell_type": "code",
   "execution_count": 12,
   "metadata": {},
   "outputs": [],
   "source": [
    "model.compile( optimizer = \"adam\",\n",
    "               loss = tf.keras.losses.mean_squared_error,\n",
    "               metrics = ['accuracy'])"
   ]
  },
  {
   "cell_type": "code",
   "execution_count": 13,
   "metadata": {},
   "outputs": [
    {
     "name": "stdout",
     "output_type": "stream",
     "text": [
      "Epoch 1/10\n"
     ]
    },
    {
     "ename": "ResourceExhaustedError",
     "evalue": " OOM when allocating tensor with shape[476288,256] and type float on /job:localhost/replica:0/task:0/device:GPU:0 by allocator GPU_0_bfc\n\t [[node gradient_tape/sequential/dense/MatMul_1 (defined at <ipython-input-13-20bc0788f28e>:1) ]]\nHint: If you want to see a list of allocated tensors when OOM happens, add report_tensor_allocations_upon_oom to RunOptions for current allocation info.\n [Op:__inference_train_function_986]\n\nFunction call stack:\ntrain_function\n",
     "output_type": "error",
     "traceback": [
      "\u001b[1;31m---------------------------------------------------------------------------\u001b[0m",
      "\u001b[1;31mResourceExhaustedError\u001b[0m                    Traceback (most recent call last)",
      "\u001b[1;32m<ipython-input-13-20bc0788f28e>\u001b[0m in \u001b[0;36m<module>\u001b[1;34m\u001b[0m\n\u001b[1;32m----> 1\u001b[1;33m history = model.fit( train_generator,\n\u001b[0m\u001b[0;32m      2\u001b[0m                      \u001b[0mepochs\u001b[0m \u001b[1;33m=\u001b[0m \u001b[1;36m10\u001b[0m\u001b[1;33m,\u001b[0m\u001b[1;33m\u001b[0m\u001b[1;33m\u001b[0m\u001b[0m\n\u001b[0;32m      3\u001b[0m                      \u001b[0mbatch_size\u001b[0m \u001b[1;33m=\u001b[0m \u001b[1;36m32\u001b[0m\u001b[1;33m,\u001b[0m\u001b[1;33m\u001b[0m\u001b[1;33m\u001b[0m\u001b[0m\n\u001b[0;32m      4\u001b[0m                      validation_data = validation_generator)\n",
      "\u001b[1;32m~\\anaconda3\\envs\\tensorflow\\lib\\site-packages\\tensorflow\\python\\keras\\engine\\training.py\u001b[0m in \u001b[0;36m_method_wrapper\u001b[1;34m(self, *args, **kwargs)\u001b[0m\n\u001b[0;32m    106\u001b[0m   \u001b[1;32mdef\u001b[0m \u001b[0m_method_wrapper\u001b[0m\u001b[1;33m(\u001b[0m\u001b[0mself\u001b[0m\u001b[1;33m,\u001b[0m \u001b[1;33m*\u001b[0m\u001b[0margs\u001b[0m\u001b[1;33m,\u001b[0m \u001b[1;33m**\u001b[0m\u001b[0mkwargs\u001b[0m\u001b[1;33m)\u001b[0m\u001b[1;33m:\u001b[0m\u001b[1;33m\u001b[0m\u001b[1;33m\u001b[0m\u001b[0m\n\u001b[0;32m    107\u001b[0m     \u001b[1;32mif\u001b[0m \u001b[1;32mnot\u001b[0m \u001b[0mself\u001b[0m\u001b[1;33m.\u001b[0m\u001b[0m_in_multi_worker_mode\u001b[0m\u001b[1;33m(\u001b[0m\u001b[1;33m)\u001b[0m\u001b[1;33m:\u001b[0m  \u001b[1;31m# pylint: disable=protected-access\u001b[0m\u001b[1;33m\u001b[0m\u001b[1;33m\u001b[0m\u001b[0m\n\u001b[1;32m--> 108\u001b[1;33m       \u001b[1;32mreturn\u001b[0m \u001b[0mmethod\u001b[0m\u001b[1;33m(\u001b[0m\u001b[0mself\u001b[0m\u001b[1;33m,\u001b[0m \u001b[1;33m*\u001b[0m\u001b[0margs\u001b[0m\u001b[1;33m,\u001b[0m \u001b[1;33m**\u001b[0m\u001b[0mkwargs\u001b[0m\u001b[1;33m)\u001b[0m\u001b[1;33m\u001b[0m\u001b[1;33m\u001b[0m\u001b[0m\n\u001b[0m\u001b[0;32m    109\u001b[0m \u001b[1;33m\u001b[0m\u001b[0m\n\u001b[0;32m    110\u001b[0m     \u001b[1;31m# Running inside `run_distribute_coordinator` already.\u001b[0m\u001b[1;33m\u001b[0m\u001b[1;33m\u001b[0m\u001b[1;33m\u001b[0m\u001b[0m\n",
      "\u001b[1;32m~\\anaconda3\\envs\\tensorflow\\lib\\site-packages\\tensorflow\\python\\keras\\engine\\training.py\u001b[0m in \u001b[0;36mfit\u001b[1;34m(self, x, y, batch_size, epochs, verbose, callbacks, validation_split, validation_data, shuffle, class_weight, sample_weight, initial_epoch, steps_per_epoch, validation_steps, validation_batch_size, validation_freq, max_queue_size, workers, use_multiprocessing)\u001b[0m\n\u001b[0;32m   1096\u001b[0m                 batch_size=batch_size):\n\u001b[0;32m   1097\u001b[0m               \u001b[0mcallbacks\u001b[0m\u001b[1;33m.\u001b[0m\u001b[0mon_train_batch_begin\u001b[0m\u001b[1;33m(\u001b[0m\u001b[0mstep\u001b[0m\u001b[1;33m)\u001b[0m\u001b[1;33m\u001b[0m\u001b[1;33m\u001b[0m\u001b[0m\n\u001b[1;32m-> 1098\u001b[1;33m               \u001b[0mtmp_logs\u001b[0m \u001b[1;33m=\u001b[0m \u001b[0mtrain_function\u001b[0m\u001b[1;33m(\u001b[0m\u001b[0miterator\u001b[0m\u001b[1;33m)\u001b[0m\u001b[1;33m\u001b[0m\u001b[1;33m\u001b[0m\u001b[0m\n\u001b[0m\u001b[0;32m   1099\u001b[0m               \u001b[1;32mif\u001b[0m \u001b[0mdata_handler\u001b[0m\u001b[1;33m.\u001b[0m\u001b[0mshould_sync\u001b[0m\u001b[1;33m:\u001b[0m\u001b[1;33m\u001b[0m\u001b[1;33m\u001b[0m\u001b[0m\n\u001b[0;32m   1100\u001b[0m                 \u001b[0mcontext\u001b[0m\u001b[1;33m.\u001b[0m\u001b[0masync_wait\u001b[0m\u001b[1;33m(\u001b[0m\u001b[1;33m)\u001b[0m\u001b[1;33m\u001b[0m\u001b[1;33m\u001b[0m\u001b[0m\n",
      "\u001b[1;32m~\\anaconda3\\envs\\tensorflow\\lib\\site-packages\\tensorflow\\python\\eager\\def_function.py\u001b[0m in \u001b[0;36m__call__\u001b[1;34m(self, *args, **kwds)\u001b[0m\n\u001b[0;32m    778\u001b[0m       \u001b[1;32melse\u001b[0m\u001b[1;33m:\u001b[0m\u001b[1;33m\u001b[0m\u001b[1;33m\u001b[0m\u001b[0m\n\u001b[0;32m    779\u001b[0m         \u001b[0mcompiler\u001b[0m \u001b[1;33m=\u001b[0m \u001b[1;34m\"nonXla\"\u001b[0m\u001b[1;33m\u001b[0m\u001b[1;33m\u001b[0m\u001b[0m\n\u001b[1;32m--> 780\u001b[1;33m         \u001b[0mresult\u001b[0m \u001b[1;33m=\u001b[0m \u001b[0mself\u001b[0m\u001b[1;33m.\u001b[0m\u001b[0m_call\u001b[0m\u001b[1;33m(\u001b[0m\u001b[1;33m*\u001b[0m\u001b[0margs\u001b[0m\u001b[1;33m,\u001b[0m \u001b[1;33m**\u001b[0m\u001b[0mkwds\u001b[0m\u001b[1;33m)\u001b[0m\u001b[1;33m\u001b[0m\u001b[1;33m\u001b[0m\u001b[0m\n\u001b[0m\u001b[0;32m    781\u001b[0m \u001b[1;33m\u001b[0m\u001b[0m\n\u001b[0;32m    782\u001b[0m       \u001b[0mnew_tracing_count\u001b[0m \u001b[1;33m=\u001b[0m \u001b[0mself\u001b[0m\u001b[1;33m.\u001b[0m\u001b[0m_get_tracing_count\u001b[0m\u001b[1;33m(\u001b[0m\u001b[1;33m)\u001b[0m\u001b[1;33m\u001b[0m\u001b[1;33m\u001b[0m\u001b[0m\n",
      "\u001b[1;32m~\\anaconda3\\envs\\tensorflow\\lib\\site-packages\\tensorflow\\python\\eager\\def_function.py\u001b[0m in \u001b[0;36m_call\u001b[1;34m(self, *args, **kwds)\u001b[0m\n\u001b[0;32m    838\u001b[0m         \u001b[1;31m# Lifting succeeded, so variables are initialized and we can run the\u001b[0m\u001b[1;33m\u001b[0m\u001b[1;33m\u001b[0m\u001b[1;33m\u001b[0m\u001b[0m\n\u001b[0;32m    839\u001b[0m         \u001b[1;31m# stateless function.\u001b[0m\u001b[1;33m\u001b[0m\u001b[1;33m\u001b[0m\u001b[1;33m\u001b[0m\u001b[0m\n\u001b[1;32m--> 840\u001b[1;33m         \u001b[1;32mreturn\u001b[0m \u001b[0mself\u001b[0m\u001b[1;33m.\u001b[0m\u001b[0m_stateless_fn\u001b[0m\u001b[1;33m(\u001b[0m\u001b[1;33m*\u001b[0m\u001b[0margs\u001b[0m\u001b[1;33m,\u001b[0m \u001b[1;33m**\u001b[0m\u001b[0mkwds\u001b[0m\u001b[1;33m)\u001b[0m\u001b[1;33m\u001b[0m\u001b[1;33m\u001b[0m\u001b[0m\n\u001b[0m\u001b[0;32m    841\u001b[0m     \u001b[1;32melse\u001b[0m\u001b[1;33m:\u001b[0m\u001b[1;33m\u001b[0m\u001b[1;33m\u001b[0m\u001b[0m\n\u001b[0;32m    842\u001b[0m       \u001b[0mcanon_args\u001b[0m\u001b[1;33m,\u001b[0m \u001b[0mcanon_kwds\u001b[0m \u001b[1;33m=\u001b[0m\u001b[0;31m \u001b[0m\u001b[0;31m\\\u001b[0m\u001b[1;33m\u001b[0m\u001b[1;33m\u001b[0m\u001b[0m\n",
      "\u001b[1;32m~\\anaconda3\\envs\\tensorflow\\lib\\site-packages\\tensorflow\\python\\eager\\function.py\u001b[0m in \u001b[0;36m__call__\u001b[1;34m(self, *args, **kwargs)\u001b[0m\n\u001b[0;32m   2827\u001b[0m     \u001b[1;32mwith\u001b[0m \u001b[0mself\u001b[0m\u001b[1;33m.\u001b[0m\u001b[0m_lock\u001b[0m\u001b[1;33m:\u001b[0m\u001b[1;33m\u001b[0m\u001b[1;33m\u001b[0m\u001b[0m\n\u001b[0;32m   2828\u001b[0m       \u001b[0mgraph_function\u001b[0m\u001b[1;33m,\u001b[0m \u001b[0margs\u001b[0m\u001b[1;33m,\u001b[0m \u001b[0mkwargs\u001b[0m \u001b[1;33m=\u001b[0m \u001b[0mself\u001b[0m\u001b[1;33m.\u001b[0m\u001b[0m_maybe_define_function\u001b[0m\u001b[1;33m(\u001b[0m\u001b[0margs\u001b[0m\u001b[1;33m,\u001b[0m \u001b[0mkwargs\u001b[0m\u001b[1;33m)\u001b[0m\u001b[1;33m\u001b[0m\u001b[1;33m\u001b[0m\u001b[0m\n\u001b[1;32m-> 2829\u001b[1;33m     \u001b[1;32mreturn\u001b[0m \u001b[0mgraph_function\u001b[0m\u001b[1;33m.\u001b[0m\u001b[0m_filtered_call\u001b[0m\u001b[1;33m(\u001b[0m\u001b[0margs\u001b[0m\u001b[1;33m,\u001b[0m \u001b[0mkwargs\u001b[0m\u001b[1;33m)\u001b[0m  \u001b[1;31m# pylint: disable=protected-access\u001b[0m\u001b[1;33m\u001b[0m\u001b[1;33m\u001b[0m\u001b[0m\n\u001b[0m\u001b[0;32m   2830\u001b[0m \u001b[1;33m\u001b[0m\u001b[0m\n\u001b[0;32m   2831\u001b[0m   \u001b[1;33m@\u001b[0m\u001b[0mproperty\u001b[0m\u001b[1;33m\u001b[0m\u001b[1;33m\u001b[0m\u001b[0m\n",
      "\u001b[1;32m~\\anaconda3\\envs\\tensorflow\\lib\\site-packages\\tensorflow\\python\\eager\\function.py\u001b[0m in \u001b[0;36m_filtered_call\u001b[1;34m(self, args, kwargs, cancellation_manager)\u001b[0m\n\u001b[0;32m   1841\u001b[0m       \u001b[0;31m`\u001b[0m\u001b[0margs\u001b[0m\u001b[0;31m`\u001b[0m \u001b[1;32mand\u001b[0m\u001b[0;31m \u001b[0m\u001b[0;31m`\u001b[0m\u001b[0mkwargs\u001b[0m\u001b[0;31m`\u001b[0m\u001b[1;33m.\u001b[0m\u001b[1;33m\u001b[0m\u001b[1;33m\u001b[0m\u001b[0m\n\u001b[0;32m   1842\u001b[0m     \"\"\"\n\u001b[1;32m-> 1843\u001b[1;33m     return self._call_flat(\n\u001b[0m\u001b[0;32m   1844\u001b[0m         [t for t in nest.flatten((args, kwargs), expand_composites=True)\n\u001b[0;32m   1845\u001b[0m          if isinstance(t, (ops.Tensor,\n",
      "\u001b[1;32m~\\anaconda3\\envs\\tensorflow\\lib\\site-packages\\tensorflow\\python\\eager\\function.py\u001b[0m in \u001b[0;36m_call_flat\u001b[1;34m(self, args, captured_inputs, cancellation_manager)\u001b[0m\n\u001b[0;32m   1921\u001b[0m         and executing_eagerly):\n\u001b[0;32m   1922\u001b[0m       \u001b[1;31m# No tape is watching; skip to running the function.\u001b[0m\u001b[1;33m\u001b[0m\u001b[1;33m\u001b[0m\u001b[1;33m\u001b[0m\u001b[0m\n\u001b[1;32m-> 1923\u001b[1;33m       return self._build_call_outputs(self._inference_function.call(\n\u001b[0m\u001b[0;32m   1924\u001b[0m           ctx, args, cancellation_manager=cancellation_manager))\n\u001b[0;32m   1925\u001b[0m     forward_backward = self._select_forward_and_backward_functions(\n",
      "\u001b[1;32m~\\anaconda3\\envs\\tensorflow\\lib\\site-packages\\tensorflow\\python\\eager\\function.py\u001b[0m in \u001b[0;36mcall\u001b[1;34m(self, ctx, args, cancellation_manager)\u001b[0m\n\u001b[0;32m    543\u001b[0m       \u001b[1;32mwith\u001b[0m \u001b[0m_InterpolateFunctionError\u001b[0m\u001b[1;33m(\u001b[0m\u001b[0mself\u001b[0m\u001b[1;33m)\u001b[0m\u001b[1;33m:\u001b[0m\u001b[1;33m\u001b[0m\u001b[1;33m\u001b[0m\u001b[0m\n\u001b[0;32m    544\u001b[0m         \u001b[1;32mif\u001b[0m \u001b[0mcancellation_manager\u001b[0m \u001b[1;32mis\u001b[0m \u001b[1;32mNone\u001b[0m\u001b[1;33m:\u001b[0m\u001b[1;33m\u001b[0m\u001b[1;33m\u001b[0m\u001b[0m\n\u001b[1;32m--> 545\u001b[1;33m           outputs = execute.execute(\n\u001b[0m\u001b[0;32m    546\u001b[0m               \u001b[0mstr\u001b[0m\u001b[1;33m(\u001b[0m\u001b[0mself\u001b[0m\u001b[1;33m.\u001b[0m\u001b[0msignature\u001b[0m\u001b[1;33m.\u001b[0m\u001b[0mname\u001b[0m\u001b[1;33m)\u001b[0m\u001b[1;33m,\u001b[0m\u001b[1;33m\u001b[0m\u001b[1;33m\u001b[0m\u001b[0m\n\u001b[0;32m    547\u001b[0m               \u001b[0mnum_outputs\u001b[0m\u001b[1;33m=\u001b[0m\u001b[0mself\u001b[0m\u001b[1;33m.\u001b[0m\u001b[0m_num_outputs\u001b[0m\u001b[1;33m,\u001b[0m\u001b[1;33m\u001b[0m\u001b[1;33m\u001b[0m\u001b[0m\n",
      "\u001b[1;32m~\\anaconda3\\envs\\tensorflow\\lib\\site-packages\\tensorflow\\python\\eager\\execute.py\u001b[0m in \u001b[0;36mquick_execute\u001b[1;34m(op_name, num_outputs, inputs, attrs, ctx, name)\u001b[0m\n\u001b[0;32m     57\u001b[0m   \u001b[1;32mtry\u001b[0m\u001b[1;33m:\u001b[0m\u001b[1;33m\u001b[0m\u001b[1;33m\u001b[0m\u001b[0m\n\u001b[0;32m     58\u001b[0m     \u001b[0mctx\u001b[0m\u001b[1;33m.\u001b[0m\u001b[0mensure_initialized\u001b[0m\u001b[1;33m(\u001b[0m\u001b[1;33m)\u001b[0m\u001b[1;33m\u001b[0m\u001b[1;33m\u001b[0m\u001b[0m\n\u001b[1;32m---> 59\u001b[1;33m     tensors = pywrap_tfe.TFE_Py_Execute(ctx._handle, device_name, op_name,\n\u001b[0m\u001b[0;32m     60\u001b[0m                                         inputs, attrs, num_outputs)\n\u001b[0;32m     61\u001b[0m   \u001b[1;32mexcept\u001b[0m \u001b[0mcore\u001b[0m\u001b[1;33m.\u001b[0m\u001b[0m_NotOkStatusException\u001b[0m \u001b[1;32mas\u001b[0m \u001b[0me\u001b[0m\u001b[1;33m:\u001b[0m\u001b[1;33m\u001b[0m\u001b[1;33m\u001b[0m\u001b[0m\n",
      "\u001b[1;31mResourceExhaustedError\u001b[0m:  OOM when allocating tensor with shape[476288,256] and type float on /job:localhost/replica:0/task:0/device:GPU:0 by allocator GPU_0_bfc\n\t [[node gradient_tape/sequential/dense/MatMul_1 (defined at <ipython-input-13-20bc0788f28e>:1) ]]\nHint: If you want to see a list of allocated tensors when OOM happens, add report_tensor_allocations_upon_oom to RunOptions for current allocation info.\n [Op:__inference_train_function_986]\n\nFunction call stack:\ntrain_function\n"
     ]
    }
   ],
   "source": [
    "history = model.fit( train_generator,\n",
    "                     epochs = 10,\n",
    "                     batch_size = 32,\n",
    "                     validation_data = validation_generator)"
   ]
  },
  {
   "cell_type": "markdown",
   "metadata": {},
   "source": [
    "## Predefined Model"
   ]
  },
  {
   "cell_type": "code",
   "execution_count": 14,
   "metadata": {},
   "outputs": [],
   "source": [
    "from tensorflow.keras.preprocessing import image_dataset_from_directory"
   ]
  },
  {
   "cell_type": "code",
   "execution_count": 15,
   "metadata": {},
   "outputs": [
    {
     "name": "stdout",
     "output_type": "stream",
     "text": [
      "Found 374 files belonging to 4 classes.\n"
     ]
    }
   ],
   "source": [
    "train_dataset = image_dataset_from_directory(\"C:\\\\Users\\\\adhim\\\\Desktop\\\\Compressed_Segmented1\\\\Train\",\n",
    "                                          image_size = (224, 224),\n",
    "                                          batch_size = 32,\n",
    "                                          shuffle = True\n",
    "                                          )                                         "
   ]
  },
  {
   "cell_type": "code",
   "execution_count": 16,
   "metadata": {},
   "outputs": [
    {
     "name": "stdout",
     "output_type": "stream",
     "text": [
      "Found 156 files belonging to 4 classes.\n"
     ]
    }
   ],
   "source": [
    "val_dataset = image_dataset_from_directory( \"C:\\\\Users\\\\adhim\\\\Desktop\\\\Compressed_Segmented1\\\\Validation\",\n",
    "                                                image_size = (224, 224),\n",
    "                                                batch_size = 32,\n",
    "                                                shuffle = True)"
   ]
  },
  {
   "cell_type": "code",
   "execution_count": 7,
   "metadata": {},
   "outputs": [],
   "source": [
    "data_augmentation = tf.keras.Sequential([\n",
    "    \n",
    "    tf.keras.layers.experimental.preprocessing.RandomFlip('horizontal'),\n",
    "    tf.keras.layers.experimental.preprocessing.RandomRotation(0.2)\n",
    "])"
   ]
  },
  {
   "cell_type": "code",
   "execution_count": 6,
   "metadata": {},
   "outputs": [
    {
     "data": {
      "image/png": "[encoded data removed]",
      "text/plain": [
       "<Figure size 720x720 with 9 Axes>"
      ]
     },
     "metadata": {
      "needs_background": "light"
     },
     "output_type": "display_data"
    }
   ],
   "source": [
    "class_name = train_dataset.class_names\n",
    "\n",
    "for images,_ in train_dataset.take(1):\n",
    "    plt.figure( figsize = (10, 10) )\n",
    "    first_image = images[0]\n",
    "    for i in range(9):\n",
    "        ax = plt.subplot(3, 3, i + 1)\n",
    "        augmented_image = data_augmentation( tf.expand_dims( first_image, 0))\n",
    "        plt.imshow(augmented_image[0] / 255)\n",
    "        plt.axis('off')\n",
    "        "
   ]
  },
  {
   "cell_type": "code",
   "execution_count": 8,
   "metadata": {},
   "outputs": [],
   "source": [
    "preprocess_input = tf.keras.applications.resnet.preprocess_input"
   ]
  },
  {
   "cell_type": "code",
   "execution_count": 9,
   "metadata": {},
   "outputs": [],
   "source": [
    "# Create a base model from ResNet pre trained model\n",
    "\n",
    "IMG_SHAPE = (224, 244) + (3,)\n",
    "base_model = tf.keras.applications.ResNet50(input_shape = IMG_SHAPE,\n",
    "                                            include_top = False,\n",
    "                                            weights = 'imagenet')"
   ]
  },
  {
   "cell_type": "code",
   "execution_count": 10,
   "metadata": {},
   "outputs": [],
   "source": [
    "image_batch, label_batch = next(iter(train_dataset))\n",
    "\n",
    "feature_batch = base_model(image_batch)"
   ]
  },
  {
   "cell_type": "code",
   "execution_count": 11,
   "metadata": {},
   "outputs": [],
   "source": [
    "# Freeze the base convolutional base\n",
    "\n",
    "base_model.trainable = False"
   ]
  },
  {
   "cell_type": "code",
   "execution_count": 12,
   "metadata": {},
   "outputs": [
    {
     "name": "stdout",
     "output_type": "stream",
     "text": [
      "Model: \"resnet50\"\n",
      "__________________________________________________________________________________________________\n",
      "Layer (type)                    Output Shape         Param #     Connected to                     \n",
      "==================================================================================================\n",
      "input_1 (InputLayer)            [(None, 224, 244, 3) 0                                            \n",
      "__________________________________________________________________________________________________\n",
      "conv1_pad (ZeroPadding2D)       (None, 230, 250, 3)  0           input_1[0][0]                    \n",
      "__________________________________________________________________________________________________\n",
      "conv1_conv (Conv2D)             (None, 112, 122, 64) 9472        conv1_pad[0][0]                  \n",
      "__________________________________________________________________________________________________\n",
      "conv1_bn (BatchNormalization)   (None, 112, 122, 64) 256         conv1_conv[0][0]                 \n",
      "__________________________________________________________________________________________________\n",
      "conv1_relu (Activation)         (None, 112, 122, 64) 0           conv1_bn[0][0]                   \n",
      "__________________________________________________________________________________________________\n",
      "pool1_pad (ZeroPadding2D)       (None, 114, 124, 64) 0           conv1_relu[0][0]                 \n",
      "__________________________________________________________________________________________________\n",
      "pool1_pool (MaxPooling2D)       (None, 56, 61, 64)   0           pool1_pad[0][0]                  \n",
      "__________________________________________________________________________________________________\n",
      "conv2_block1_1_conv (Conv2D)    (None, 56, 61, 64)   4160        pool1_pool[0][0]                 \n",
      "__________________________________________________________________________________________________\n",
      "conv2_block1_1_bn (BatchNormali (None, 56, 61, 64)   256         conv2_block1_1_conv[0][0]        \n",
      "__________________________________________________________________________________________________\n",
      "conv2_block1_1_relu (Activation (None, 56, 61, 64)   0           conv2_block1_1_bn[0][0]          \n",
      "__________________________________________________________________________________________________\n",
      "conv2_block1_2_conv (Conv2D)    (None, 56, 61, 64)   36928       conv2_block1_1_relu[0][0]        \n",
      "__________________________________________________________________________________________________\n",
      "conv2_block1_2_bn (BatchNormali (None, 56, 61, 64)   256         conv2_block1_2_conv[0][0]        \n",
      "__________________________________________________________________________________________________\n",
      "conv2_block1_2_relu (Activation (None, 56, 61, 64)   0           conv2_block1_2_bn[0][0]          \n",
      "__________________________________________________________________________________________________\n",
      "conv2_block1_0_conv (Conv2D)    (None, 56, 61, 256)  16640       pool1_pool[0][0]                 \n",
      "__________________________________________________________________________________________________\n",
      "conv2_block1_3_conv (Conv2D)    (None, 56, 61, 256)  16640       conv2_block1_2_relu[0][0]        \n",
      "__________________________________________________________________________________________________\n",
      "conv2_block1_0_bn (BatchNormali (None, 56, 61, 256)  1024        conv2_block1_0_conv[0][0]        \n",
      "__________________________________________________________________________________________________\n",
      "conv2_block1_3_bn (BatchNormali (None, 56, 61, 256)  1024        conv2_block1_3_conv[0][0]        \n",
      "__________________________________________________________________________________________________\n",
      "conv2_block1_add (Add)          (None, 56, 61, 256)  0           conv2_block1_0_bn[0][0]          \n",
      "                                                                 conv2_block1_3_bn[0][0]          \n",
      "__________________________________________________________________________________________________\n",
      "conv2_block1_out (Activation)   (None, 56, 61, 256)  0           conv2_block1_add[0][0]           \n",
      "__________________________________________________________________________________________________\n",
      "conv2_block2_1_conv (Conv2D)    (None, 56, 61, 64)   16448       conv2_block1_out[0][0]           \n",
      "__________________________________________________________________________________________________\n",
      "conv2_block2_1_bn (BatchNormali (None, 56, 61, 64)   256         conv2_block2_1_conv[0][0]        \n",
      "__________________________________________________________________________________________________\n",
      "conv2_block2_1_relu (Activation (None, 56, 61, 64)   0           conv2_block2_1_bn[0][0]          \n",
      "__________________________________________________________________________________________________\n",
      "conv2_block2_2_conv (Conv2D)    (None, 56, 61, 64)   36928       conv2_block2_1_relu[0][0]        \n",
      "__________________________________________________________________________________________________\n",
      "conv2_block2_2_bn (BatchNormali (None, 56, 61, 64)   256         conv2_block2_2_conv[0][0]        \n",
      "__________________________________________________________________________________________________\n",
      "conv2_block2_2_relu (Activation (None, 56, 61, 64)   0           conv2_block2_2_bn[0][0]          \n",
      "__________________________________________________________________________________________________\n",
      "conv2_block2_3_conv (Conv2D)    (None, 56, 61, 256)  16640       conv2_block2_2_relu[0][0]        \n",
      "__________________________________________________________________________________________________\n",
      "conv2_block2_3_bn (BatchNormali (None, 56, 61, 256)  1024        conv2_block2_3_conv[0][0]        \n",
      "__________________________________________________________________________________________________\n",
      "conv2_block2_add (Add)          (None, 56, 61, 256)  0           conv2_block1_out[0][0]           \n",
      "                                                                 conv2_block2_3_bn[0][0]          \n",
      "__________________________________________________________________________________________________\n",
      "conv2_block2_out (Activation)   (None, 56, 61, 256)  0           conv2_block2_add[0][0]           \n",
      "__________________________________________________________________________________________________\n",
      "conv2_block3_1_conv (Conv2D)    (None, 56, 61, 64)   16448       conv2_block2_out[0][0]           \n",
      "__________________________________________________________________________________________________\n",
      "conv2_block3_1_bn (BatchNormali (None, 56, 61, 64)   256         conv2_block3_1_conv[0][0]        \n",
      "__________________________________________________________________________________________________\n",
      "conv2_block3_1_relu (Activation (None, 56, 61, 64)   0           conv2_block3_1_bn[0][0]          \n",
      "__________________________________________________________________________________________________\n",
      "conv2_block3_2_conv (Conv2D)    (None, 56, 61, 64)   36928       conv2_block3_1_relu[0][0]        \n",
      "__________________________________________________________________________________________________\n",
      "conv2_block3_2_bn (BatchNormali (None, 56, 61, 64)   256         conv2_block3_2_conv[0][0]        \n",
      "__________________________________________________________________________________________________\n",
      "conv2_block3_2_relu (Activation (None, 56, 61, 64)   0           conv2_block3_2_bn[0][0]          \n",
      "__________________________________________________________________________________________________\n",
      "conv2_block3_3_conv (Conv2D)    (None, 56, 61, 256)  16640       conv2_block3_2_relu[0][0]        \n",
      "__________________________________________________________________________________________________\n",
      "conv2_block3_3_bn (BatchNormali (None, 56, 61, 256)  1024        conv2_block3_3_conv[0][0]        \n",
      "__________________________________________________________________________________________________\n",
      "conv2_block3_add (Add)          (None, 56, 61, 256)  0           conv2_block2_out[0][0]           \n",
      "                                                                 conv2_block3_3_bn[0][0]          \n",
      "__________________________________________________________________________________________________\n",
      "conv2_block3_out (Activation)   (None, 56, 61, 256)  0           conv2_block3_add[0][0]           \n",
      "__________________________________________________________________________________________________\n",
      "conv3_block1_1_conv (Conv2D)    (None, 28, 31, 128)  32896       conv2_block3_out[0][0]           \n",
      "__________________________________________________________________________________________________\n",
      "conv3_block1_1_bn (BatchNormali (None, 28, 31, 128)  512         conv3_block1_1_conv[0][0]        \n",
      "__________________________________________________________________________________________________\n",
      "conv3_block1_1_relu (Activation (None, 28, 31, 128)  0           conv3_block1_1_bn[0][0]          \n",
      "__________________________________________________________________________________________________\n",
      "conv3_block1_2_conv (Conv2D)    (None, 28, 31, 128)  147584      conv3_block1_1_relu[0][0]        \n",
      "__________________________________________________________________________________________________\n",
      "conv3_block1_2_bn (BatchNormali (None, 28, 31, 128)  512         conv3_block1_2_conv[0][0]        \n",
      "__________________________________________________________________________________________________\n",
      "conv3_block1_2_relu (Activation (None, 28, 31, 128)  0           conv3_block1_2_bn[0][0]          \n",
      "__________________________________________________________________________________________________\n",
      "conv3_block1_0_conv (Conv2D)    (None, 28, 31, 512)  131584      conv2_block3_out[0][0]           \n",
      "__________________________________________________________________________________________________\n",
      "conv3_block1_3_conv (Conv2D)    (None, 28, 31, 512)  66048       conv3_block1_2_relu[0][0]        \n",
      "__________________________________________________________________________________________________\n",
      "conv3_block1_0_bn (BatchNormali (None, 28, 31, 512)  2048        conv3_block1_0_conv[0][0]        \n",
      "__________________________________________________________________________________________________\n",
      "conv3_block1_3_bn (BatchNormali (None, 28, 31, 512)  2048        conv3_block1_3_conv[0][0]        \n",
      "__________________________________________________________________________________________________\n",
      "conv3_block1_add (Add)          (None, 28, 31, 512)  0           conv3_block1_0_bn[0][0]          \n",
      "                                                                 conv3_block1_3_bn[0][0]          \n",
      "__________________________________________________________________________________________________\n",
      "conv3_block1_out (Activation)   (None, 28, 31, 512)  0           conv3_block1_add[0][0]           \n",
      "__________________________________________________________________________________________________\n",
      "conv3_block2_1_conv (Conv2D)    (None, 28, 31, 128)  65664       conv3_block1_out[0][0]           \n",
      "__________________________________________________________________________________________________\n",
      "conv3_block2_1_bn (BatchNormali (None, 28, 31, 128)  512         conv3_block2_1_conv[0][0]        \n",
      "__________________________________________________________________________________________________\n",
      "conv3_block2_1_relu (Activation (None, 28, 31, 128)  0           conv3_block2_1_bn[0][0]          \n",
      "__________________________________________________________________________________________________\n",
      "conv3_block2_2_conv (Conv2D)    (None, 28, 31, 128)  147584      conv3_block2_1_relu[0][0]        \n",
      "__________________________________________________________________________________________________\n",
      "conv3_block2_2_bn (BatchNormali (None, 28, 31, 128)  512         conv3_block2_2_conv[0][0]        \n",
      "__________________________________________________________________________________________________\n",
      "conv3_block2_2_relu (Activation (None, 28, 31, 128)  0           conv3_block2_2_bn[0][0]          \n",
      "__________________________________________________________________________________________________\n",
      "conv3_block2_3_conv (Conv2D)    (None, 28, 31, 512)  66048       conv3_block2_2_relu[0][0]        \n",
      "__________________________________________________________________________________________________\n",
      "conv3_block2_3_bn (BatchNormali (None, 28, 31, 512)  2048        conv3_block2_3_conv[0][0]        \n",
      "__________________________________________________________________________________________________\n",
      "conv3_block2_add (Add)          (None, 28, 31, 512)  0           conv3_block1_out[0][0]           \n",
      "                                                                 conv3_block2_3_bn[0][0]          \n",
      "__________________________________________________________________________________________________\n",
      "conv3_block2_out (Activation)   (None, 28, 31, 512)  0           conv3_block2_add[0][0]           \n",
      "__________________________________________________________________________________________________\n",
      "conv3_block3_1_conv (Conv2D)    (None, 28, 31, 128)  65664       conv3_block2_out[0][0]           \n",
      "__________________________________________________________________________________________________\n",
      "conv3_block3_1_bn (BatchNormali (None, 28, 31, 128)  512         conv3_block3_1_conv[0][0]        \n",
      "__________________________________________________________________________________________________\n",
      "conv3_block3_1_relu (Activation (None, 28, 31, 128)  0           conv3_block3_1_bn[0][0]          \n",
      "__________________________________________________________________________________________________\n",
      "conv3_block3_2_conv (Conv2D)    (None, 28, 31, 128)  147584      conv3_block3_1_relu[0][0]        \n",
      "__________________________________________________________________________________________________\n",
      "conv3_block3_2_bn (BatchNormali (None, 28, 31, 128)  512         conv3_block3_2_conv[0][0]        \n",
      "__________________________________________________________________________________________________\n",
      "conv3_block3_2_relu (Activation (None, 28, 31, 128)  0           conv3_block3_2_bn[0][0]          \n",
      "__________________________________________________________________________________________________\n",
      "conv3_block3_3_conv (Conv2D)    (None, 28, 31, 512)  66048       conv3_block3_2_relu[0][0]        \n",
      "__________________________________________________________________________________________________\n",
      "conv3_block3_3_bn (BatchNormali (None, 28, 31, 512)  2048        conv3_block3_3_conv[0][0]        \n",
      "__________________________________________________________________________________________________\n",
      "conv3_block3_add (Add)          (None, 28, 31, 512)  0           conv3_block2_out[0][0]           \n",
      "                                                                 conv3_block3_3_bn[0][0]          \n",
      "__________________________________________________________________________________________________\n",
      "conv3_block3_out (Activation)   (None, 28, 31, 512)  0           conv3_block3_add[0][0]           \n",
      "__________________________________________________________________________________________________\n",
      "conv3_block4_1_conv (Conv2D)    (None, 28, 31, 128)  65664       conv3_block3_out[0][0]           \n",
      "__________________________________________________________________________________________________\n",
      "conv3_block4_1_bn (BatchNormali (None, 28, 31, 128)  512         conv3_block4_1_conv[0][0]        \n",
      "__________________________________________________________________________________________________\n",
      "conv3_block4_1_relu (Activation (None, 28, 31, 128)  0           conv3_block4_1_bn[0][0]          \n",
      "__________________________________________________________________________________________________\n",
      "conv3_block4_2_conv (Conv2D)    (None, 28, 31, 128)  147584      conv3_block4_1_relu[0][0]        \n",
      "__________________________________________________________________________________________________\n",
      "conv3_block4_2_bn (BatchNormali (None, 28, 31, 128)  512         conv3_block4_2_conv[0][0]        \n",
      "__________________________________________________________________________________________________\n",
      "conv3_block4_2_relu (Activation (None, 28, 31, 128)  0           conv3_block4_2_bn[0][0]          \n",
      "__________________________________________________________________________________________________\n",
      "conv3_block4_3_conv (Conv2D)    (None, 28, 31, 512)  66048       conv3_block4_2_relu[0][0]        \n",
      "__________________________________________________________________________________________________\n",
      "conv3_block4_3_bn (BatchNormali (None, 28, 31, 512)  2048        conv3_block4_3_conv[0][0]        \n",
      "__________________________________________________________________________________________________\n",
      "conv3_block4_add (Add)          (None, 28, 31, 512)  0           conv3_block3_out[0][0]           \n",
      "                                                                 conv3_block4_3_bn[0][0]          \n",
      "__________________________________________________________________________________________________\n",
      "conv3_block4_out (Activation)   (None, 28, 31, 512)  0           conv3_block4_add[0][0]           \n",
      "__________________________________________________________________________________________________\n",
      "conv4_block1_1_conv (Conv2D)    (None, 14, 16, 256)  131328      conv3_block4_out[0][0]           \n",
      "__________________________________________________________________________________________________\n",
      "conv4_block1_1_bn (BatchNormali (None, 14, 16, 256)  1024        conv4_block1_1_conv[0][0]        \n",
      "__________________________________________________________________________________________________\n",
      "conv4_block1_1_relu (Activation (None, 14, 16, 256)  0           conv4_block1_1_bn[0][0]          \n",
      "__________________________________________________________________________________________________\n",
      "conv4_block1_2_conv (Conv2D)    (None, 14, 16, 256)  590080      conv4_block1_1_relu[0][0]        \n",
      "__________________________________________________________________________________________________\n",
      "conv4_block1_2_bn (BatchNormali (None, 14, 16, 256)  1024        conv4_block1_2_conv[0][0]        \n",
      "__________________________________________________________________________________________________\n",
      "conv4_block1_2_relu (Activation (None, 14, 16, 256)  0           conv4_block1_2_bn[0][0]          \n",
      "__________________________________________________________________________________________________\n",
      "conv4_block1_0_conv (Conv2D)    (None, 14, 16, 1024) 525312      conv3_block4_out[0][0]           \n",
      "__________________________________________________________________________________________________\n",
      "conv4_block1_3_conv (Conv2D)    (None, 14, 16, 1024) 263168      conv4_block1_2_relu[0][0]        \n",
      "__________________________________________________________________________________________________\n",
      "conv4_block1_0_bn (BatchNormali (None, 14, 16, 1024) 4096        conv4_block1_0_conv[0][0]        \n",
      "__________________________________________________________________________________________________\n",
      "conv4_block1_3_bn (BatchNormali (None, 14, 16, 1024) 4096        conv4_block1_3_conv[0][0]        \n",
      "__________________________________________________________________________________________________\n",
      "conv4_block1_add (Add)          (None, 14, 16, 1024) 0           conv4_block1_0_bn[0][0]          \n",
      "                                                                 conv4_block1_3_bn[0][0]          \n",
      "__________________________________________________________________________________________________\n",
      "conv4_block1_out (Activation)   (None, 14, 16, 1024) 0           conv4_block1_add[0][0]           \n",
      "__________________________________________________________________________________________________\n",
      "conv4_block2_1_conv (Conv2D)    (None, 14, 16, 256)  262400      conv4_block1_out[0][0]           \n",
      "__________________________________________________________________________________________________\n",
      "conv4_block2_1_bn (BatchNormali (None, 14, 16, 256)  1024        conv4_block2_1_conv[0][0]        \n",
      "__________________________________________________________________________________________________\n",
      "conv4_block2_1_relu (Activation (None, 14, 16, 256)  0           conv4_block2_1_bn[0][0]          \n",
      "__________________________________________________________________________________________________\n",
      "conv4_block2_2_conv (Conv2D)    (None, 14, 16, 256)  590080      conv4_block2_1_relu[0][0]        \n",
      "__________________________________________________________________________________________________\n",
      "conv4_block2_2_bn (BatchNormali (None, 14, 16, 256)  1024        conv4_block2_2_conv[0][0]        \n",
      "__________________________________________________________________________________________________\n",
      "conv4_block2_2_relu (Activation (None, 14, 16, 256)  0           conv4_block2_2_bn[0][0]          \n",
      "__________________________________________________________________________________________________\n",
      "conv4_block2_3_conv (Conv2D)    (None, 14, 16, 1024) 263168      conv4_block2_2_relu[0][0]        \n",
      "__________________________________________________________________________________________________\n",
      "conv4_block2_3_bn (BatchNormali (None, 14, 16, 1024) 4096        conv4_block2_3_conv[0][0]        \n",
      "__________________________________________________________________________________________________\n",
      "conv4_block2_add (Add)          (None, 14, 16, 1024) 0           conv4_block1_out[0][0]           \n",
      "                                                                 conv4_block2_3_bn[0][0]          \n",
      "__________________________________________________________________________________________________\n",
      "conv4_block2_out (Activation)   (None, 14, 16, 1024) 0           conv4_block2_add[0][0]           \n",
      "__________________________________________________________________________________________________\n",
      "conv4_block3_1_conv (Conv2D)    (None, 14, 16, 256)  262400      conv4_block2_out[0][0]           \n",
      "__________________________________________________________________________________________________\n",
      "conv4_block3_1_bn (BatchNormali (None, 14, 16, 256)  1024        conv4_block3_1_conv[0][0]        \n",
      "__________________________________________________________________________________________________\n",
      "conv4_block3_1_relu (Activation (None, 14, 16, 256)  0           conv4_block3_1_bn[0][0]          \n",
      "__________________________________________________________________________________________________\n",
      "conv4_block3_2_conv (Conv2D)    (None, 14, 16, 256)  590080      conv4_block3_1_relu[0][0]        \n",
      "__________________________________________________________________________________________________\n",
      "conv4_block3_2_bn (BatchNormali (None, 14, 16, 256)  1024        conv4_block3_2_conv[0][0]        \n",
      "__________________________________________________________________________________________________\n",
      "conv4_block3_2_relu (Activation (None, 14, 16, 256)  0           conv4_block3_2_bn[0][0]          \n",
      "__________________________________________________________________________________________________\n",
      "conv4_block3_3_conv (Conv2D)    (None, 14, 16, 1024) 263168      conv4_block3_2_relu[0][0]        \n",
      "__________________________________________________________________________________________________\n",
      "conv4_block3_3_bn (BatchNormali (None, 14, 16, 1024) 4096        conv4_block3_3_conv[0][0]        \n",
      "__________________________________________________________________________________________________\n",
      "conv4_block3_add (Add)          (None, 14, 16, 1024) 0           conv4_block2_out[0][0]           \n",
      "                                                                 conv4_block3_3_bn[0][0]          \n",
      "__________________________________________________________________________________________________\n",
      "conv4_block3_out (Activation)   (None, 14, 16, 1024) 0           conv4_block3_add[0][0]           \n",
      "__________________________________________________________________________________________________\n",
      "conv4_block4_1_conv (Conv2D)    (None, 14, 16, 256)  262400      conv4_block3_out[0][0]           \n",
      "__________________________________________________________________________________________________\n",
      "conv4_block4_1_bn (BatchNormali (None, 14, 16, 256)  1024        conv4_block4_1_conv[0][0]        \n",
      "__________________________________________________________________________________________________\n",
      "conv4_block4_1_relu (Activation (None, 14, 16, 256)  0           conv4_block4_1_bn[0][0]          \n",
      "__________________________________________________________________________________________________\n",
      "conv4_block4_2_conv (Conv2D)    (None, 14, 16, 256)  590080      conv4_block4_1_relu[0][0]        \n",
      "__________________________________________________________________________________________________\n",
      "conv4_block4_2_bn (BatchNormali (None, 14, 16, 256)  1024        conv4_block4_2_conv[0][0]        \n",
      "__________________________________________________________________________________________________\n",
      "conv4_block4_2_relu (Activation (None, 14, 16, 256)  0           conv4_block4_2_bn[0][0]          \n",
      "__________________________________________________________________________________________________\n",
      "conv4_block4_3_conv (Conv2D)    (None, 14, 16, 1024) 263168      conv4_block4_2_relu[0][0]        \n",
      "__________________________________________________________________________________________________\n",
      "conv4_block4_3_bn (BatchNormali (None, 14, 16, 1024) 4096        conv4_block4_3_conv[0][0]        \n",
      "__________________________________________________________________________________________________\n",
      "conv4_block4_add (Add)          (None, 14, 16, 1024) 0           conv4_block3_out[0][0]           \n",
      "                                                                 conv4_block4_3_bn[0][0]          \n",
      "__________________________________________________________________________________________________\n",
      "conv4_block4_out (Activation)   (None, 14, 16, 1024) 0           conv4_block4_add[0][0]           \n",
      "__________________________________________________________________________________________________\n",
      "conv4_block5_1_conv (Conv2D)    (None, 14, 16, 256)  262400      conv4_block4_out[0][0]           \n",
      "__________________________________________________________________________________________________\n",
      "conv4_block5_1_bn (BatchNormali (None, 14, 16, 256)  1024        conv4_block5_1_conv[0][0]        \n",
      "__________________________________________________________________________________________________\n",
      "conv4_block5_1_relu (Activation (None, 14, 16, 256)  0           conv4_block5_1_bn[0][0]          \n",
      "__________________________________________________________________________________________________\n",
      "conv4_block5_2_conv (Conv2D)    (None, 14, 16, 256)  590080      conv4_block5_1_relu[0][0]        \n",
      "__________________________________________________________________________________________________\n",
      "conv4_block5_2_bn (BatchNormali (None, 14, 16, 256)  1024        conv4_block5_2_conv[0][0]        \n",
      "__________________________________________________________________________________________________\n",
      "conv4_block5_2_relu (Activation (None, 14, 16, 256)  0           conv4_block5_2_bn[0][0]          \n",
      "__________________________________________________________________________________________________\n",
      "conv4_block5_3_conv (Conv2D)    (None, 14, 16, 1024) 263168      conv4_block5_2_relu[0][0]        \n",
      "__________________________________________________________________________________________________\n",
      "conv4_block5_3_bn (BatchNormali (None, 14, 16, 1024) 4096        conv4_block5_3_conv[0][0]        \n",
      "__________________________________________________________________________________________________\n",
      "conv4_block5_add (Add)          (None, 14, 16, 1024) 0           conv4_block4_out[0][0]           \n",
      "                                                                 conv4_block5_3_bn[0][0]          \n",
      "__________________________________________________________________________________________________\n",
      "conv4_block5_out (Activation)   (None, 14, 16, 1024) 0           conv4_block5_add[0][0]           \n",
      "__________________________________________________________________________________________________\n",
      "conv4_block6_1_conv (Conv2D)    (None, 14, 16, 256)  262400      conv4_block5_out[0][0]           \n",
      "__________________________________________________________________________________________________\n",
      "conv4_block6_1_bn (BatchNormali (None, 14, 16, 256)  1024        conv4_block6_1_conv[0][0]        \n",
      "__________________________________________________________________________________________________\n",
      "conv4_block6_1_relu (Activation (None, 14, 16, 256)  0           conv4_block6_1_bn[0][0]          \n",
      "__________________________________________________________________________________________________\n",
      "conv4_block6_2_conv (Conv2D)    (None, 14, 16, 256)  590080      conv4_block6_1_relu[0][0]        \n",
      "__________________________________________________________________________________________________\n",
      "conv4_block6_2_bn (BatchNormali (None, 14, 16, 256)  1024        conv4_block6_2_conv[0][0]        \n",
      "__________________________________________________________________________________________________\n",
      "conv4_block6_2_relu (Activation (None, 14, 16, 256)  0           conv4_block6_2_bn[0][0]          \n",
      "__________________________________________________________________________________________________\n",
      "conv4_block6_3_conv (Conv2D)    (None, 14, 16, 1024) 263168      conv4_block6_2_relu[0][0]        \n",
      "__________________________________________________________________________________________________\n",
      "conv4_block6_3_bn (BatchNormali (None, 14, 16, 1024) 4096        conv4_block6_3_conv[0][0]        \n",
      "__________________________________________________________________________________________________\n",
      "conv4_block6_add (Add)          (None, 14, 16, 1024) 0           conv4_block5_out[0][0]           \n",
      "                                                                 conv4_block6_3_bn[0][0]          \n",
      "__________________________________________________________________________________________________\n",
      "conv4_block6_out (Activation)   (None, 14, 16, 1024) 0           conv4_block6_add[0][0]           \n",
      "__________________________________________________________________________________________________\n",
      "conv5_block1_1_conv (Conv2D)    (None, 7, 8, 512)    524800      conv4_block6_out[0][0]           \n",
      "__________________________________________________________________________________________________\n",
      "conv5_block1_1_bn (BatchNormali (None, 7, 8, 512)    2048        conv5_block1_1_conv[0][0]        \n",
      "__________________________________________________________________________________________________\n",
      "conv5_block1_1_relu (Activation (None, 7, 8, 512)    0           conv5_block1_1_bn[0][0]          \n",
      "__________________________________________________________________________________________________\n",
      "conv5_block1_2_conv (Conv2D)    (None, 7, 8, 512)    2359808     conv5_block1_1_relu[0][0]        \n",
      "__________________________________________________________________________________________________\n",
      "conv5_block1_2_bn (BatchNormali (None, 7, 8, 512)    2048        conv5_block1_2_conv[0][0]        \n",
      "__________________________________________________________________________________________________\n",
      "conv5_block1_2_relu (Activation (None, 7, 8, 512)    0           conv5_block1_2_bn[0][0]          \n",
      "__________________________________________________________________________________________________\n",
      "conv5_block1_0_conv (Conv2D)    (None, 7, 8, 2048)   2099200     conv4_block6_out[0][0]           \n",
      "__________________________________________________________________________________________________\n",
      "conv5_block1_3_conv (Conv2D)    (None, 7, 8, 2048)   1050624     conv5_block1_2_relu[0][0]        \n",
      "__________________________________________________________________________________________________\n",
      "conv5_block1_0_bn (BatchNormali (None, 7, 8, 2048)   8192        conv5_block1_0_conv[0][0]        \n",
      "__________________________________________________________________________________________________\n",
      "conv5_block1_3_bn (BatchNormali (None, 7, 8, 2048)   8192        conv5_block1_3_conv[0][0]        \n",
      "__________________________________________________________________________________________________\n",
      "conv5_block1_add (Add)          (None, 7, 8, 2048)   0           conv5_block1_0_bn[0][0]          \n",
      "                                                                 conv5_block1_3_bn[0][0]          \n",
      "__________________________________________________________________________________________________\n",
      "conv5_block1_out (Activation)   (None, 7, 8, 2048)   0           conv5_block1_add[0][0]           \n",
      "__________________________________________________________________________________________________\n",
      "conv5_block2_1_conv (Conv2D)    (None, 7, 8, 512)    1049088     conv5_block1_out[0][0]           \n",
      "__________________________________________________________________________________________________\n",
      "conv5_block2_1_bn (BatchNormali (None, 7, 8, 512)    2048        conv5_block2_1_conv[0][0]        \n",
      "__________________________________________________________________________________________________\n",
      "conv5_block2_1_relu (Activation (None, 7, 8, 512)    0           conv5_block2_1_bn[0][0]          \n",
      "__________________________________________________________________________________________________\n",
      "conv5_block2_2_conv (Conv2D)    (None, 7, 8, 512)    2359808     conv5_block2_1_relu[0][0]        \n",
      "__________________________________________________________________________________________________\n",
      "conv5_block2_2_bn (BatchNormali (None, 7, 8, 512)    2048        conv5_block2_2_conv[0][0]        \n",
      "__________________________________________________________________________________________________\n",
      "conv5_block2_2_relu (Activation (None, 7, 8, 512)    0           conv5_block2_2_bn[0][0]          \n",
      "__________________________________________________________________________________________________\n",
      "conv5_block2_3_conv (Conv2D)    (None, 7, 8, 2048)   1050624     conv5_block2_2_relu[0][0]        \n",
      "__________________________________________________________________________________________________\n",
      "conv5_block2_3_bn (BatchNormali (None, 7, 8, 2048)   8192        conv5_block2_3_conv[0][0]        \n",
      "__________________________________________________________________________________________________\n",
      "conv5_block2_add (Add)          (None, 7, 8, 2048)   0           conv5_block1_out[0][0]           \n",
      "                                                                 conv5_block2_3_bn[0][0]          \n",
      "__________________________________________________________________________________________________\n",
      "conv5_block2_out (Activation)   (None, 7, 8, 2048)   0           conv5_block2_add[0][0]           \n",
      "__________________________________________________________________________________________________\n",
      "conv5_block3_1_conv (Conv2D)    (None, 7, 8, 512)    1049088     conv5_block2_out[0][0]           \n",
      "__________________________________________________________________________________________________\n",
      "conv5_block3_1_bn (BatchNormali (None, 7, 8, 512)    2048        conv5_block3_1_conv[0][0]        \n",
      "__________________________________________________________________________________________________\n",
      "conv5_block3_1_relu (Activation (None, 7, 8, 512)    0           conv5_block3_1_bn[0][0]          \n",
      "__________________________________________________________________________________________________\n",
      "conv5_block3_2_conv (Conv2D)    (None, 7, 8, 512)    2359808     conv5_block3_1_relu[0][0]        \n",
      "__________________________________________________________________________________________________\n",
      "conv5_block3_2_bn (BatchNormali (None, 7, 8, 512)    2048        conv5_block3_2_conv[0][0]        \n",
      "__________________________________________________________________________________________________\n",
      "conv5_block3_2_relu (Activation (None, 7, 8, 512)    0           conv5_block3_2_bn[0][0]          \n",
      "__________________________________________________________________________________________________\n",
      "conv5_block3_3_conv (Conv2D)    (None, 7, 8, 2048)   1050624     conv5_block3_2_relu[0][0]        \n",
      "__________________________________________________________________________________________________\n",
      "conv5_block3_3_bn (BatchNormali (None, 7, 8, 2048)   8192        conv5_block3_3_conv[0][0]        \n",
      "__________________________________________________________________________________________________\n",
      "conv5_block3_add (Add)          (None, 7, 8, 2048)   0           conv5_block2_out[0][0]           \n",
      "                                                                 conv5_block3_3_bn[0][0]          \n",
      "__________________________________________________________________________________________________\n",
      "conv5_block3_out (Activation)   (None, 7, 8, 2048)   0           conv5_block3_add[0][0]           \n",
      "==================================================================================================\n",
      "Total params: 23,587,712\n",
      "Trainable params: 0\n",
      "Non-trainable params: 23,587,712\n",
      "__________________________________________________________________________________________________\n"
     ]
    }
   ],
   "source": [
    "base_model.summary()"
   ]
  },
  {
   "cell_type": "code",
   "execution_count": 13,
   "metadata": {},
   "outputs": [],
   "source": [
    "global_average_layer = tf.keras.layers.GlobalAveragePooling2D()\n",
    "\n",
    "feature_batch_average = global_average_layer(feature_batch)"
   ]
  },
  {
   "cell_type": "code",
   "execution_count": 14,
   "metadata": {},
   "outputs": [],
   "source": [
    "prediction_layer = layers.Dense(1)\n",
    "\n",
    "prediction_batch = prediction_layer(feature_batch_average)"
   ]
  },
  {
   "cell_type": "code",
   "execution_count": 16,
   "metadata": {},
   "outputs": [
    {
     "name": "stdout",
     "output_type": "stream",
     "text": [
      "WARNING:tensorflow:Model was constructed with shape (None, 224, 244, 3) for input Tensor(\"input_1:0\", shape=(None, 224, 244, 3), dtype=float32), but it was called on an input with incompatible shape (None, 224, 224, 3).\n"
     ]
    }
   ],
   "source": [
    "inputs = tf.keras.Input( shape = (224, 224, 3))\n",
    "\n",
    "x = data_augmentation(inputs)\n",
    "\n",
    "x = preprocess_input(x)\n",
    "\n",
    "x = base_model(x, training = False)\n",
    "\n",
    "x = global_average_layer(x)\n",
    "\n",
    "x = layers.Dropout(0.2)(x)\n",
    "\n",
    "outputs = prediction_layer(x)"
   ]
  },
  {
   "cell_type": "code",
   "execution_count": 17,
   "metadata": {},
   "outputs": [],
   "source": [
    "model = tf.keras.Model(inputs, outputs)"
   ]
  },
  {
   "cell_type": "code",
   "execution_count": 22,
   "metadata": {},
   "outputs": [],
   "source": [
    "base_learning_rate = 0.0001\n",
    "\n",
    "model.compile( optimizer = tf.keras.optimizers.Adam(lr = base_learning_rate),\n",
    "              loss = tf.keras.losses.BinaryCrossentropy(from_logits = True),\n",
    "              metrics = ['accuracy']\n",
    "             )"
   ]
  },
  {
   "cell_type": "code",
   "execution_count": 25,
   "metadata": {},
   "outputs": [
    {
     "name": "stdout",
     "output_type": "stream",
     "text": [
      "4/4 [==============================] - 0s 73ms/step - loss: 0.6557 - accuracy: 0.6905\n"
     ]
    }
   ],
   "source": [
    "intial_epochs = 20\n",
    "\n",
    "loss0, accuracy0 = model.evaluate(val_dataset)"
   ]
  },
  {
   "cell_type": "code",
   "execution_count": 26,
   "metadata": {},
   "outputs": [
    {
     "name": "stdout",
     "output_type": "stream",
     "text": [
      "Epoch 1/20\n",
      "10/10 [==============================] - 1s 150ms/step - loss: 0.4677 - accuracy: 0.7919 - val_loss: 0.6301 - val_accuracy: 0.7302\n",
      "Epoch 2/20\n",
      "10/10 [==============================] - 1s 149ms/step - loss: 0.4397 - accuracy: 0.7752 - val_loss: 0.6403 - val_accuracy: 0.7143\n",
      "Epoch 3/20\n",
      "10/10 [==============================] - 1s 149ms/step - loss: 0.4290 - accuracy: 0.8121 - val_loss: 0.6502 - val_accuracy: 0.6984\n",
      "Epoch 4/20\n",
      "10/10 [==============================] - 1s 149ms/step - loss: 0.4204 - accuracy: 0.8322 - val_loss: 0.6450 - val_accuracy: 0.7143\n",
      "Epoch 5/20\n",
      "10/10 [==============================] - 1s 149ms/step - loss: 0.4236 - accuracy: 0.8154 - val_loss: 0.6492 - val_accuracy: 0.6905\n",
      "Epoch 6/20\n",
      "10/10 [==============================] - 1s 149ms/step - loss: 0.3876 - accuracy: 0.8423 - val_loss: 0.6496 - val_accuracy: 0.6984\n",
      "Epoch 7/20\n",
      "10/10 [==============================] - 1s 149ms/step - loss: 0.3915 - accuracy: 0.8456 - val_loss: 0.6492 - val_accuracy: 0.7063\n",
      "Epoch 8/20\n",
      "10/10 [==============================] - 1s 149ms/step - loss: 0.3936 - accuracy: 0.8389 - val_loss: 0.6449 - val_accuracy: 0.7063\n",
      "Epoch 9/20\n",
      "10/10 [==============================] - 1s 147ms/step - loss: 0.4030 - accuracy: 0.8322 - val_loss: 0.6515 - val_accuracy: 0.6905\n",
      "Epoch 10/20\n",
      "10/10 [==============================] - 1s 149ms/step - loss: 0.4107 - accuracy: 0.8255 - val_loss: 0.6465 - val_accuracy: 0.6905\n",
      "Epoch 11/20\n",
      "10/10 [==============================] - 1s 150ms/step - loss: 0.3859 - accuracy: 0.8557 - val_loss: 0.6518 - val_accuracy: 0.6905\n",
      "Epoch 12/20\n",
      "10/10 [==============================] - 1s 148ms/step - loss: 0.3853 - accuracy: 0.8356 - val_loss: 0.6525 - val_accuracy: 0.7063\n",
      "Epoch 13/20\n",
      "10/10 [==============================] - 1s 150ms/step - loss: 0.3585 - accuracy: 0.8658 - val_loss: 0.6503 - val_accuracy: 0.7063\n",
      "Epoch 14/20\n",
      "10/10 [==============================] - 1s 150ms/step - loss: 0.3888 - accuracy: 0.8423 - val_loss: 0.6671 - val_accuracy: 0.6825\n",
      "Epoch 15/20\n",
      "10/10 [==============================] - 1s 148ms/step - loss: 0.3862 - accuracy: 0.8255 - val_loss: 0.6574 - val_accuracy: 0.6984\n",
      "Epoch 16/20\n",
      "10/10 [==============================] - 1s 148ms/step - loss: 0.3851 - accuracy: 0.8490 - val_loss: 0.6452 - val_accuracy: 0.7063\n",
      "Epoch 17/20\n",
      "10/10 [==============================] - 2s 152ms/step - loss: 0.3688 - accuracy: 0.8456 - val_loss: 0.6340 - val_accuracy: 0.7222\n",
      "Epoch 18/20\n",
      "10/10 [==============================] - 1s 149ms/step - loss: 0.3645 - accuracy: 0.8523 - val_loss: 0.6393 - val_accuracy: 0.7222\n",
      "Epoch 19/20\n",
      "10/10 [==============================] - 1s 149ms/step - loss: 0.3376 - accuracy: 0.8523 - val_loss: 0.6538 - val_accuracy: 0.7063\n",
      "Epoch 20/20\n",
      "10/10 [==============================] - 1s 148ms/step - loss: 0.3397 - accuracy: 0.8893 - val_loss: 0.6541 - val_accuracy: 0.7063\n"
     ]
    }
   ],
   "source": [
    "history = model.fit(train_dataset, epochs = intial_epochs, validation_data = val_dataset)"
   ]
  },
  {
   "cell_type": "code",
   "execution_count": null,
   "metadata": {},
   "outputs": [],
   "source": []
  },
  {
   "cell_type": "markdown",
   "metadata": {},
   "source": [
    "## Model 2"
   ]
  },
  {
   "cell_type": "code",
   "execution_count": 17,
   "metadata": {},
   "outputs": [],
   "source": [
    "model1 = models.Sequential()\n",
    "\n",
    "model1.add(layers.Conv2D(filters = 16, kernel_size = (3, 3), kernel_regularizer = l2(0.01), padding = 'same'))\n",
    "           \n",
    "model1.add(LeakyReLU( alpha = leaky_relu_alpha))\n",
    "\n",
    "model1.add(layers.MaxPooling2D( pool_size = 2, strides = 2))\n",
    "\n",
    "model1.add(layers.Conv2D(filters = 32, kernel_size = (3, 3), kernel_regularizer = l2(0.01), padding = \"same\"))\n",
    "           \n",
    "model1.add(LeakyReLU( alpha = leaky_relu_alpha ))\n",
    "\n",
    "model1.add(layers.MaxPooling2D(pool_size = 2, strides = 2 ))\n",
    "\n",
    "model1.add(layers.Conv2D(filters = 64, kernel_size = (3, 3), kernel_regularizer = l2(0.01), padding = \"same\"))\n",
    "\n",
    "model1.add(LeakyReLU( alpha = leaky_relu_alpha ))\n",
    "\n",
    "model1.add(layers.MaxPooling2D(pool_size = 2, strides = 2 ))"
   ]
  },
  {
   "cell_type": "code",
   "execution_count": 18,
   "metadata": {},
   "outputs": [],
   "source": [
    "#model1.summary()"
   ]
  },
  {
   "cell_type": "code",
   "execution_count": 20,
   "metadata": {},
   "outputs": [],
   "source": [
    "model1.add(layers.Flatten())\n",
    "\n",
    "model1.add(layers.Dense(64,  kernel_regularizer = l2(0.01)))\n",
    "\n",
    "model1.add(LeakyReLU( alpha = leaky_relu_alpha ))\n",
    "\n",
    "model1.add(layers.Dense(32, kernel_regularizer = l2(0.01)))\n",
    "\n",
    "model1.add(LeakyReLU( alpha = leaky_relu_alpha ))\n",
    "\n",
    "model1.add(layers.Dense(16, kernel_regularizer = l2(0.01)))\n",
    "\n",
    "model1.add(LeakyReLU( alpha = leaky_relu_alpha ))\n",
    "\n",
    "model1.add(layers.Dense(4, activation = \"softmax\"))"
   ]
  },
  {
   "cell_type": "code",
   "execution_count": 21,
   "metadata": {},
   "outputs": [],
   "source": [
    "checkpoint_path = 'training_0/cp.ckpt'\n",
    "\n",
    "checkpoint_dir = os.path.dirname(checkpoint_path)"
   ]
  },
  {
   "cell_type": "code",
   "execution_count": 22,
   "metadata": {},
   "outputs": [],
   "source": [
    "cp_callback = tf.keras.callbacks.ModelCheckpoint(filepath = checkpoint_path,\n",
    "                                                 #save_weights_only = True,\n",
    "                                                 #verbose = 1)"
   ]
  },
  {
   "cell_type": "code",
   "execution_count": 23,
   "metadata": {},
   "outputs": [],
   "source": [
    "#adam = Adam( lr = 5e-4 )\n",
    "\n",
    "model1.compile(loss = 'sparse_categorical_crossentropy',\n",
    "               metrics = ['accuracy'],\n",
    "               optimizer = \"adam\")"
   ]
  },
  {
   "cell_type": "code",
   "execution_count": 24,
   "metadata": {},
   "outputs": [
    {
     "name": "stdout",
     "output_type": "stream",
     "text": [
      "Epoch 1/30\n",
      "12/12 [==============================] - 7s 586ms/step - loss: 4.4418 - accuracy: 0.5214 - val_loss: 3.7201 - val_accuracy: 0.4863\n",
      "Epoch 2/30\n",
      "12/12 [==============================] - 6s 523ms/step - loss: 3.3374 - accuracy: 0.6417 - val_loss: 3.4440 - val_accuracy: 0.5342\n",
      "Epoch 3/30\n",
      "12/12 [==============================] - 6s 525ms/step - loss: 2.9439 - accuracy: 0.6979 - val_loss: 2.9164 - val_accuracy: 0.5616\n",
      "Epoch 4/30\n",
      "12/12 [==============================] - 6s 529ms/step - loss: 2.5912 - accuracy: 0.7273 - val_loss: 2.7642 - val_accuracy: 0.5959\n",
      "Epoch 5/30\n",
      "12/12 [==============================] - 6s 508ms/step - loss: 2.2668 - accuracy: 0.7701 - val_loss: 2.3031 - val_accuracy: 0.6849\n",
      "Epoch 6/30\n",
      "12/12 [==============================] - 6s 529ms/step - loss: 2.0790 - accuracy: 0.7701 - val_loss: 2.2324 - val_accuracy: 0.7329\n",
      "Epoch 7/30\n",
      "12/12 [==============================] - 6s 527ms/step - loss: 1.9172 - accuracy: 0.8289 - val_loss: 2.7632 - val_accuracy: 0.6233\n",
      "Epoch 8/30\n",
      "12/12 [==============================] - 6s 531ms/step - loss: 1.7466 - accuracy: 0.8476 - val_loss: 2.0990 - val_accuracy: 0.6986\n",
      "Epoch 9/30\n",
      "12/12 [==============================] - 6s 526ms/step - loss: 1.6664 - accuracy: 0.8422 - val_loss: 2.0417 - val_accuracy: 0.6781\n",
      "Epoch 10/30\n",
      "12/12 [==============================] - 6s 516ms/step - loss: 1.7264 - accuracy: 0.8075 - val_loss: 2.1194 - val_accuracy: 0.6575\n",
      "Epoch 11/30\n",
      "12/12 [==============================] - 7s 554ms/step - loss: 1.5561 - accuracy: 0.8583 - val_loss: 2.0775 - val_accuracy: 0.6918\n",
      "Epoch 12/30\n",
      "12/12 [==============================] - 6s 517ms/step - loss: 1.5255 - accuracy: 0.8583 - val_loss: 1.8297 - val_accuracy: 0.7192\n",
      "Epoch 13/30\n",
      "12/12 [==============================] - 6s 512ms/step - loss: 1.4264 - accuracy: 0.8904 - val_loss: 1.9055 - val_accuracy: 0.7329\n",
      "Epoch 14/30\n",
      "12/12 [==============================] - 6s 524ms/step - loss: 1.3669 - accuracy: 0.8717 - val_loss: 1.7086 - val_accuracy: 0.7260\n",
      "Epoch 15/30\n",
      "12/12 [==============================] - 6s 528ms/step - loss: 1.3099 - accuracy: 0.8797 - val_loss: 1.8043 - val_accuracy: 0.7192\n",
      "Epoch 16/30\n",
      "12/12 [==============================] - 7s 552ms/step - loss: 1.2612 - accuracy: 0.8743 - val_loss: 2.0573 - val_accuracy: 0.6712\n",
      "Epoch 17/30\n",
      "12/12 [==============================] - 6s 529ms/step - loss: 1.2294 - accuracy: 0.8850 - val_loss: 2.0759 - val_accuracy: 0.6712\n",
      "Epoch 18/30\n",
      "12/12 [==============================] - 6s 525ms/step - loss: 1.2072 - accuracy: 0.8904 - val_loss: 1.6871 - val_accuracy: 0.7397\n",
      "Epoch 19/30\n",
      "12/12 [==============================] - 6s 523ms/step - loss: 1.1861 - accuracy: 0.9037 - val_loss: 1.6929 - val_accuracy: 0.7534\n",
      "Epoch 20/30\n",
      "12/12 [==============================] - 6s 511ms/step - loss: 1.1155 - accuracy: 0.9011 - val_loss: 1.5527 - val_accuracy: 0.7329\n",
      "Epoch 21/30\n",
      "12/12 [==============================] - 6s 533ms/step - loss: 1.0545 - accuracy: 0.9332 - val_loss: 1.5374 - val_accuracy: 0.7466\n",
      "Epoch 22/30\n",
      "12/12 [==============================] - 6s 524ms/step - loss: 1.0650 - accuracy: 0.9037 - val_loss: 1.4697 - val_accuracy: 0.7466\n",
      "Epoch 23/30\n",
      "12/12 [==============================] - 6s 527ms/step - loss: 1.1296 - accuracy: 0.8743 - val_loss: 1.8749 - val_accuracy: 0.6918\n",
      "Epoch 24/30\n",
      "12/12 [==============================] - 6s 535ms/step - loss: 1.1223 - accuracy: 0.8850 - val_loss: 1.6310 - val_accuracy: 0.6986\n",
      "Epoch 25/30\n",
      "12/12 [==============================] - 6s 521ms/step - loss: 1.0228 - accuracy: 0.9225 - val_loss: 1.7832 - val_accuracy: 0.6986\n",
      "Epoch 26/30\n",
      "12/12 [==============================] - 6s 524ms/step - loss: 0.9904 - accuracy: 0.9118 - val_loss: 1.5822 - val_accuracy: 0.7192\n",
      "Epoch 27/30\n",
      "12/12 [==============================] - 6s 518ms/step - loss: 0.9662 - accuracy: 0.9037 - val_loss: 1.4286 - val_accuracy: 0.7192\n",
      "Epoch 28/30\n",
      "12/12 [==============================] - 6s 518ms/step - loss: 0.9813 - accuracy: 0.8850 - val_loss: 1.5336 - val_accuracy: 0.7123\n",
      "Epoch 29/30\n",
      "12/12 [==============================] - 6s 527ms/step - loss: 0.9581 - accuracy: 0.9064 - val_loss: 1.6025 - val_accuracy: 0.6575\n",
      "Epoch 30/30\n",
      "12/12 [==============================] - 6s 525ms/step - loss: 0.9102 - accuracy: 0.9091 - val_loss: 1.6952 - val_accuracy: 0.6644\n"
     ]
    }
   ],
   "source": [
    "history = model1.fit(train_generator,\n",
    "                     batch_size = 32,\n",
    "                     epochs = 30,\n",
    "                     validation_data = validation_generator\n",
    "                     )"
   ]
  },
  {
   "cell_type": "code",
   "execution_count": 64,
   "metadata": {},
   "outputs": [
    {
     "data": {
      "text/plain": [
       "<tensorflow.python.training.tracking.util.CheckpointLoadStatus at 0x1bb099fbbe0>"
      ]
     },
     "execution_count": 64,
     "metadata": {},
     "output_type": "execute_result"
    }
   ],
   "source": [
    "model1.load_weights(checkpoint_path)"
   ]
  },
  {
   "cell_type": "code",
   "execution_count": 66,
   "metadata": {},
   "outputs": [
    {
     "name": "stderr",
     "output_type": "stream",
     "text": [
      "A subdirectory or file -p already exists.\n",
      "Error occurred while processing: -p.\n",
      "A subdirectory or file saved_model already exists.\n",
      "Error occurred while processing: saved_model.\n"
     ]
    },
    {
     "name": "stdout",
     "output_type": "stream",
     "text": [
      "WARNING:tensorflow:From C:\\Users\\adhim\\anaconda3\\envs\\tensorflow\\lib\\site-packages\\tensorflow\\python\\training\\tracking\\tracking.py:111: Model.state_updates (from tensorflow.python.keras.engine.training) is deprecated and will be removed in a future version.\n",
      "Instructions for updating:\n",
      "This property should not be used in TensorFlow 2.0, as updates are applied automatically.\n",
      "WARNING:tensorflow:From C:\\Users\\adhim\\anaconda3\\envs\\tensorflow\\lib\\site-packages\\tensorflow\\python\\training\\tracking\\tracking.py:111: Layer.updates (from tensorflow.python.keras.engine.base_layer) is deprecated and will be removed in a future version.\n",
      "Instructions for updating:\n",
      "This property should not be used in TensorFlow 2.0, as updates are applied automatically.\n",
      "INFO:tensorflow:Assets written to: saved_model/jowar_model\\assets\n"
     ]
    }
   ],
   "source": [
    "!mkdir -p saved_model\n",
    "model1.save('saved_model/jowar_model')"
   ]
  },
  {
   "cell_type": "markdown",
   "metadata": {},
   "source": [
    "##  Model 3"
   ]
  },
  {
   "cell_type": "code",
   "execution_count": 95,
   "metadata": {},
   "outputs": [],
   "source": [
    "model2 = models.Sequential()\n",
    "\n",
    "model2.add(layers.Conv2D( filters = 6, kernel_size = 5, padding = \"same\", activation = 'tanh', input_shape = (250, 250, 3)))\n",
    "\n",
    "model2.add(layers.AvgPool2D( pool_size = 2, strides = 2))\n",
    "\n",
    "model2.add(layers.Conv2D( filters = 16, kernel_size = 5, padding = \"valid\", activation = 'tanh'))\n",
    "\n",
    "model2.add(layers.AvgPool2D( pool_size = 2, strides = 2))"
   ]
  },
  {
   "cell_type": "code",
   "execution_count": 96,
   "metadata": {},
   "outputs": [
    {
     "name": "stdout",
     "output_type": "stream",
     "text": [
      "Model: \"sequential_10\"\n",
      "_________________________________________________________________\n",
      "Layer (type)                 Output Shape              Param #   \n",
      "=================================================================\n",
      "conv2d_21 (Conv2D)           (None, 250, 250, 6)       456       \n",
      "_________________________________________________________________\n",
      "average_pooling2d_6 (Average (None, 125, 125, 6)       0         \n",
      "_________________________________________________________________\n",
      "conv2d_22 (Conv2D)           (None, 121, 121, 16)      2416      \n",
      "_________________________________________________________________\n",
      "average_pooling2d_7 (Average (None, 60, 60, 16)        0         \n",
      "=================================================================\n",
      "Total params: 2,872\n",
      "Trainable params: 2,872\n",
      "Non-trainable params: 0\n",
      "_________________________________________________________________\n"
     ]
    }
   ],
   "source": [
    "model2.summary()"
   ]
  },
  {
   "cell_type": "code",
   "execution_count": 97,
   "metadata": {},
   "outputs": [],
   "source": [
    "model2.add(layers.Flatten())\n",
    "\n",
    "model2.add(layers.Dense( 120, activation = 'tanh'))\n",
    "\n",
    "model2.add(layers.Dense( 84, activation = 'softmax'))\n",
    "\n",
    "model2.add(layers.Dense(3))"
   ]
  },
  {
   "cell_type": "code",
   "execution_count": 98,
   "metadata": {},
   "outputs": [
    {
     "name": "stdout",
     "output_type": "stream",
     "text": [
      "Model: \"sequential_10\"\n",
      "_________________________________________________________________\n",
      "Layer (type)                 Output Shape              Param #   \n",
      "=================================================================\n",
      "conv2d_21 (Conv2D)           (None, 250, 250, 6)       456       \n",
      "_________________________________________________________________\n",
      "average_pooling2d_6 (Average (None, 125, 125, 6)       0         \n",
      "_________________________________________________________________\n",
      "conv2d_22 (Conv2D)           (None, 121, 121, 16)      2416      \n",
      "_________________________________________________________________\n",
      "average_pooling2d_7 (Average (None, 60, 60, 16)        0         \n",
      "_________________________________________________________________\n",
      "flatten_10 (Flatten)         (None, 57600)             0         \n",
      "_________________________________________________________________\n",
      "dense_29 (Dense)             (None, 120)               6912120   \n",
      "_________________________________________________________________\n",
      "dense_30 (Dense)             (None, 84)                10164     \n",
      "_________________________________________________________________\n",
      "dense_31 (Dense)             (None, 3)                 255       \n",
      "=================================================================\n",
      "Total params: 6,925,411\n",
      "Trainable params: 6,925,411\n",
      "Non-trainable params: 0\n",
      "_________________________________________________________________\n"
     ]
    }
   ],
   "source": [
    "model2.summary()"
   ]
  },
  {
   "cell_type": "code",
   "execution_count": 99,
   "metadata": {},
   "outputs": [],
   "source": [
    "adam = Adam( lr = 5e-4 )\n",
    "\n",
    "model2.compile( loss = 'sparse_categorical_crossentropy', optimizer = adam, metrics = ['accuracy'])"
   ]
  },
  {
   "cell_type": "code",
   "execution_count": 100,
   "metadata": {},
   "outputs": [
    {
     "name": "stdout",
     "output_type": "stream",
     "text": [
      "Epoch 1/10\n",
      "7/7 [==============================] - 4s 502ms/step - loss: 1.5423 - accuracy: 0.5488 - val_loss: 1.5787 - val_accuracy: 0.6937\n",
      "Epoch 2/10\n",
      "7/7 [==============================] - 3s 426ms/step - loss: 1.0066 - accuracy: 0.7163 - val_loss: 1.5480 - val_accuracy: 0.6667\n",
      "Epoch 3/10\n",
      "7/7 [==============================] - 3s 426ms/step - loss: 1.3680 - accuracy: 0.7070 - val_loss: 1.3178 - val_accuracy: 0.6667\n",
      "Epoch 4/10\n",
      "7/7 [==============================] - 3s 448ms/step - loss: 1.0562 - accuracy: 0.6837 - val_loss: 1.2325 - val_accuracy: 0.6937\n",
      "Epoch 5/10\n",
      "7/7 [==============================] - 3s 427ms/step - loss: 1.0825 - accuracy: 0.6930 - val_loss: 1.0671 - val_accuracy: 0.6126\n",
      "Epoch 6/10\n",
      "7/7 [==============================] - 3s 427ms/step - loss: 1.0942 - accuracy: 0.6326 - val_loss: 1.1091 - val_accuracy: 0.5856\n",
      "Epoch 7/10\n",
      "7/7 [==============================] - 3s 428ms/step - loss: 0.8455 - accuracy: 0.6512 - val_loss: 1.1748 - val_accuracy: 0.5856\n",
      "Epoch 8/10\n",
      "7/7 [==============================] - 3s 429ms/step - loss: 1.0478 - accuracy: 0.6651 - val_loss: 1.2405 - val_accuracy: 0.7297\n",
      "Epoch 9/10\n",
      "7/7 [==============================] - 3s 427ms/step - loss: 1.0163 - accuracy: 0.7116 - val_loss: 0.9094 - val_accuracy: 0.6937\n",
      "Epoch 10/10\n",
      "7/7 [==============================] - 3s 427ms/step - loss: 0.8602 - accuracy: 0.7349 - val_loss: 0.9718 - val_accuracy: 0.6937\n"
     ]
    },
    {
     "data": {
      "text/plain": [
       "<tensorflow.python.keras.callbacks.History at 0x298cc1abee0>"
      ]
     },
     "execution_count": 100,
     "metadata": {},
     "output_type": "execute_result"
    }
   ],
   "source": [
    "model2.fit( train_generator, validation_data = validation_generator, epochs = 10)"
   ]
  },
  {
   "cell_type": "markdown",
   "metadata": {},
   "source": [
    "## Model 4"
   ]
  },
  {
   "cell_type": "code",
   "execution_count": 58,
   "metadata": {},
   "outputs": [],
   "source": [
    "model_AI = models.Sequential()\n",
    "\n",
    "model_AI.add(layers.Conv2D(32, (3, 3), padding = 'same', activation = 'relu', input_shape = (250, 250, 3)))\n",
    "\n",
    "model_AI.add(BatchNormalization())\n",
    "\n",
    "model_AI.add(layers.MaxPool2D(pool_size = (3, 3)))\n",
    "\n",
    "model_AI.add(layers.Conv2D(64, (3, 3), padding = 'same', activation = 'relu'))\n",
    "\n",
    "model_AI.add(BatchNormalization())\n",
    "\n",
    "model_AI.add(layers.MaxPool2D(pool_size = (2, 2)))\n",
    "\n",
    "model_AI.add(layers.Dropout(0.25))\n",
    "\n",
    "model_AI.add(layers.Conv2D(128, (3, 3), padding = 'same', activation = 'relu'))\n",
    "\n",
    "model_AI.add(BatchNormalization())\n",
    "\n",
    "model_AI.add(layers.MaxPool2D(pool_size = (2, 2)))\n",
    "\n",
    "model_AI.add(layers.Dropout(0.25))"
   ]
  },
  {
   "cell_type": "code",
   "execution_count": 59,
   "metadata": {},
   "outputs": [],
   "source": [
    "model_AI.add(layers.Flatten())\n",
    "\n",
    "model_AI.add(layers.Dense(1024, activation = 'relu'))\n",
    "\n",
    "model_AI.add(BatchNormalization())\n",
    "\n",
    "model_AI.add(layers.Dropout(0.25))\n",
    "\n",
    "model_AI.add(layers.Dense(2, activation = 'softmax'))"
   ]
  },
  {
   "cell_type": "code",
   "execution_count": 60,
   "metadata": {},
   "outputs": [
    {
     "name": "stdout",
     "output_type": "stream",
     "text": [
      "Model: \"sequential_9\"\n",
      "_________________________________________________________________\n",
      "Layer (type)                 Output Shape              Param #   \n",
      "=================================================================\n",
      "conv2d_28 (Conv2D)           (None, 250, 250, 32)      896       \n",
      "_________________________________________________________________\n",
      "batch_normalization_3 (Batch (None, 250, 250, 32)      128       \n",
      "_________________________________________________________________\n",
      "max_pooling2d_27 (MaxPooling (None, 83, 83, 32)        0         \n",
      "_________________________________________________________________\n",
      "conv2d_29 (Conv2D)           (None, 83, 83, 64)        18496     \n",
      "_________________________________________________________________\n",
      "batch_normalization_4 (Batch (None, 83, 83, 64)        256       \n",
      "_________________________________________________________________\n",
      "max_pooling2d_28 (MaxPooling (None, 41, 41, 64)        0         \n",
      "_________________________________________________________________\n",
      "dropout_6 (Dropout)          (None, 41, 41, 64)        0         \n",
      "_________________________________________________________________\n",
      "conv2d_30 (Conv2D)           (None, 41, 41, 128)       73856     \n",
      "_________________________________________________________________\n",
      "batch_normalization_5 (Batch (None, 41, 41, 128)       512       \n",
      "_________________________________________________________________\n",
      "max_pooling2d_29 (MaxPooling (None, 20, 20, 128)       0         \n",
      "_________________________________________________________________\n",
      "dropout_7 (Dropout)          (None, 20, 20, 128)       0         \n",
      "_________________________________________________________________\n",
      "flatten_7 (Flatten)          (None, 51200)             0         \n",
      "_________________________________________________________________\n",
      "dense_21 (Dense)             (None, 1024)              52429824  \n",
      "_________________________________________________________________\n",
      "batch_normalization_6 (Batch (None, 1024)              4096      \n",
      "_________________________________________________________________\n",
      "dropout_8 (Dropout)          (None, 1024)              0         \n",
      "_________________________________________________________________\n",
      "dense_22 (Dense)             (None, 2)                 2050      \n",
      "=================================================================\n",
      "Total params: 52,530,114\n",
      "Trainable params: 52,527,618\n",
      "Non-trainable params: 2,496\n",
      "_________________________________________________________________\n"
     ]
    }
   ],
   "source": [
    "model_AI.summary()"
   ]
  },
  {
   "cell_type": "code",
   "execution_count": 75,
   "metadata": {},
   "outputs": [],
   "source": [
    "model_AI.compile( loss = 'binary_crossentropy', optimizer = 'adam', metrics = ['accuracy'])"
   ]
  },
  {
   "cell_type": "code",
   "execution_count": 76,
   "metadata": {},
   "outputs": [
    {
     "name": "stdout",
     "output_type": "stream",
     "text": [
      "Epoch 1/20\n",
      " 2/10 [=====>........................] - ETA: 0s - loss: 2.7387 - accuracy: 0.4219WARNING:tensorflow:Callbacks method `on_train_batch_end` is slow compared to the batch time (batch time: 0.0220s vs `on_train_batch_end` time: 0.0439s). Check your callbacks.\n",
      "10/10 [==============================] - 4s 419ms/step - loss: 3.1615 - accuracy: 0.4698 - val_loss: 1.6963 - val_accuracy: 0.6429\n",
      "Epoch 2/20\n",
      "10/10 [==============================] - 4s 393ms/step - loss: 1.3040 - accuracy: 0.4732 - val_loss: 0.8761 - val_accuracy: 0.5794\n",
      "Epoch 3/20\n",
      "10/10 [==============================] - 4s 393ms/step - loss: 0.9351 - accuracy: 0.4933 - val_loss: 0.8752 - val_accuracy: 0.6825\n",
      "Epoch 4/20\n",
      "10/10 [==============================] - 4s 390ms/step - loss: 0.8213 - accuracy: 0.5503 - val_loss: 0.7979 - val_accuracy: 0.5476\n",
      "Epoch 5/20\n",
      "10/10 [==============================] - 4s 392ms/step - loss: 0.7745 - accuracy: 0.5268 - val_loss: 0.9354 - val_accuracy: 0.4444\n",
      "Epoch 6/20\n",
      "10/10 [==============================] - 4s 389ms/step - loss: 0.7572 - accuracy: 0.4832 - val_loss: 1.0132 - val_accuracy: 0.5873\n",
      "Epoch 7/20\n",
      "10/10 [==============================] - 4s 395ms/step - loss: 0.7378 - accuracy: 0.4866 - val_loss: 1.3425 - val_accuracy: 0.6190\n",
      "Epoch 8/20\n",
      "10/10 [==============================] - 4s 390ms/step - loss: 0.7329 - accuracy: 0.5235 - val_loss: 1.7749 - val_accuracy: 0.5952\n",
      "Epoch 9/20\n",
      "10/10 [==============================] - 4s 386ms/step - loss: 0.7395 - accuracy: 0.4866 - val_loss: 2.2523 - val_accuracy: 0.6270\n",
      "Epoch 10/20\n",
      "10/10 [==============================] - 4s 393ms/step - loss: 0.7248 - accuracy: 0.5067 - val_loss: 2.6829 - val_accuracy: 0.5952\n",
      "Epoch 11/20\n",
      "10/10 [==============================] - 4s 390ms/step - loss: 0.7272 - accuracy: 0.4799 - val_loss: 2.9328 - val_accuracy: 0.5952\n",
      "Epoch 12/20\n",
      "10/10 [==============================] - 4s 391ms/step - loss: 0.7255 - accuracy: 0.4899 - val_loss: 3.9503 - val_accuracy: 0.5397\n",
      "Epoch 13/20\n",
      "10/10 [==============================] - 4s 389ms/step - loss: 0.7269 - accuracy: 0.5403 - val_loss: 3.7723 - val_accuracy: 0.5714\n",
      "Epoch 14/20\n",
      "10/10 [==============================] - 4s 389ms/step - loss: 0.7181 - accuracy: 0.4497 - val_loss: 3.4550 - val_accuracy: 0.5159\n",
      "Epoch 15/20\n",
      "10/10 [==============================] - 4s 390ms/step - loss: 0.7245 - accuracy: 0.5302 - val_loss: 3.8624 - val_accuracy: 0.5794\n",
      "Epoch 16/20\n",
      "10/10 [==============================] - 4s 390ms/step - loss: 0.7145 - accuracy: 0.4530 - val_loss: 4.0338 - val_accuracy: 0.5794\n",
      "Epoch 17/20\n",
      "10/10 [==============================] - 4s 392ms/step - loss: 0.7147 - accuracy: 0.4631 - val_loss: 4.0342 - val_accuracy: 0.5714\n",
      "Epoch 18/20\n",
      "10/10 [==============================] - 4s 389ms/step - loss: 0.7145 - accuracy: 0.4966 - val_loss: 4.4690 - val_accuracy: 0.5635\n",
      "Epoch 19/20\n",
      "10/10 [==============================] - 4s 391ms/step - loss: 0.7096 - accuracy: 0.4832 - val_loss: 4.4730 - val_accuracy: 0.5476\n",
      "Epoch 20/20\n",
      "10/10 [==============================] - 4s 390ms/step - loss: 0.7152 - accuracy: 0.5134 - val_loss: 4.6183 - val_accuracy: 0.5476\n"
     ]
    },
    {
     "data": {
      "text/plain": [
       "<tensorflow.python.keras.callbacks.History at 0x1c706b91400>"
      ]
     },
     "execution_count": 76,
     "metadata": {},
     "output_type": "execute_result"
    }
   ],
   "source": [
    "model_AI.fit( train_generator, validation_data = validation_generator, epochs = 20)"
   ]
  },
  {
   "cell_type": "markdown",
   "metadata": {},
   "source": [
    "## Model 5"
   ]
  },
  {
   "cell_type": "code",
   "execution_count": 41,
   "metadata": {},
   "outputs": [],
   "source": [
    "model_5 = models.Sequential()\n",
    "\n",
    "model_5.add(layers.Conv2D(32, (3, 3), input_shape = (250, 250, 3)))\n",
    "\n",
    "model_5.add( LeakyReLU( alpha = leaky_relu_alpha ))\n",
    "\n",
    "model_5.add(layers.MaxPooling2D( (2, 2) ))\n",
    "\n",
    "model_5.add(layers.Conv2D(64, (3, 3)))\n",
    "\n",
    "model_5.add( LeakyReLU( alpha = leaky_relu_alpha ))\n",
    "\n",
    "model_5.add(layers.MaxPooling2D( (2, 2) ))\n",
    "\n",
    "model_5.add(layers.Conv2D(128, (3, 3)))\n",
    "\n",
    "model_5.add( LeakyReLU( alpha = leaky_relu_alpha ))\n",
    "\n",
    "model_5.add(layers.MaxPooling2D( (2, 2) ))\n",
    "\n",
    "model_5.add(layers.Conv2D(128, (3, 3)))\n",
    "\n",
    "model_5.add( LeakyReLU( alpha = leaky_relu_alpha ))"
   ]
  },
  {
   "cell_type": "code",
   "execution_count": 42,
   "metadata": {},
   "outputs": [],
   "source": [
    "model_5.add(layers.Flatten())\n",
    "\n",
    "model_5.add(layers.Dense(128, activation = 'relu'))\n",
    "\n",
    "model_5.add(layers.Dense(64, activation = 'relu'))\n",
    "\n",
    "model_5.add(layers.Dense(2))"
   ]
  },
  {
   "cell_type": "code",
   "execution_count": 45,
   "metadata": {},
   "outputs": [],
   "source": [
    "model_5.compile( optimizer = 'sgd', loss = 'binary_crossentropy', metrics = ['accuracy'])"
   ]
  },
  {
   "cell_type": "code",
   "execution_count": 46,
   "metadata": {},
   "outputs": [
    {
     "name": "stdout",
     "output_type": "stream",
     "text": [
      "Epoch 1/10\n",
      "10/10 [==============================] - 7s 653ms/step - loss: 3.5820 - accuracy: 0.7651 - val_loss: 6.6564 - val_accuracy: 0.5635\n",
      "Epoch 2/10\n",
      "10/10 [==============================] - 6s 574ms/step - loss: 3.5820 - accuracy: 0.7651 - val_loss: 6.6564 - val_accuracy: 0.5635\n",
      "Epoch 3/10\n",
      "10/10 [==============================] - 6s 583ms/step - loss: 3.5820 - accuracy: 0.7651 - val_loss: 6.6564 - val_accuracy: 0.5635\n",
      "Epoch 4/10\n",
      "10/10 [==============================] - 6s 590ms/step - loss: 3.5820 - accuracy: 0.7651 - val_loss: 6.6564 - val_accuracy: 0.5635\n",
      "Epoch 5/10\n",
      "10/10 [==============================] - 6s 582ms/step - loss: 3.5820 - accuracy: 0.7651 - val_loss: 6.6564 - val_accuracy: 0.5635\n",
      "Epoch 6/10\n",
      "10/10 [==============================] - 6s 580ms/step - loss: 3.5820 - accuracy: 0.7651 - val_loss: 6.6564 - val_accuracy: 0.5635\n",
      "Epoch 7/10\n",
      "10/10 [==============================] - 6s 587ms/step - loss: 3.5820 - accuracy: 0.7651 - val_loss: 6.6564 - val_accuracy: 0.5635\n",
      "Epoch 8/10\n",
      "10/10 [==============================] - 6s 578ms/step - loss: 3.5820 - accuracy: 0.7651 - val_loss: 6.6564 - val_accuracy: 0.5635\n",
      "Epoch 9/10\n",
      "10/10 [==============================] - 6s 592ms/step - loss: 3.5820 - accuracy: 0.7651 - val_loss: 6.6564 - val_accuracy: 0.5635\n",
      "Epoch 10/10\n",
      "10/10 [==============================] - ETA: 0s - loss: 3.5820 - accuracy: 0.7651"
     ]
    },
    {
     "ename": "KeyboardInterrupt",
     "evalue": "",
     "output_type": "error",
     "traceback": [
      "\u001b[1;31m---------------------------------------------------------------------------\u001b[0m",
      "\u001b[1;31mKeyboardInterrupt\u001b[0m                         Traceback (most recent call last)",
      "\u001b[1;32m<ipython-input-46-afeb4ba1192f>\u001b[0m in \u001b[0;36m<module>\u001b[1;34m\u001b[0m\n\u001b[1;32m----> 1\u001b[1;33m \u001b[0mmodel_5\u001b[0m\u001b[1;33m.\u001b[0m\u001b[0mfit\u001b[0m\u001b[1;33m(\u001b[0m \u001b[0mtrain_generator\u001b[0m\u001b[1;33m,\u001b[0m \u001b[0mvalidation_data\u001b[0m \u001b[1;33m=\u001b[0m \u001b[0mvalidation_generator\u001b[0m\u001b[1;33m,\u001b[0m \u001b[0mepochs\u001b[0m \u001b[1;33m=\u001b[0m \u001b[1;36m10\u001b[0m\u001b[1;33m,\u001b[0m \u001b[0mbatch_size\u001b[0m \u001b[1;33m=\u001b[0m \u001b[1;36m32\u001b[0m\u001b[1;33m)\u001b[0m\u001b[1;33m\u001b[0m\u001b[1;33m\u001b[0m\u001b[0m\n\u001b[0m",
      "\u001b[1;32m~\\anaconda3\\envs\\tensorflow\\lib\\site-packages\\tensorflow\\python\\keras\\engine\\training.py\u001b[0m in \u001b[0;36m_method_wrapper\u001b[1;34m(self, *args, **kwargs)\u001b[0m\n\u001b[0;32m    106\u001b[0m   \u001b[1;32mdef\u001b[0m \u001b[0m_method_wrapper\u001b[0m\u001b[1;33m(\u001b[0m\u001b[0mself\u001b[0m\u001b[1;33m,\u001b[0m \u001b[1;33m*\u001b[0m\u001b[0margs\u001b[0m\u001b[1;33m,\u001b[0m \u001b[1;33m**\u001b[0m\u001b[0mkwargs\u001b[0m\u001b[1;33m)\u001b[0m\u001b[1;33m:\u001b[0m\u001b[1;33m\u001b[0m\u001b[1;33m\u001b[0m\u001b[0m\n\u001b[0;32m    107\u001b[0m     \u001b[1;32mif\u001b[0m \u001b[1;32mnot\u001b[0m \u001b[0mself\u001b[0m\u001b[1;33m.\u001b[0m\u001b[0m_in_multi_worker_mode\u001b[0m\u001b[1;33m(\u001b[0m\u001b[1;33m)\u001b[0m\u001b[1;33m:\u001b[0m  \u001b[1;31m# pylint: disable=protected-access\u001b[0m\u001b[1;33m\u001b[0m\u001b[1;33m\u001b[0m\u001b[0m\n\u001b[1;32m--> 108\u001b[1;33m       \u001b[1;32mreturn\u001b[0m \u001b[0mmethod\u001b[0m\u001b[1;33m(\u001b[0m\u001b[0mself\u001b[0m\u001b[1;33m,\u001b[0m \u001b[1;33m*\u001b[0m\u001b[0margs\u001b[0m\u001b[1;33m,\u001b[0m \u001b[1;33m**\u001b[0m\u001b[0mkwargs\u001b[0m\u001b[1;33m)\u001b[0m\u001b[1;33m\u001b[0m\u001b[1;33m\u001b[0m\u001b[0m\n\u001b[0m\u001b[0;32m    109\u001b[0m \u001b[1;33m\u001b[0m\u001b[0m\n\u001b[0;32m    110\u001b[0m     \u001b[1;31m# Running inside `run_distribute_coordinator` already.\u001b[0m\u001b[1;33m\u001b[0m\u001b[1;33m\u001b[0m\u001b[1;33m\u001b[0m\u001b[0m\n",
      "\u001b[1;32m~\\anaconda3\\envs\\tensorflow\\lib\\site-packages\\tensorflow\\python\\keras\\engine\\training.py\u001b[0m in \u001b[0;36mfit\u001b[1;34m(self, x, y, batch_size, epochs, verbose, callbacks, validation_split, validation_data, shuffle, class_weight, sample_weight, initial_epoch, steps_per_epoch, validation_steps, validation_batch_size, validation_freq, max_queue_size, workers, use_multiprocessing)\u001b[0m\n\u001b[0;32m   1121\u001b[0m                 \u001b[0mmodel\u001b[0m\u001b[1;33m=\u001b[0m\u001b[0mself\u001b[0m\u001b[1;33m,\u001b[0m\u001b[1;33m\u001b[0m\u001b[1;33m\u001b[0m\u001b[0m\n\u001b[0;32m   1122\u001b[0m                 steps_per_execution=self._steps_per_execution)\n\u001b[1;32m-> 1123\u001b[1;33m           val_logs = self.evaluate(\n\u001b[0m\u001b[0;32m   1124\u001b[0m               \u001b[0mx\u001b[0m\u001b[1;33m=\u001b[0m\u001b[0mval_x\u001b[0m\u001b[1;33m,\u001b[0m\u001b[1;33m\u001b[0m\u001b[1;33m\u001b[0m\u001b[0m\n\u001b[0;32m   1125\u001b[0m               \u001b[0my\u001b[0m\u001b[1;33m=\u001b[0m\u001b[0mval_y\u001b[0m\u001b[1;33m,\u001b[0m\u001b[1;33m\u001b[0m\u001b[1;33m\u001b[0m\u001b[0m\n",
      "\u001b[1;32m~\\anaconda3\\envs\\tensorflow\\lib\\site-packages\\tensorflow\\python\\keras\\engine\\training.py\u001b[0m in \u001b[0;36m_method_wrapper\u001b[1;34m(self, *args, **kwargs)\u001b[0m\n\u001b[0;32m    106\u001b[0m   \u001b[1;32mdef\u001b[0m \u001b[0m_method_wrapper\u001b[0m\u001b[1;33m(\u001b[0m\u001b[0mself\u001b[0m\u001b[1;33m,\u001b[0m \u001b[1;33m*\u001b[0m\u001b[0margs\u001b[0m\u001b[1;33m,\u001b[0m \u001b[1;33m**\u001b[0m\u001b[0mkwargs\u001b[0m\u001b[1;33m)\u001b[0m\u001b[1;33m:\u001b[0m\u001b[1;33m\u001b[0m\u001b[1;33m\u001b[0m\u001b[0m\n\u001b[0;32m    107\u001b[0m     \u001b[1;32mif\u001b[0m \u001b[1;32mnot\u001b[0m \u001b[0mself\u001b[0m\u001b[1;33m.\u001b[0m\u001b[0m_in_multi_worker_mode\u001b[0m\u001b[1;33m(\u001b[0m\u001b[1;33m)\u001b[0m\u001b[1;33m:\u001b[0m  \u001b[1;31m# pylint: disable=protected-access\u001b[0m\u001b[1;33m\u001b[0m\u001b[1;33m\u001b[0m\u001b[0m\n\u001b[1;32m--> 108\u001b[1;33m       \u001b[1;32mreturn\u001b[0m \u001b[0mmethod\u001b[0m\u001b[1;33m(\u001b[0m\u001b[0mself\u001b[0m\u001b[1;33m,\u001b[0m \u001b[1;33m*\u001b[0m\u001b[0margs\u001b[0m\u001b[1;33m,\u001b[0m \u001b[1;33m**\u001b[0m\u001b[0mkwargs\u001b[0m\u001b[1;33m)\u001b[0m\u001b[1;33m\u001b[0m\u001b[1;33m\u001b[0m\u001b[0m\n\u001b[0m\u001b[0;32m    109\u001b[0m \u001b[1;33m\u001b[0m\u001b[0m\n\u001b[0;32m    110\u001b[0m     \u001b[1;31m# Running inside `run_distribute_coordinator` already.\u001b[0m\u001b[1;33m\u001b[0m\u001b[1;33m\u001b[0m\u001b[1;33m\u001b[0m\u001b[0m\n",
      "\u001b[1;32m~\\anaconda3\\envs\\tensorflow\\lib\\site-packages\\tensorflow\\python\\keras\\engine\\training.py\u001b[0m in \u001b[0;36mevaluate\u001b[1;34m(self, x, y, batch_size, verbose, sample_weight, steps, callbacks, max_queue_size, workers, use_multiprocessing, return_dict)\u001b[0m\n\u001b[0;32m   1377\u001b[0m             \u001b[1;32mwith\u001b[0m \u001b[0mtrace\u001b[0m\u001b[1;33m.\u001b[0m\u001b[0mTrace\u001b[0m\u001b[1;33m(\u001b[0m\u001b[1;34m'TraceContext'\u001b[0m\u001b[1;33m,\u001b[0m \u001b[0mgraph_type\u001b[0m\u001b[1;33m=\u001b[0m\u001b[1;34m'test'\u001b[0m\u001b[1;33m,\u001b[0m \u001b[0mstep_num\u001b[0m\u001b[1;33m=\u001b[0m\u001b[0mstep\u001b[0m\u001b[1;33m)\u001b[0m\u001b[1;33m:\u001b[0m\u001b[1;33m\u001b[0m\u001b[1;33m\u001b[0m\u001b[0m\n\u001b[0;32m   1378\u001b[0m               \u001b[0mcallbacks\u001b[0m\u001b[1;33m.\u001b[0m\u001b[0mon_test_batch_begin\u001b[0m\u001b[1;33m(\u001b[0m\u001b[0mstep\u001b[0m\u001b[1;33m)\u001b[0m\u001b[1;33m\u001b[0m\u001b[1;33m\u001b[0m\u001b[0m\n\u001b[1;32m-> 1379\u001b[1;33m               \u001b[0mtmp_logs\u001b[0m \u001b[1;33m=\u001b[0m \u001b[0mtest_function\u001b[0m\u001b[1;33m(\u001b[0m\u001b[0miterator\u001b[0m\u001b[1;33m)\u001b[0m\u001b[1;33m\u001b[0m\u001b[1;33m\u001b[0m\u001b[0m\n\u001b[0m\u001b[0;32m   1380\u001b[0m               \u001b[1;32mif\u001b[0m \u001b[0mdata_handler\u001b[0m\u001b[1;33m.\u001b[0m\u001b[0mshould_sync\u001b[0m\u001b[1;33m:\u001b[0m\u001b[1;33m\u001b[0m\u001b[1;33m\u001b[0m\u001b[0m\n\u001b[0;32m   1381\u001b[0m                 \u001b[0mcontext\u001b[0m\u001b[1;33m.\u001b[0m\u001b[0masync_wait\u001b[0m\u001b[1;33m(\u001b[0m\u001b[1;33m)\u001b[0m\u001b[1;33m\u001b[0m\u001b[1;33m\u001b[0m\u001b[0m\n",
      "\u001b[1;32m~\\anaconda3\\envs\\tensorflow\\lib\\site-packages\\tensorflow\\python\\eager\\def_function.py\u001b[0m in \u001b[0;36m__call__\u001b[1;34m(self, *args, **kwds)\u001b[0m\n\u001b[0;32m    778\u001b[0m       \u001b[1;32melse\u001b[0m\u001b[1;33m:\u001b[0m\u001b[1;33m\u001b[0m\u001b[1;33m\u001b[0m\u001b[0m\n\u001b[0;32m    779\u001b[0m         \u001b[0mcompiler\u001b[0m \u001b[1;33m=\u001b[0m \u001b[1;34m\"nonXla\"\u001b[0m\u001b[1;33m\u001b[0m\u001b[1;33m\u001b[0m\u001b[0m\n\u001b[1;32m--> 780\u001b[1;33m         \u001b[0mresult\u001b[0m \u001b[1;33m=\u001b[0m \u001b[0mself\u001b[0m\u001b[1;33m.\u001b[0m\u001b[0m_call\u001b[0m\u001b[1;33m(\u001b[0m\u001b[1;33m*\u001b[0m\u001b[0margs\u001b[0m\u001b[1;33m,\u001b[0m \u001b[1;33m**\u001b[0m\u001b[0mkwds\u001b[0m\u001b[1;33m)\u001b[0m\u001b[1;33m\u001b[0m\u001b[1;33m\u001b[0m\u001b[0m\n\u001b[0m\u001b[0;32m    781\u001b[0m \u001b[1;33m\u001b[0m\u001b[0m\n\u001b[0;32m    782\u001b[0m       \u001b[0mnew_tracing_count\u001b[0m \u001b[1;33m=\u001b[0m \u001b[0mself\u001b[0m\u001b[1;33m.\u001b[0m\u001b[0m_get_tracing_count\u001b[0m\u001b[1;33m(\u001b[0m\u001b[1;33m)\u001b[0m\u001b[1;33m\u001b[0m\u001b[1;33m\u001b[0m\u001b[0m\n",
      "\u001b[1;32m~\\anaconda3\\envs\\tensorflow\\lib\\site-packages\\tensorflow\\python\\eager\\def_function.py\u001b[0m in \u001b[0;36m_call\u001b[1;34m(self, *args, **kwds)\u001b[0m\n\u001b[0;32m    812\u001b[0m       \u001b[1;31m# In this case we have not created variables on the first call. So we can\u001b[0m\u001b[1;33m\u001b[0m\u001b[1;33m\u001b[0m\u001b[1;33m\u001b[0m\u001b[0m\n\u001b[0;32m    813\u001b[0m       \u001b[1;31m# run the first trace but we should fail if variables are created.\u001b[0m\u001b[1;33m\u001b[0m\u001b[1;33m\u001b[0m\u001b[1;33m\u001b[0m\u001b[0m\n\u001b[1;32m--> 814\u001b[1;33m       \u001b[0mresults\u001b[0m \u001b[1;33m=\u001b[0m \u001b[0mself\u001b[0m\u001b[1;33m.\u001b[0m\u001b[0m_stateful_fn\u001b[0m\u001b[1;33m(\u001b[0m\u001b[1;33m*\u001b[0m\u001b[0margs\u001b[0m\u001b[1;33m,\u001b[0m \u001b[1;33m**\u001b[0m\u001b[0mkwds\u001b[0m\u001b[1;33m)\u001b[0m\u001b[1;33m\u001b[0m\u001b[1;33m\u001b[0m\u001b[0m\n\u001b[0m\u001b[0;32m    815\u001b[0m       \u001b[1;32mif\u001b[0m \u001b[0mself\u001b[0m\u001b[1;33m.\u001b[0m\u001b[0m_created_variables\u001b[0m\u001b[1;33m:\u001b[0m\u001b[1;33m\u001b[0m\u001b[1;33m\u001b[0m\u001b[0m\n\u001b[0;32m    816\u001b[0m         raise ValueError(\"Creating variables on a non-first call to a function\"\n",
      "\u001b[1;32m~\\anaconda3\\envs\\tensorflow\\lib\\site-packages\\tensorflow\\python\\eager\\function.py\u001b[0m in \u001b[0;36m__call__\u001b[1;34m(self, *args, **kwargs)\u001b[0m\n\u001b[0;32m   2827\u001b[0m     \u001b[1;32mwith\u001b[0m \u001b[0mself\u001b[0m\u001b[1;33m.\u001b[0m\u001b[0m_lock\u001b[0m\u001b[1;33m:\u001b[0m\u001b[1;33m\u001b[0m\u001b[1;33m\u001b[0m\u001b[0m\n\u001b[0;32m   2828\u001b[0m       \u001b[0mgraph_function\u001b[0m\u001b[1;33m,\u001b[0m \u001b[0margs\u001b[0m\u001b[1;33m,\u001b[0m \u001b[0mkwargs\u001b[0m \u001b[1;33m=\u001b[0m \u001b[0mself\u001b[0m\u001b[1;33m.\u001b[0m\u001b[0m_maybe_define_function\u001b[0m\u001b[1;33m(\u001b[0m\u001b[0margs\u001b[0m\u001b[1;33m,\u001b[0m \u001b[0mkwargs\u001b[0m\u001b[1;33m)\u001b[0m\u001b[1;33m\u001b[0m\u001b[1;33m\u001b[0m\u001b[0m\n\u001b[1;32m-> 2829\u001b[1;33m     \u001b[1;32mreturn\u001b[0m \u001b[0mgraph_function\u001b[0m\u001b[1;33m.\u001b[0m\u001b[0m_filtered_call\u001b[0m\u001b[1;33m(\u001b[0m\u001b[0margs\u001b[0m\u001b[1;33m,\u001b[0m \u001b[0mkwargs\u001b[0m\u001b[1;33m)\u001b[0m  \u001b[1;31m# pylint: disable=protected-access\u001b[0m\u001b[1;33m\u001b[0m\u001b[1;33m\u001b[0m\u001b[0m\n\u001b[0m\u001b[0;32m   2830\u001b[0m \u001b[1;33m\u001b[0m\u001b[0m\n\u001b[0;32m   2831\u001b[0m   \u001b[1;33m@\u001b[0m\u001b[0mproperty\u001b[0m\u001b[1;33m\u001b[0m\u001b[1;33m\u001b[0m\u001b[0m\n",
      "\u001b[1;32m~\\anaconda3\\envs\\tensorflow\\lib\\site-packages\\tensorflow\\python\\eager\\function.py\u001b[0m in \u001b[0;36m_filtered_call\u001b[1;34m(self, args, kwargs, cancellation_manager)\u001b[0m\n\u001b[0;32m   1841\u001b[0m       \u001b[0;31m`\u001b[0m\u001b[0margs\u001b[0m\u001b[0;31m`\u001b[0m \u001b[1;32mand\u001b[0m\u001b[0;31m \u001b[0m\u001b[0;31m`\u001b[0m\u001b[0mkwargs\u001b[0m\u001b[0;31m`\u001b[0m\u001b[1;33m.\u001b[0m\u001b[1;33m\u001b[0m\u001b[1;33m\u001b[0m\u001b[0m\n\u001b[0;32m   1842\u001b[0m     \"\"\"\n\u001b[1;32m-> 1843\u001b[1;33m     return self._call_flat(\n\u001b[0m\u001b[0;32m   1844\u001b[0m         [t for t in nest.flatten((args, kwargs), expand_composites=True)\n\u001b[0;32m   1845\u001b[0m          if isinstance(t, (ops.Tensor,\n",
      "\u001b[1;32m~\\anaconda3\\envs\\tensorflow\\lib\\site-packages\\tensorflow\\python\\eager\\function.py\u001b[0m in \u001b[0;36m_call_flat\u001b[1;34m(self, args, captured_inputs, cancellation_manager)\u001b[0m\n\u001b[0;32m   1921\u001b[0m         and executing_eagerly):\n\u001b[0;32m   1922\u001b[0m       \u001b[1;31m# No tape is watching; skip to running the function.\u001b[0m\u001b[1;33m\u001b[0m\u001b[1;33m\u001b[0m\u001b[1;33m\u001b[0m\u001b[0m\n\u001b[1;32m-> 1923\u001b[1;33m       return self._build_call_outputs(self._inference_function.call(\n\u001b[0m\u001b[0;32m   1924\u001b[0m           ctx, args, cancellation_manager=cancellation_manager))\n\u001b[0;32m   1925\u001b[0m     forward_backward = self._select_forward_and_backward_functions(\n",
      "\u001b[1;32m~\\anaconda3\\envs\\tensorflow\\lib\\site-packages\\tensorflow\\python\\eager\\function.py\u001b[0m in \u001b[0;36mcall\u001b[1;34m(self, ctx, args, cancellation_manager)\u001b[0m\n\u001b[0;32m    543\u001b[0m       \u001b[1;32mwith\u001b[0m \u001b[0m_InterpolateFunctionError\u001b[0m\u001b[1;33m(\u001b[0m\u001b[0mself\u001b[0m\u001b[1;33m)\u001b[0m\u001b[1;33m:\u001b[0m\u001b[1;33m\u001b[0m\u001b[1;33m\u001b[0m\u001b[0m\n\u001b[0;32m    544\u001b[0m         \u001b[1;32mif\u001b[0m \u001b[0mcancellation_manager\u001b[0m \u001b[1;32mis\u001b[0m \u001b[1;32mNone\u001b[0m\u001b[1;33m:\u001b[0m\u001b[1;33m\u001b[0m\u001b[1;33m\u001b[0m\u001b[0m\n\u001b[1;32m--> 545\u001b[1;33m           outputs = execute.execute(\n\u001b[0m\u001b[0;32m    546\u001b[0m               \u001b[0mstr\u001b[0m\u001b[1;33m(\u001b[0m\u001b[0mself\u001b[0m\u001b[1;33m.\u001b[0m\u001b[0msignature\u001b[0m\u001b[1;33m.\u001b[0m\u001b[0mname\u001b[0m\u001b[1;33m)\u001b[0m\u001b[1;33m,\u001b[0m\u001b[1;33m\u001b[0m\u001b[1;33m\u001b[0m\u001b[0m\n\u001b[0;32m    547\u001b[0m               \u001b[0mnum_outputs\u001b[0m\u001b[1;33m=\u001b[0m\u001b[0mself\u001b[0m\u001b[1;33m.\u001b[0m\u001b[0m_num_outputs\u001b[0m\u001b[1;33m,\u001b[0m\u001b[1;33m\u001b[0m\u001b[1;33m\u001b[0m\u001b[0m\n",
      "\u001b[1;32m~\\anaconda3\\envs\\tensorflow\\lib\\site-packages\\tensorflow\\python\\eager\\execute.py\u001b[0m in \u001b[0;36mquick_execute\u001b[1;34m(op_name, num_outputs, inputs, attrs, ctx, name)\u001b[0m\n\u001b[0;32m     57\u001b[0m   \u001b[1;32mtry\u001b[0m\u001b[1;33m:\u001b[0m\u001b[1;33m\u001b[0m\u001b[1;33m\u001b[0m\u001b[0m\n\u001b[0;32m     58\u001b[0m     \u001b[0mctx\u001b[0m\u001b[1;33m.\u001b[0m\u001b[0mensure_initialized\u001b[0m\u001b[1;33m(\u001b[0m\u001b[1;33m)\u001b[0m\u001b[1;33m\u001b[0m\u001b[1;33m\u001b[0m\u001b[0m\n\u001b[1;32m---> 59\u001b[1;33m     tensors = pywrap_tfe.TFE_Py_Execute(ctx._handle, device_name, op_name,\n\u001b[0m\u001b[0;32m     60\u001b[0m                                         inputs, attrs, num_outputs)\n\u001b[0;32m     61\u001b[0m   \u001b[1;32mexcept\u001b[0m \u001b[0mcore\u001b[0m\u001b[1;33m.\u001b[0m\u001b[0m_NotOkStatusException\u001b[0m \u001b[1;32mas\u001b[0m \u001b[0me\u001b[0m\u001b[1;33m:\u001b[0m\u001b[1;33m\u001b[0m\u001b[1;33m\u001b[0m\u001b[0m\n",
      "\u001b[1;31mKeyboardInterrupt\u001b[0m: "
     ]
    }
   ],
   "source": [
    "model_5.fit( train_generator, validation_data = validation_generator, epochs = 10, batch_size = 32)"
   ]
  },
  {
   "cell_type": "code",
   "execution_count": null,
   "metadata": {},
   "outputs": [],
   "source": []
  },
  {
   "cell_type": "code",
   "execution_count": null,
   "metadata": {},
   "outputs": [],
   "source": []
  },
  {
   "cell_type": "markdown",
   "metadata": {},
   "source": [
    "# Models for Otsu's Images"
   ]
  },
  {
   "cell_type": "code",
   "execution_count": 59,
   "metadata": {},
   "outputs": [],
   "source": [
    "Otsu_Datagen= tf.keras.preprocessing.image.ImageDataGenerator( rescale = 1./255,\n",
    "                                                                 shear_range = 0.2,\n",
    "                                                                 zoom_range = 0.2,\n",
    "                                                                 horizontal_flip = True,\n",
    "                                                                 vertical_flip = True\n",
    "                                                               )"
   ]
  },
  {
   "cell_type": "code",
   "execution_count": 60,
   "metadata": {},
   "outputs": [
    {
     "name": "stdout",
     "output_type": "stream",
     "text": [
      "Found 304 images belonging to 2 classes.\n"
     ]
    }
   ],
   "source": [
    "Otsu_train_generator = Otsu_Datagen.flow_from_directory( \n",
    "                                                     \"C:\\\\Users\\\\adhim\\\\Desktop\\\\Compressed_Segmented2\\\\Train\",\n",
    "                                                     target_size = (250, 250),\n",
    "                                                     batch_size = 32,\n",
    "                                                     class_mode = \"binary\"\n",
    "                                                    )"
   ]
  },
  {
   "cell_type": "code",
   "execution_count": 61,
   "metadata": {},
   "outputs": [
    {
     "name": "stdout",
     "output_type": "stream",
     "text": [
      "Found 111 images belonging to 2 classes.\n"
     ]
    }
   ],
   "source": [
    "Otsu_validation_generator = Otsu_Datagen.flow_from_directory( \"C:\\\\Users\\\\adhim\\\\Desktop\\\\Compressed_Segmented1\\\\Validation\",\n",
    "                                                          target_size = (250, 250),\n",
    "                                                         batch_size = 32,\n",
    "                                                         class_mode = \"binary\"\n",
    "                                                         )"
   ]
  },
  {
   "cell_type": "markdown",
   "metadata": {},
   "source": [
    "##  Model 4"
   ]
  },
  {
   "cell_type": "code",
   "execution_count": 62,
   "metadata": {},
   "outputs": [],
   "source": [
    "leaky_relu_alpha = 0.1"
   ]
  },
  {
   "cell_type": "code",
   "execution_count": 88,
   "metadata": {},
   "outputs": [],
   "source": [
    "model3 = models.Sequential()\n",
    "\n",
    "model3.add(layers.Conv2D(filters = 16, kernel_size = (3, 3), padding = 'same', input_shape = (250, 250, 3)))\n",
    "\n",
    "model3.add(LeakyReLU( alpha = leaky_relu_alpha))\n",
    "\n",
    "model3.add(layers.MaxPool2D( pool_size = 2, strides = 2))\n",
    "\n",
    "model3.add(layers.Conv2D(filters = 32, kernel_size = (3, 3), padding = \"valid\"))\n",
    "\n",
    "model3.add(LeakyReLU( alpha = leaky_relu_alpha ))\n",
    "\n",
    "model3.add(layers.MaxPool2D(pool_size = 2, strides = 2 ))\n",
    "\n",
    "model3.add(layers.Conv2D(filters = 48, kernel_size = (3, 3),))\n",
    "\n",
    "model3.add(LeakyReLU( alpha = leaky_relu_alpha ))\n",
    "\n",
    "model3.add(layers.MaxPool2D(pool_size = 2, strides = 2 ))"
   ]
  },
  {
   "cell_type": "code",
   "execution_count": 89,
   "metadata": {},
   "outputs": [],
   "source": [
    "model3.add(layers.Flatten())\n",
    "\n",
    "model3.add(layers.Dense(256, activation = \"relu\"))\n",
    "\n",
    "model3.add(layers.Dense(128, activation = \"relu\"))\n",
    "\n",
    "model3.add(layers.Dense(3, activation = \"softmax\"))"
   ]
  },
  {
   "cell_type": "code",
   "execution_count": 90,
   "metadata": {},
   "outputs": [
    {
     "name": "stdout",
     "output_type": "stream",
     "text": [
      "Model: \"sequential_17\"\n",
      "_________________________________________________________________\n",
      "Layer (type)                 Output Shape              Param #   \n",
      "=================================================================\n",
      "conv2d_51 (Conv2D)           (None, 250, 250, 16)      448       \n",
      "_________________________________________________________________\n",
      "leaky_re_lu_51 (LeakyReLU)   (None, 250, 250, 16)      0         \n",
      "_________________________________________________________________\n",
      "max_pooling2d_51 (MaxPooling (None, 125, 125, 16)      0         \n",
      "_________________________________________________________________\n",
      "conv2d_52 (Conv2D)           (None, 123, 123, 32)      4640      \n",
      "_________________________________________________________________\n",
      "leaky_re_lu_52 (LeakyReLU)   (None, 123, 123, 32)      0         \n",
      "_________________________________________________________________\n",
      "max_pooling2d_52 (MaxPooling (None, 61, 61, 32)        0         \n",
      "_________________________________________________________________\n",
      "conv2d_53 (Conv2D)           (None, 59, 59, 48)        13872     \n",
      "_________________________________________________________________\n",
      "leaky_re_lu_53 (LeakyReLU)   (None, 59, 59, 48)        0         \n",
      "_________________________________________________________________\n",
      "max_pooling2d_53 (MaxPooling (None, 29, 29, 48)        0         \n",
      "_________________________________________________________________\n",
      "flatten_17 (Flatten)         (None, 40368)             0         \n",
      "_________________________________________________________________\n",
      "dense_48 (Dense)             (None, 256)               10334464  \n",
      "_________________________________________________________________\n",
      "dropout_21 (Dropout)         (None, 256)               0         \n",
      "_________________________________________________________________\n",
      "dense_49 (Dense)             (None, 128)               32896     \n",
      "_________________________________________________________________\n",
      "dropout_22 (Dropout)         (None, 128)               0         \n",
      "_________________________________________________________________\n",
      "dense_50 (Dense)             (None, 3)                 387       \n",
      "=================================================================\n",
      "Total params: 10,386,707\n",
      "Trainable params: 10,386,707\n",
      "Non-trainable params: 0\n",
      "_________________________________________________________________\n"
     ]
    }
   ],
   "source": [
    "model3.summary()"
   ]
  },
  {
   "cell_type": "code",
   "execution_count": 91,
   "metadata": {},
   "outputs": [],
   "source": [
    "model3.compile( loss = 'sparse_categorical_crossentropy', metrics = ['accuracy'], optimizer = \"adam\")"
   ]
  },
  {
   "cell_type": "code",
   "execution_count": 92,
   "metadata": {},
   "outputs": [
    {
     "name": "stdout",
     "output_type": "stream",
     "text": [
      "Epoch 1/20\n",
      "10/10 [==============================] - 5s 547ms/step - loss: 1.8822 - accuracy: 0.5625 - val_loss: 0.8064 - val_accuracy: 0.5856\n",
      "Epoch 2/20\n",
      "10/10 [==============================] - 5s 517ms/step - loss: 0.7095 - accuracy: 0.6020 - val_loss: 0.7275 - val_accuracy: 0.6757\n",
      "Epoch 3/20\n",
      "10/10 [==============================] - 5s 489ms/step - loss: 0.6596 - accuracy: 0.6809 - val_loss: 0.7554 - val_accuracy: 0.6757\n",
      "Epoch 4/20\n",
      "10/10 [==============================] - 5s 484ms/step - loss: 0.6449 - accuracy: 0.6743 - val_loss: 0.7386 - val_accuracy: 0.6757\n",
      "Epoch 5/20\n",
      "10/10 [==============================] - 5s 486ms/step - loss: 0.6465 - accuracy: 0.6908 - val_loss: 0.7548 - val_accuracy: 0.6757\n",
      "Epoch 6/20\n",
      "10/10 [==============================] - 5s 492ms/step - loss: 0.6544 - accuracy: 0.6645 - val_loss: 0.7831 - val_accuracy: 0.6937\n",
      "Epoch 7/20\n",
      "10/10 [==============================] - 5s 525ms/step - loss: 0.6695 - accuracy: 0.6809 - val_loss: 0.7854 - val_accuracy: 0.4144\n",
      "Epoch 8/20\n",
      "10/10 [==============================] - 5s 508ms/step - loss: 0.6604 - accuracy: 0.6480 - val_loss: 0.8255 - val_accuracy: 0.3153\n",
      "Epoch 9/20\n",
      "10/10 [==============================] - 5s 485ms/step - loss: 0.6505 - accuracy: 0.6743 - val_loss: 0.8016 - val_accuracy: 0.3514\n",
      "Epoch 10/20\n",
      "10/10 [==============================] - 5s 492ms/step - loss: 0.6255 - accuracy: 0.6875 - val_loss: 0.8205 - val_accuracy: 0.4324\n",
      "Epoch 11/20\n",
      "10/10 [==============================] - 5s 490ms/step - loss: 0.6186 - accuracy: 0.7007 - val_loss: 0.7552 - val_accuracy: 0.7027\n",
      "Epoch 12/20\n",
      "10/10 [==============================] - 5s 491ms/step - loss: 0.6120 - accuracy: 0.6974 - val_loss: 0.7282 - val_accuracy: 0.3604\n",
      "Epoch 13/20\n",
      "10/10 [==============================] - 5s 496ms/step - loss: 0.5909 - accuracy: 0.6809 - val_loss: 0.6638 - val_accuracy: 0.6757\n",
      "Epoch 14/20\n",
      "10/10 [==============================] - 5s 499ms/step - loss: 0.5508 - accuracy: 0.7171 - val_loss: 0.7385 - val_accuracy: 0.3694\n",
      "Epoch 15/20\n",
      "10/10 [==============================] - 5s 510ms/step - loss: 0.5937 - accuracy: 0.6809 - val_loss: 0.6653 - val_accuracy: 0.6757\n",
      "Epoch 16/20\n",
      "10/10 [==============================] - 5s 490ms/step - loss: 0.5851 - accuracy: 0.6974 - val_loss: 0.6848 - val_accuracy: 0.7477\n",
      "Epoch 17/20\n",
      "10/10 [==============================] - 5s 491ms/step - loss: 0.5817 - accuracy: 0.6711 - val_loss: 0.6860 - val_accuracy: 0.7117\n",
      "Epoch 18/20\n",
      "10/10 [==============================] - 5s 491ms/step - loss: 0.5516 - accuracy: 0.7237 - val_loss: 0.6452 - val_accuracy: 0.7568\n",
      "Epoch 19/20\n",
      "10/10 [==============================] - 5s 493ms/step - loss: 0.5431 - accuracy: 0.6908 - val_loss: 0.7354 - val_accuracy: 0.3694\n",
      "Epoch 20/20\n",
      "10/10 [==============================] - 5s 506ms/step - loss: 0.5451 - accuracy: 0.7138 - val_loss: 0.6487 - val_accuracy: 0.7027\n"
     ]
    },
    {
     "data": {
      "text/plain": [
       "<tensorflow.python.keras.callbacks.History at 0x21955b89100>"
      ]
     },
     "execution_count": 92,
     "metadata": {},
     "output_type": "execute_result"
    }
   ],
   "source": [
    "model3.fit( Otsu_train_generator, epochs = 20, validation_data = Otsu_validation_generator)"
   ]
  },
  {
   "cell_type": "markdown",
   "metadata": {},
   "source": [
    "# Model for  Otsu  Binary Threshold Image"
   ]
  },
  {
   "cell_type": "code",
   "execution_count": 2,
   "metadata": {},
   "outputs": [],
   "source": [
    "Otsu_Binary_Datagen= tf.keras.preprocessing.image.ImageDataGenerator( rescale = 1./255,\n",
    "                                                                 shear_range = 0.2,\n",
    "                                                                 zoom_range = 0.2,\n",
    "                                                                 horizontal_flip = True,\n",
    "                                                                 vertical_flip = True\n",
    "                                                               )"
   ]
  },
  {
   "cell_type": "code",
   "execution_count": 4,
   "metadata": {},
   "outputs": [
    {
     "name": "stdout",
     "output_type": "stream",
     "text": [
      "Found 303 images belonging to 2 classes.\n"
     ]
    }
   ],
   "source": [
    "Otsu_Binary_train_generator = Otsu_Binary_Datagen.flow_from_directory( \n",
    "                                                     \"C:\\\\Users\\\\adhim\\\\Desktop\\\\Compressed_Segmented3\\\\Train\",\n",
    "                                                     target_size = (250, 250),\n",
    "                                                     batch_size = 32,\n",
    "                                                     class_mode = \"binary\"\n",
    "                                                    )"
   ]
  },
  {
   "cell_type": "code",
   "execution_count": 13,
   "metadata": {},
   "outputs": [
    {
     "name": "stdout",
     "output_type": "stream",
     "text": [
      "Found 131 images belonging to 2 classes.\n"
     ]
    }
   ],
   "source": [
    "Otsu_Binary_validation_generator = Otsu_Binary_Datagen.flow_from_directory( \"C:\\\\Users\\\\adhim\\\\Desktop\\\\Compressed_Segmented3\\\\Validation\",\n",
    "                                                          target_size = (250, 250),\n",
    "                                                         batch_size = 32,\n",
    "                                                         class_mode = \"binary\"\n",
    "                                                         )"
   ]
  },
  {
   "cell_type": "markdown",
   "metadata": {},
   "source": [
    "##  Model 4"
   ]
  },
  {
   "cell_type": "code",
   "execution_count": 14,
   "metadata": {},
   "outputs": [],
   "source": [
    "leaky_relu_alpha = 0.1"
   ]
  },
  {
   "cell_type": "code",
   "execution_count": 50,
   "metadata": {},
   "outputs": [],
   "source": [
    "model4 = models.Sequential()\n",
    "\n",
    "model4.add(layers.Conv2D(filters = 16, kernel_size = (3, 3), padding = 'same', input_shape = (250, 250, 3)))\n",
    "\n",
    "model4.add(LeakyReLU( alpha = leaky_relu_alpha))\n",
    "\n",
    "model4.add(layers.MaxPool2D( pool_size = 2, strides = 2))\n",
    "\n",
    "model4.add(layers.Conv2D(filters = 32, kernel_size = (3, 3), padding = \"valid\"))\n",
    "\n",
    "model4.add(LeakyReLU( alpha = leaky_relu_alpha ))\n",
    "\n",
    "model4.add(layers.MaxPool2D(pool_size = 2, strides = 2 ))\n",
    "\n",
    "model4.add(layers.Conv2D(filters = 48, kernel_size = (3, 3)))\n",
    "\n",
    "model4.add(LeakyReLU( alpha = leaky_relu_alpha ))\n",
    "\n",
    "model4.add(layers.MaxPool2D(pool_size = 2, strides = 2 ))"
   ]
  },
  {
   "cell_type": "code",
   "execution_count": 51,
   "metadata": {},
   "outputs": [],
   "source": [
    "model4.add(layers.Flatten())\n",
    "\n",
    "model4.add(layers.Dense(256, kernel_regularizer = l1_l2(0.001), activation = \"relu\"))\n",
    "\n",
    "model4.add(layers.Dense(128, kernel_regularizer = l1_l2(0.001), activation = \"relu\"))\n",
    "\n",
    "model4.add(layers.Dense(3, activation = \"softmax\"))"
   ]
  },
  {
   "cell_type": "code",
   "execution_count": 52,
   "metadata": {},
   "outputs": [],
   "source": [
    "model4.compile( loss = 'sparse_categorical_crossentropy', metrics = ['accuracy'], optimizer = \"adam\")"
   ]
  },
  {
   "cell_type": "code",
   "execution_count": 53,
   "metadata": {},
   "outputs": [
    {
     "name": "stdout",
     "output_type": "stream",
     "text": [
      "Epoch 1/20\n",
      "10/10 [==============================] - 4s 440ms/step - loss: 43.3236 - accuracy: 0.6007 - val_loss: 20.4487 - val_accuracy: 0.6794\n",
      "Epoch 2/20\n",
      "10/10 [==============================] - 4s 415ms/step - loss: 17.1295 - accuracy: 0.6931 - val_loss: 12.8509 - val_accuracy: 0.6794\n",
      "Epoch 3/20\n",
      "10/10 [==============================] - 4s 401ms/step - loss: 10.2028 - accuracy: 0.6766 - val_loss: 7.9686 - val_accuracy: 0.6794\n",
      "Epoch 4/20\n",
      "10/10 [==============================] - 4s 397ms/step - loss: 6.6317 - accuracy: 0.6931 - val_loss: 5.5347 - val_accuracy: 0.6794\n",
      "Epoch 5/20\n",
      "10/10 [==============================] - 4s 400ms/step - loss: 4.8842 - accuracy: 0.6931 - val_loss: 4.3270 - val_accuracy: 0.6794\n",
      "Epoch 6/20\n",
      "10/10 [==============================] - 4s 397ms/step - loss: 4.0000 - accuracy: 0.6403 - val_loss: 3.6684 - val_accuracy: 0.6794\n",
      "Epoch 7/20\n",
      "10/10 [==============================] - 4s 399ms/step - loss: 3.5193 - accuracy: 0.6931 - val_loss: 3.3434 - val_accuracy: 0.6794\n",
      "Epoch 8/20\n",
      "10/10 [==============================] - 4s 397ms/step - loss: 3.1582 - accuracy: 0.6931 - val_loss: 3.0081 - val_accuracy: 0.6794\n",
      "Epoch 9/20\n",
      "10/10 [==============================] - 4s 396ms/step - loss: 2.9081 - accuracy: 0.6931 - val_loss: 2.8322 - val_accuracy: 0.6794\n",
      "Epoch 10/20\n",
      "10/10 [==============================] - 4s 400ms/step - loss: 2.7493 - accuracy: 0.6931 - val_loss: 2.7319 - val_accuracy: 0.6794\n",
      "Epoch 11/20\n",
      "10/10 [==============================] - 4s 398ms/step - loss: 2.6098 - accuracy: 0.6931 - val_loss: 2.5851 - val_accuracy: 0.6794\n",
      "Epoch 12/20\n",
      "10/10 [==============================] - 4s 399ms/step - loss: 2.5072 - accuracy: 0.6997 - val_loss: 2.5227 - val_accuracy: 0.6794\n",
      "Epoch 13/20\n",
      "10/10 [==============================] - 4s 398ms/step - loss: 2.3974 - accuracy: 0.7261 - val_loss: 2.5121 - val_accuracy: 0.6565\n",
      "Epoch 14/20\n",
      "10/10 [==============================] - 4s 398ms/step - loss: 2.3193 - accuracy: 0.7657 - val_loss: 2.6611 - val_accuracy: 0.5420\n",
      "Epoch 15/20\n",
      "10/10 [==============================] - 4s 398ms/step - loss: 2.2458 - accuracy: 0.8152 - val_loss: 2.7896 - val_accuracy: 0.6489\n",
      "Epoch 16/20\n",
      "10/10 [==============================] - 4s 404ms/step - loss: 2.2591 - accuracy: 0.8185 - val_loss: 2.6006 - val_accuracy: 0.6260\n",
      "Epoch 17/20\n",
      "10/10 [==============================] - 4s 401ms/step - loss: 2.2129 - accuracy: 0.8251 - val_loss: 2.8916 - val_accuracy: 0.5802\n",
      "Epoch 18/20\n",
      "10/10 [==============================] - 4s 398ms/step - loss: 2.1804 - accuracy: 0.8416 - val_loss: 2.6390 - val_accuracy: 0.6412\n",
      "Epoch 19/20\n",
      "10/10 [==============================] - 4s 400ms/step - loss: 2.1006 - accuracy: 0.8548 - val_loss: 2.5114 - val_accuracy: 0.6183\n",
      "Epoch 20/20\n",
      "10/10 [==============================] - 4s 398ms/step - loss: 2.0221 - accuracy: 0.8713 - val_loss: 2.7446 - val_accuracy: 0.5802\n"
     ]
    },
    {
     "data": {
      "text/plain": [
       "<tensorflow.python.keras.callbacks.History at 0x219523b3310>"
      ]
     },
     "execution_count": 53,
     "metadata": {},
     "output_type": "execute_result"
    }
   ],
   "source": [
    "model4.fit( Otsu_Binary_train_generator, epochs = 20, validation_data = Otsu_Binary_validation_generator)"
   ]
  },
  {
   "cell_type": "code",
   "execution_count": null,
   "metadata": {},
   "outputs": [],
   "source": []
  },
  {
   "cell_type": "code",
   "execution_count": null,
   "metadata": {},
   "outputs": [],
   "source": []
  }
 ],
 "metadata": {
  "kernelspec": {
   "display_name": "Python 3",
   "language": "python",
   "name": "python3"
  },
  "language_info": {
   "codemirror_mode": {
    "name": "ipython",
    "version": 3
   },
   "file_extension": ".py",
   "mimetype": "text/x-python",
   "name": "python",
   "nbconvert_exporter": "python",
   "pygments_lexer": "ipython3",
   "version": "3.8.8"
  }
 },
 "nbformat": 4,
 "nbformat_minor": 4
}
