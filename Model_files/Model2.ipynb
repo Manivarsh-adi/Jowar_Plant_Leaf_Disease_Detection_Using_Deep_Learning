{
 "cells": [
  {
   "cell_type": "code",
   "execution_count": 1,
   "metadata": {},
   "outputs": [],
   "source": [
    "import numpy as np\n",
    "import pandas as pd\n",
    "import tensorflow as tf\n",
    "import cv2\n",
    "\n",
    "import matplotlib.pyplot as plt\n",
    "from PIL import Image\n",
    "from tensorflow.keras import layers, models\n",
    "from tensorflow.keras.layers import LeakyReLU\n",
    "from keras.optimizers import Adam\n",
    "from keras.callbacks import ReduceLROnPlateau\n",
    "from keras.regularizers import l1, l2, l1_l2"
   ]
  },
  {
   "cell_type": "code",
   "execution_count": 19,
   "metadata": {},
   "outputs": [],
   "source": [
    "leaky_relu_alpha = 0.1"
   ]
  },
  {
   "cell_type": "code",
   "execution_count": 9,
   "metadata": {},
   "outputs": [],
   "source": [
    "Datagen= tf.keras.preprocessing.image.ImageDataGenerator( #rescale = 1./25,\n",
    "                                                          shear_range = 0.2,\n",
    "                                                          zoom_range = 0.2,\n",
    "                                                          horizontal_flip = True,\n",
    "                                                          rotation_range = 10,\n",
    "                                                          width_shift_range = 0.2,\n",
    "                                                          height_shift_range = 0.2,\n",
    "                                                          brightness_range = [0.2, 1.2]\n",
    "                                                               )"
   ]
  },
  {
   "cell_type": "code",
   "execution_count": 10,
   "metadata": {},
   "outputs": [
    {
     "name": "stdout",
     "output_type": "stream",
     "text": [
      "Found 298 images belonging to 2 classes.\n"
     ]
    }
   ],
   "source": [
    "train_generator = Datagen.flow_from_directory( \n",
    "                                                     \"C:\\\\Users\\\\adhim\\\\Desktop\\\\Compressed_Segmented1\\\\Train\",\n",
    "                                                     target_size = (180, 180),\n",
    "                                                     batch_size = 32,\n",
    "                                                     class_mode = \"binary\"\n",
    "                                             )"
   ]
  },
  {
   "cell_type": "code",
   "execution_count": 11,
   "metadata": {},
   "outputs": [
    {
     "name": "stdout",
     "output_type": "stream",
     "text": [
      "Found 126 images belonging to 2 classes.\n"
     ]
    }
   ],
   "source": [
    "validation_generator = Datagen.flow_from_directory( \n",
    "                                                        \"C:\\\\Users\\\\adhim\\\\Desktop\\\\Compressed_Segmented1\\\\Validation\",\n",
    "                                                         target_size = (180, 180),\n",
    "                                                         batch_size = 32,\n",
    "                                                         class_mode = \"binary\"\n",
    "                                                    )"
   ]
  },
  {
   "cell_type": "code",
   "execution_count": 31,
   "metadata": {},
   "outputs": [],
   "source": [
    "model = models.Sequential()\n",
    "\n",
    "model.add( layers.Conv2D(16, 3, padding = 'same', input_shape = (180, 180, 3)) )\n",
    "\n",
    "model.add( LeakyReLU() )\n",
    "\n",
    "model.add( layers.MaxPooling2D())\n",
    "\n",
    "model.add( layers.Conv2D(32, 3, padding = 'valid'))\n",
    "\n",
    "model.add( LeakyReLU() )\n",
    "\n",
    "model.add( layers.MaxPooling2D())\n",
    "\n",
    "model.add( layers.Conv2D(64, 3))\n",
    "\n",
    "model.add( LeakyReLU() )\n",
    "\n",
    "model.add( layers.MaxPooling2D() )"
   ]
  },
  {
   "cell_type": "code",
   "execution_count": 32,
   "metadata": {},
   "outputs": [],
   "source": [
    "model.add( layers.Flatten() )\n",
    "\n",
    "model.add( layers.Dense(256, activation = 'relu'))\n",
    "\n",
    "model.add( layers.Dense(128, activation = 'relu'))\n",
    "\n",
    "model.add( layers.Dense(64, activation = 'relu'))\n",
    "\n",
    "model.add( layers.Dense(32, activation = 'relu'))\n",
    "\n",
    "model.add( layers.Dense(2, activation = 'softmax'))"
   ]
  },
  {
   "cell_type": "code",
   "execution_count": 33,
   "metadata": {},
   "outputs": [
    {
     "name": "stdout",
     "output_type": "stream",
     "text": [
      "Model: \"sequential_4\"\n",
      "_________________________________________________________________\n",
      "Layer (type)                 Output Shape              Param #   \n",
      "=================================================================\n",
      "conv2d_10 (Conv2D)           (None, 180, 180, 16)      448       \n",
      "_________________________________________________________________\n",
      "leaky_re_lu_6 (LeakyReLU)    (None, 180, 180, 16)      0         \n",
      "_________________________________________________________________\n",
      "max_pooling2d_9 (MaxPooling2 (None, 90, 90, 16)        0         \n",
      "_________________________________________________________________\n",
      "conv2d_11 (Conv2D)           (None, 88, 88, 32)        4640      \n",
      "_________________________________________________________________\n",
      "leaky_re_lu_7 (LeakyReLU)    (None, 88, 88, 32)        0         \n",
      "_________________________________________________________________\n",
      "max_pooling2d_10 (MaxPooling (None, 44, 44, 32)        0         \n",
      "_________________________________________________________________\n",
      "conv2d_12 (Conv2D)           (None, 42, 42, 64)        18496     \n",
      "_________________________________________________________________\n",
      "leaky_re_lu_8 (LeakyReLU)    (None, 42, 42, 64)        0         \n",
      "_________________________________________________________________\n",
      "max_pooling2d_11 (MaxPooling (None, 21, 21, 64)        0         \n",
      "_________________________________________________________________\n",
      "flatten_4 (Flatten)          (None, 28224)             0         \n",
      "_________________________________________________________________\n",
      "dense_14 (Dense)             (None, 256)               7225600   \n",
      "_________________________________________________________________\n",
      "dense_15 (Dense)             (None, 128)               32896     \n",
      "_________________________________________________________________\n",
      "dense_16 (Dense)             (None, 64)                8256      \n",
      "_________________________________________________________________\n",
      "dense_17 (Dense)             (None, 32)                2080      \n",
      "_________________________________________________________________\n",
      "dense_18 (Dense)             (None, 2)                 66        \n",
      "=================================================================\n",
      "Total params: 7,292,482\n",
      "Trainable params: 7,292,482\n",
      "Non-trainable params: 0\n",
      "_________________________________________________________________\n"
     ]
    }
   ],
   "source": [
    "model.summary()"
   ]
  },
  {
   "cell_type": "code",
   "execution_count": 34,
   "metadata": {},
   "outputs": [],
   "source": [
    "model.compile( optimizer = 'adam', loss = 'binary_crossentropy', metrics = ['accuracy'])"
   ]
  },
  {
   "cell_type": "code",
   "execution_count": 35,
   "metadata": {},
   "outputs": [
    {
     "name": "stdout",
     "output_type": "stream",
     "text": [
      "Epoch 1/20\n",
      "10/10 [==============================] - 4s 438ms/step - loss: 7.0509 - accuracy: 0.7181 - val_loss: 7.6741 - val_accuracy: 0.5635\n",
      "Epoch 2/20\n",
      "10/10 [==============================] - 4s 398ms/step - loss: 7.6918 - accuracy: 0.7651 - val_loss: 7.6741 - val_accuracy: 0.5635\n",
      "Epoch 3/20\n",
      "10/10 [==============================] - 4s 426ms/step - loss: 7.6918 - accuracy: 0.7651 - val_loss: 7.6741 - val_accuracy: 0.5635\n",
      "Epoch 4/20\n",
      "10/10 [==============================] - 4s 400ms/step - loss: 7.6918 - accuracy: 0.7651 - val_loss: 7.6741 - val_accuracy: 0.5635\n",
      "Epoch 5/20\n",
      "10/10 [==============================] - 4s 385ms/step - loss: 7.6918 - accuracy: 0.7651 - val_loss: 7.6741 - val_accuracy: 0.5635\n",
      "Epoch 6/20\n",
      "10/10 [==============================] - 4s 385ms/step - loss: 7.6918 - accuracy: 0.7651 - val_loss: 7.6741 - val_accuracy: 0.5635\n",
      "Epoch 7/20\n",
      "10/10 [==============================] - 4s 416ms/step - loss: 7.6918 - accuracy: 0.7651 - val_loss: 7.6741 - val_accuracy: 0.5635\n",
      "Epoch 8/20\n",
      "10/10 [==============================] - 4s 385ms/step - loss: 7.6918 - accuracy: 0.7651 - val_loss: 7.6741 - val_accuracy: 0.5635\n",
      "Epoch 9/20\n",
      "10/10 [==============================] - 4s 400ms/step - loss: 7.6918 - accuracy: 0.7651 - val_loss: 7.6741 - val_accuracy: 0.5635\n",
      "Epoch 10/20\n",
      "10/10 [==============================] - 4s 385ms/step - loss: 7.6918 - accuracy: 0.7651 - val_loss: 7.6741 - val_accuracy: 0.5635\n",
      "Epoch 11/20\n",
      "10/10 [==============================] - 4s 387ms/step - loss: 7.6918 - accuracy: 0.7651 - val_loss: 7.6741 - val_accuracy: 0.5635\n",
      "Epoch 12/20\n",
      "10/10 [==============================] - 4s 413ms/step - loss: 7.6918 - accuracy: 0.7651 - val_loss: 7.6741 - val_accuracy: 0.5635\n",
      "Epoch 13/20\n",
      "10/10 [==============================] - 4s 406ms/step - loss: 7.6918 - accuracy: 0.7651 - val_loss: 7.6741 - val_accuracy: 0.5635\n",
      "Epoch 14/20\n",
      "10/10 [==============================] - 4s 396ms/step - loss: 7.6918 - accuracy: 0.7651 - val_loss: 7.6741 - val_accuracy: 0.5635\n",
      "Epoch 15/20\n",
      "10/10 [==============================] - 4s 383ms/step - loss: 7.6918 - accuracy: 0.7651 - val_loss: 7.6741 - val_accuracy: 0.5635\n",
      "Epoch 16/20\n",
      "10/10 [==============================] - 4s 378ms/step - loss: 7.6918 - accuracy: 0.7651 - val_loss: 7.6741 - val_accuracy: 0.5635\n",
      "Epoch 17/20\n",
      "10/10 [==============================] - 4s 418ms/step - loss: 7.6918 - accuracy: 0.7651 - val_loss: 7.6741 - val_accuracy: 0.5635\n",
      "Epoch 18/20\n",
      "10/10 [==============================] - 4s 386ms/step - loss: 7.6918 - accuracy: 0.7651 - val_loss: 7.6741 - val_accuracy: 0.5635\n",
      "Epoch 19/20\n",
      "10/10 [==============================] - 4s 396ms/step - loss: 7.6918 - accuracy: 0.7651 - val_loss: 7.6741 - val_accuracy: 0.5635\n",
      "Epoch 20/20\n",
      "10/10 [==============================] - 4s 391ms/step - loss: 7.6918 - accuracy: 0.7651 - val_loss: 7.6741 - val_accuracy: 0.5635\n"
     ]
    },
    {
     "data": {
      "text/plain": [
       "<tensorflow.python.keras.callbacks.History at 0x1b2a14d25b0>"
      ]
     },
     "execution_count": 35,
     "metadata": {},
     "output_type": "execute_result"
    }
   ],
   "source": [
    "model.fit(train_generator, validation_data = validation_generator, epochs = 20, batch_size = 32)"
   ]
  },
  {
   "cell_type": "code",
   "execution_count": null,
   "metadata": {},
   "outputs": [],
   "source": []
  }
 ],
 "metadata": {
  "kernelspec": {
   "display_name": "Python 3",
   "language": "python",
   "name": "python3"
  },
  "language_info": {
   "codemirror_mode": {
    "name": "ipython",
    "version": 3
   },
   "file_extension": ".py",
   "mimetype": "text/x-python",
   "name": "python",
   "nbconvert_exporter": "python",
   "pygments_lexer": "ipython3",
   "version": "3.8.3"
  }
 },
 "nbformat": 4,
 "nbformat_minor": 4
}
