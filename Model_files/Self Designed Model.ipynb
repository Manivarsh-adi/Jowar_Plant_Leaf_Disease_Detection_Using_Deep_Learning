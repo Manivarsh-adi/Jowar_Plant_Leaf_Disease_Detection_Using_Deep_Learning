{
 "cells": [
  {
   "cell_type": "code",
   "execution_count": 11,
   "metadata": {},
   "outputs": [],
   "source": [
    "import numpy as np\n",
    "import pandas as pd\n",
    "import tensorflow as tf\n",
    "#import cv2\n",
    "import datetime\n",
    "import os\n",
    "\n",
    "import matplotlib.pyplot as plt\n",
    "from PIL import Image\n",
    "from tensorflow.keras import layers, models\n",
    "from tensorflow.keras.layers import LeakyReLU\n",
    "#from keras.optimizers import Adam\n",
    "#from keras.callbacks import ReduceLROnPlateau\n",
    "from keras.regularizers import l1, l2, l1_l2\n",
    "#from keras.layers.normalization import BatchNormalization\n",
    "from tensorflow.keras.preprocessing import image_dataset_from_directory"
   ]
  },
  {
   "cell_type": "code",
   "execution_count": 4,
   "metadata": {},
   "outputs": [],
   "source": [
    "os.environ['TF_FORCE_GPU_ALLOW_GROWTH'] = 'true'"
   ]
  },
  {
   "cell_type": "code",
   "execution_count": 5,
   "metadata": {},
   "outputs": [],
   "source": [
    "leaky_relu_alpha = 0.1"
   ]
  },
  {
   "cell_type": "code",
   "execution_count": null,
   "metadata": {},
   "outputs": [],
   "source": []
  },
  {
   "cell_type": "code",
   "execution_count": 7,
   "metadata": {},
   "outputs": [
    {
     "name": "stdout",
     "output_type": "stream",
     "text": [
      "Found 368 files belonging to 3 classes.\n"
     ]
    }
   ],
   "source": [
    "train_dataset = image_dataset_from_directory(r\"C:\\Users\\adhim\\Desktop\\Jowar Compressed Segemented\\CompressedSegmented4\\Train\",\n",
    "                                          image_size = (250, 250),\n",
    "                                          batch_size = 32,\n",
    "                                          shuffle = True\n",
    "                                          )  "
   ]
  },
  {
   "cell_type": "code",
   "execution_count": 8,
   "metadata": {},
   "outputs": [
    {
     "name": "stdout",
     "output_type": "stream",
     "text": [
      "Found 158 files belonging to 3 classes.\n"
     ]
    }
   ],
   "source": [
    "val_dataset = image_dataset_from_directory( r\"C:\\Users\\adhim\\Desktop\\Jowar Compressed Segemented\\CompressedSegmented4\\Validation\",\n",
    "                                                image_size = (250, 250),\n",
    "                                                batch_size = 32,\n",
    "                                                shuffle = True)"
   ]
  },
  {
   "cell_type": "code",
   "execution_count": 19,
   "metadata": {},
   "outputs": [],
   "source": [
    "model1 = models.Sequential()\n",
    "\n",
    "model1.add(layers.experimental.preprocessing.RandomFlip('horizontal'))\n",
    "\n",
    "model1.add(layers.experimental.preprocessing.RandomRotation(0.2))\n",
    "\n",
    "model1.add(layers.Conv2D(filters = 16, kernel_size = (3, 3), padding = 'same', activation = 'relu', input_shape = (250, 250, 3)))\n",
    "model1.add(layers.Conv2D(filters = 16, kernel_size = (3, 3), padding = 'same', activation = LeakyReLU( alpha = leaky_relu_alpha)))\n",
    "\n",
    "model1.add(layers.MaxPooling2D( pool_size = 2, strides = 2))\n",
    "\n",
    "model1.add(layers.Conv2D(filters = 32, kernel_size = (3, 3), padding = 'same', activation = 'relu'))\n",
    "model1.add(layers.Conv2D(filters = 32, kernel_size = (3, 3), padding = \"same\", activation = LeakyReLU( alpha = leaky_relu_alpha)))\n",
    "\n",
    "model1.add(layers.MaxPooling2D(pool_size = 2, strides = 2 ))\n",
    "\n",
    "model1.add(layers.Conv2D(filters = 32, kernel_size = (3, 3), padding = 'same', activation = 'relu'))\n",
    "model1.add(layers.Conv2D(filters = 64, kernel_size = (3, 3), padding = \"same\", activation = LeakyReLU( alpha = leaky_relu_alpha)))\n",
    "\n",
    "model1.add(layers.MaxPooling2D(pool_size = 2, strides = 2 ))"
   ]
  },
  {
   "cell_type": "code",
   "execution_count": 20,
   "metadata": {},
   "outputs": [],
   "source": [
    "model1.add(layers.Flatten())\n",
    "\n",
    "model1.add(layers.Dense(128, kernel_regularizer = l2(0.001), activation =  LeakyReLU( alpha = leaky_relu_alpha)))\n",
    "\n",
    "model1.add(layers.Dense(64, kernel_regularizer = l2(0.001), activation =  LeakyReLU( alpha = leaky_relu_alpha)))\n",
    "\n",
    "model1.add(layers.Dense(32, kernel_regularizer = l2(0.001), activation =  LeakyReLU( alpha = leaky_relu_alpha)))\n",
    "\n",
    "model1.add(layers.Dense(16, activation = 'relu'))\n",
    "\n",
    "model1.add(layers.Dropout(0.25))\n",
    "\n",
    "model1.add(layers.Dense(1, activation = \"softmax\"))"
   ]
  },
  {
   "cell_type": "code",
   "execution_count": 13,
   "metadata": {},
   "outputs": [],
   "source": [
    "checkpoint_path = 'training_1/cp.ckpt'\n",
    "\n",
    "checkpoint_dir = os.path.dirname(checkpoint_path)"
   ]
  },
  {
   "cell_type": "code",
   "execution_count": 14,
   "metadata": {},
   "outputs": [],
   "source": [
    "cp_callback = tf.keras.callbacks.ModelCheckpoint(filepath = checkpoint_path,\n",
    "                                                 save_weights_only = True,\n",
    "                                                 verbose = 1)"
   ]
  },
  {
   "cell_type": "code",
   "execution_count": 15,
   "metadata": {},
   "outputs": [],
   "source": [
    "model1.compile(loss = 'sparse_categorical_crossentropy',\n",
    "               metrics = ['accuracy'],\n",
    "               optimizer = tf.keras.optimizers.Adam())"
   ]
  },
  {
   "cell_type": "code",
   "execution_count": 17,
   "metadata": {},
   "outputs": [
    {
     "data": {
      "text/plain": [
       "<BatchDataset shapes: ((None, 250, 250, 3), (None,)), types: (tf.float32, tf.int32)>"
      ]
     },
     "execution_count": 17,
     "metadata": {},
     "output_type": "execute_result"
    }
   ],
   "source": [
    "train_dataset"
   ]
  },
  {
   "cell_type": "code",
   "execution_count": 16,
   "metadata": {},
   "outputs": [
    {
     "name": "stdout",
     "output_type": "stream",
     "text": [
      "Epoch 1/50\n"
     ]
    },
    {
     "ename": "InvalidArgumentError",
     "evalue": " Received a label value of 2 which is outside the valid range of [0, 2).  Label values: 2 1 1 2 1 1 1 0 0 1 1 2 1 1 2 0 2 2 1 1 0 1 0 0 1 1 1 0 2 1 2 1\n\t [[node sparse_categorical_crossentropy/SparseSoftmaxCrossEntropyWithLogits/SparseSoftmaxCrossEntropyWithLogits (defined at <ipython-input-16-8af0d60bf87a>:1) ]] [Op:__inference_train_function_1910]\n\nFunction call stack:\ntrain_function\n",
     "output_type": "error",
     "traceback": [
      "\u001b[1;31m---------------------------------------------------------------------------\u001b[0m",
      "\u001b[1;31mInvalidArgumentError\u001b[0m                      Traceback (most recent call last)",
      "\u001b[1;32m<ipython-input-16-8af0d60bf87a>\u001b[0m in \u001b[0;36m<module>\u001b[1;34m\u001b[0m\n\u001b[1;32m----> 1\u001b[1;33m history = model1.fit(train_dataset,\n\u001b[0m\u001b[0;32m      2\u001b[0m                      \u001b[0mbatch_size\u001b[0m \u001b[1;33m=\u001b[0m \u001b[1;36m32\u001b[0m\u001b[1;33m,\u001b[0m\u001b[1;33m\u001b[0m\u001b[1;33m\u001b[0m\u001b[0m\n\u001b[0;32m      3\u001b[0m                      \u001b[0mepochs\u001b[0m \u001b[1;33m=\u001b[0m \u001b[1;36m50\u001b[0m\u001b[1;33m,\u001b[0m\u001b[1;33m\u001b[0m\u001b[1;33m\u001b[0m\u001b[0m\n\u001b[0;32m      4\u001b[0m                      \u001b[0mvalidation_data\u001b[0m \u001b[1;33m=\u001b[0m \u001b[0mval_dataset\u001b[0m\u001b[1;33m,\u001b[0m\u001b[1;33m\u001b[0m\u001b[1;33m\u001b[0m\u001b[0m\n\u001b[0;32m      5\u001b[0m                      \u001b[0mcallbacks\u001b[0m \u001b[1;33m=\u001b[0m \u001b[1;33m[\u001b[0m\u001b[0mcp_callback\u001b[0m\u001b[1;33m]\u001b[0m\u001b[1;33m\u001b[0m\u001b[1;33m\u001b[0m\u001b[0m\n",
      "\u001b[1;32m~\\anaconda3\\lib\\site-packages\\tensorflow\\python\\keras\\engine\\training.py\u001b[0m in \u001b[0;36mfit\u001b[1;34m(self, x, y, batch_size, epochs, verbose, callbacks, validation_split, validation_data, shuffle, class_weight, sample_weight, initial_epoch, steps_per_epoch, validation_steps, validation_batch_size, validation_freq, max_queue_size, workers, use_multiprocessing)\u001b[0m\n\u001b[0;32m   1181\u001b[0m                 _r=1):\n\u001b[0;32m   1182\u001b[0m               \u001b[0mcallbacks\u001b[0m\u001b[1;33m.\u001b[0m\u001b[0mon_train_batch_begin\u001b[0m\u001b[1;33m(\u001b[0m\u001b[0mstep\u001b[0m\u001b[1;33m)\u001b[0m\u001b[1;33m\u001b[0m\u001b[1;33m\u001b[0m\u001b[0m\n\u001b[1;32m-> 1183\u001b[1;33m               \u001b[0mtmp_logs\u001b[0m \u001b[1;33m=\u001b[0m \u001b[0mself\u001b[0m\u001b[1;33m.\u001b[0m\u001b[0mtrain_function\u001b[0m\u001b[1;33m(\u001b[0m\u001b[0miterator\u001b[0m\u001b[1;33m)\u001b[0m\u001b[1;33m\u001b[0m\u001b[1;33m\u001b[0m\u001b[0m\n\u001b[0m\u001b[0;32m   1184\u001b[0m               \u001b[1;32mif\u001b[0m \u001b[0mdata_handler\u001b[0m\u001b[1;33m.\u001b[0m\u001b[0mshould_sync\u001b[0m\u001b[1;33m:\u001b[0m\u001b[1;33m\u001b[0m\u001b[1;33m\u001b[0m\u001b[0m\n\u001b[0;32m   1185\u001b[0m                 \u001b[0mcontext\u001b[0m\u001b[1;33m.\u001b[0m\u001b[0masync_wait\u001b[0m\u001b[1;33m(\u001b[0m\u001b[1;33m)\u001b[0m\u001b[1;33m\u001b[0m\u001b[1;33m\u001b[0m\u001b[0m\n",
      "\u001b[1;32m~\\anaconda3\\lib\\site-packages\\tensorflow\\python\\eager\\def_function.py\u001b[0m in \u001b[0;36m__call__\u001b[1;34m(self, *args, **kwds)\u001b[0m\n\u001b[0;32m    887\u001b[0m \u001b[1;33m\u001b[0m\u001b[0m\n\u001b[0;32m    888\u001b[0m       \u001b[1;32mwith\u001b[0m \u001b[0mOptionalXlaContext\u001b[0m\u001b[1;33m(\u001b[0m\u001b[0mself\u001b[0m\u001b[1;33m.\u001b[0m\u001b[0m_jit_compile\u001b[0m\u001b[1;33m)\u001b[0m\u001b[1;33m:\u001b[0m\u001b[1;33m\u001b[0m\u001b[1;33m\u001b[0m\u001b[0m\n\u001b[1;32m--> 889\u001b[1;33m         \u001b[0mresult\u001b[0m \u001b[1;33m=\u001b[0m \u001b[0mself\u001b[0m\u001b[1;33m.\u001b[0m\u001b[0m_call\u001b[0m\u001b[1;33m(\u001b[0m\u001b[1;33m*\u001b[0m\u001b[0margs\u001b[0m\u001b[1;33m,\u001b[0m \u001b[1;33m**\u001b[0m\u001b[0mkwds\u001b[0m\u001b[1;33m)\u001b[0m\u001b[1;33m\u001b[0m\u001b[1;33m\u001b[0m\u001b[0m\n\u001b[0m\u001b[0;32m    890\u001b[0m \u001b[1;33m\u001b[0m\u001b[0m\n\u001b[0;32m    891\u001b[0m       \u001b[0mnew_tracing_count\u001b[0m \u001b[1;33m=\u001b[0m \u001b[0mself\u001b[0m\u001b[1;33m.\u001b[0m\u001b[0mexperimental_get_tracing_count\u001b[0m\u001b[1;33m(\u001b[0m\u001b[1;33m)\u001b[0m\u001b[1;33m\u001b[0m\u001b[1;33m\u001b[0m\u001b[0m\n",
      "\u001b[1;32m~\\anaconda3\\lib\\site-packages\\tensorflow\\python\\eager\\def_function.py\u001b[0m in \u001b[0;36m_call\u001b[1;34m(self, *args, **kwds)\u001b[0m\n\u001b[0;32m    948\u001b[0m         \u001b[1;31m# Lifting succeeded, so variables are initialized and we can run the\u001b[0m\u001b[1;33m\u001b[0m\u001b[1;33m\u001b[0m\u001b[1;33m\u001b[0m\u001b[0m\n\u001b[0;32m    949\u001b[0m         \u001b[1;31m# stateless function.\u001b[0m\u001b[1;33m\u001b[0m\u001b[1;33m\u001b[0m\u001b[1;33m\u001b[0m\u001b[0m\n\u001b[1;32m--> 950\u001b[1;33m         \u001b[1;32mreturn\u001b[0m \u001b[0mself\u001b[0m\u001b[1;33m.\u001b[0m\u001b[0m_stateless_fn\u001b[0m\u001b[1;33m(\u001b[0m\u001b[1;33m*\u001b[0m\u001b[0margs\u001b[0m\u001b[1;33m,\u001b[0m \u001b[1;33m**\u001b[0m\u001b[0mkwds\u001b[0m\u001b[1;33m)\u001b[0m\u001b[1;33m\u001b[0m\u001b[1;33m\u001b[0m\u001b[0m\n\u001b[0m\u001b[0;32m    951\u001b[0m     \u001b[1;32melse\u001b[0m\u001b[1;33m:\u001b[0m\u001b[1;33m\u001b[0m\u001b[1;33m\u001b[0m\u001b[0m\n\u001b[0;32m    952\u001b[0m       \u001b[0m_\u001b[0m\u001b[1;33m,\u001b[0m \u001b[0m_\u001b[0m\u001b[1;33m,\u001b[0m \u001b[0m_\u001b[0m\u001b[1;33m,\u001b[0m \u001b[0mfiltered_flat_args\u001b[0m \u001b[1;33m=\u001b[0m\u001b[0;31m \u001b[0m\u001b[0;31m\\\u001b[0m\u001b[1;33m\u001b[0m\u001b[1;33m\u001b[0m\u001b[0m\n",
      "\u001b[1;32m~\\anaconda3\\lib\\site-packages\\tensorflow\\python\\eager\\function.py\u001b[0m in \u001b[0;36m__call__\u001b[1;34m(self, *args, **kwargs)\u001b[0m\n\u001b[0;32m   3021\u001b[0m       (graph_function,\n\u001b[0;32m   3022\u001b[0m        filtered_flat_args) = self._maybe_define_function(args, kwargs)\n\u001b[1;32m-> 3023\u001b[1;33m     return graph_function._call_flat(\n\u001b[0m\u001b[0;32m   3024\u001b[0m         filtered_flat_args, captured_inputs=graph_function.captured_inputs)  # pylint: disable=protected-access\n\u001b[0;32m   3025\u001b[0m \u001b[1;33m\u001b[0m\u001b[0m\n",
      "\u001b[1;32m~\\anaconda3\\lib\\site-packages\\tensorflow\\python\\eager\\function.py\u001b[0m in \u001b[0;36m_call_flat\u001b[1;34m(self, args, captured_inputs, cancellation_manager)\u001b[0m\n\u001b[0;32m   1958\u001b[0m         and executing_eagerly):\n\u001b[0;32m   1959\u001b[0m       \u001b[1;31m# No tape is watching; skip to running the function.\u001b[0m\u001b[1;33m\u001b[0m\u001b[1;33m\u001b[0m\u001b[1;33m\u001b[0m\u001b[0m\n\u001b[1;32m-> 1960\u001b[1;33m       return self._build_call_outputs(self._inference_function.call(\n\u001b[0m\u001b[0;32m   1961\u001b[0m           ctx, args, cancellation_manager=cancellation_manager))\n\u001b[0;32m   1962\u001b[0m     forward_backward = self._select_forward_and_backward_functions(\n",
      "\u001b[1;32m~\\anaconda3\\lib\\site-packages\\tensorflow\\python\\eager\\function.py\u001b[0m in \u001b[0;36mcall\u001b[1;34m(self, ctx, args, cancellation_manager)\u001b[0m\n\u001b[0;32m    589\u001b[0m       \u001b[1;32mwith\u001b[0m \u001b[0m_InterpolateFunctionError\u001b[0m\u001b[1;33m(\u001b[0m\u001b[0mself\u001b[0m\u001b[1;33m)\u001b[0m\u001b[1;33m:\u001b[0m\u001b[1;33m\u001b[0m\u001b[1;33m\u001b[0m\u001b[0m\n\u001b[0;32m    590\u001b[0m         \u001b[1;32mif\u001b[0m \u001b[0mcancellation_manager\u001b[0m \u001b[1;32mis\u001b[0m \u001b[1;32mNone\u001b[0m\u001b[1;33m:\u001b[0m\u001b[1;33m\u001b[0m\u001b[1;33m\u001b[0m\u001b[0m\n\u001b[1;32m--> 591\u001b[1;33m           outputs = execute.execute(\n\u001b[0m\u001b[0;32m    592\u001b[0m               \u001b[0mstr\u001b[0m\u001b[1;33m(\u001b[0m\u001b[0mself\u001b[0m\u001b[1;33m.\u001b[0m\u001b[0msignature\u001b[0m\u001b[1;33m.\u001b[0m\u001b[0mname\u001b[0m\u001b[1;33m)\u001b[0m\u001b[1;33m,\u001b[0m\u001b[1;33m\u001b[0m\u001b[1;33m\u001b[0m\u001b[0m\n\u001b[0;32m    593\u001b[0m               \u001b[0mnum_outputs\u001b[0m\u001b[1;33m=\u001b[0m\u001b[0mself\u001b[0m\u001b[1;33m.\u001b[0m\u001b[0m_num_outputs\u001b[0m\u001b[1;33m,\u001b[0m\u001b[1;33m\u001b[0m\u001b[1;33m\u001b[0m\u001b[0m\n",
      "\u001b[1;32m~\\anaconda3\\lib\\site-packages\\tensorflow\\python\\eager\\execute.py\u001b[0m in \u001b[0;36mquick_execute\u001b[1;34m(op_name, num_outputs, inputs, attrs, ctx, name)\u001b[0m\n\u001b[0;32m     57\u001b[0m   \u001b[1;32mtry\u001b[0m\u001b[1;33m:\u001b[0m\u001b[1;33m\u001b[0m\u001b[1;33m\u001b[0m\u001b[0m\n\u001b[0;32m     58\u001b[0m     \u001b[0mctx\u001b[0m\u001b[1;33m.\u001b[0m\u001b[0mensure_initialized\u001b[0m\u001b[1;33m(\u001b[0m\u001b[1;33m)\u001b[0m\u001b[1;33m\u001b[0m\u001b[1;33m\u001b[0m\u001b[0m\n\u001b[1;32m---> 59\u001b[1;33m     tensors = pywrap_tfe.TFE_Py_Execute(ctx._handle, device_name, op_name,\n\u001b[0m\u001b[0;32m     60\u001b[0m                                         inputs, attrs, num_outputs)\n\u001b[0;32m     61\u001b[0m   \u001b[1;32mexcept\u001b[0m \u001b[0mcore\u001b[0m\u001b[1;33m.\u001b[0m\u001b[0m_NotOkStatusException\u001b[0m \u001b[1;32mas\u001b[0m \u001b[0me\u001b[0m\u001b[1;33m:\u001b[0m\u001b[1;33m\u001b[0m\u001b[1;33m\u001b[0m\u001b[0m\n",
      "\u001b[1;31mInvalidArgumentError\u001b[0m:  Received a label value of 2 which is outside the valid range of [0, 2).  Label values: 2 1 1 2 1 1 1 0 0 1 1 2 1 1 2 0 2 2 1 1 0 1 0 0 1 1 1 0 2 1 2 1\n\t [[node sparse_categorical_crossentropy/SparseSoftmaxCrossEntropyWithLogits/SparseSoftmaxCrossEntropyWithLogits (defined at <ipython-input-16-8af0d60bf87a>:1) ]] [Op:__inference_train_function_1910]\n\nFunction call stack:\ntrain_function\n"
     ]
    }
   ],
   "source": [
    "history = model1.fit(train_dataset,\n",
    "                     batch_size = 32,\n",
    "                     epochs = 50,\n",
    "                     validation_data = val_dataset,\n",
    "                     callbacks = [cp_callback]\n",
    "                     )"
   ]
  },
  {
   "cell_type": "code",
   "execution_count": 22,
   "metadata": {},
   "outputs": [],
   "source": [
    "loss = history.history['loss']\n",
    "\n",
    "accuracy = history.history['accuracy']\n",
    "\n",
    "val_loss = history.history['val_loss']\n",
    "\n",
    "val_accuracy = history.history['val_accuracy']"
   ]
  },
  {
   "cell_type": "code",
   "execution_count": 23,
   "metadata": {},
   "outputs": [
    {
     "name": "stderr",
     "output_type": "stream",
     "text": [
      "A subdirectory or file -new already exists.\n",
      "Error occurred while processing: -new.\n",
      "A subdirectory or file user_model already exists.\n",
      "Error occurred while processing: user_model.\n"
     ]
    },
    {
     "name": "stdout",
     "output_type": "stream",
     "text": [
      "WARNING:tensorflow:From C:\\Users\\adhim\\anaconda3\\envs\\tensorflow\\lib\\site-packages\\tensorflow\\python\\training\\tracking\\tracking.py:111: Model.state_updates (from tensorflow.python.keras.engine.training) is deprecated and will be removed in a future version.\n",
      "Instructions for updating:\n",
      "This property should not be used in TensorFlow 2.0, as updates are applied automatically.\n",
      "WARNING:tensorflow:From C:\\Users\\adhim\\anaconda3\\envs\\tensorflow\\lib\\site-packages\\tensorflow\\python\\training\\tracking\\tracking.py:111: Layer.updates (from tensorflow.python.keras.engine.base_layer) is deprecated and will be removed in a future version.\n",
      "Instructions for updating:\n",
      "This property should not be used in TensorFlow 2.0, as updates are applied automatically.\n",
      "INFO:tensorflow:Assets written to: user_model/self_designed_model\\assets\n"
     ]
    }
   ],
   "source": [
    "!mkdir -new user_model\n",
    "\n",
    "model1.save('user_model/self_designed_model')"
   ]
  },
  {
   "cell_type": "code",
   "execution_count": 26,
   "metadata": {},
   "outputs": [
    {
     "data": {
      "image/png": "[encoded data removed]",
      "text/plain": [
       "<Figure size 432x288 with 1 Axes>"
      ]
     },
     "metadata": {
      "needs_background": "light"
     },
     "output_type": "display_data"
    }
   ],
   "source": [
    "epochs = range(1, 51)\n",
    "\n",
    "plt.plot(epochs, loss, 'g', label = 'Training_loss')\n",
    "\n",
    "plt.plot(epochs, val_loss, 'b', label = 'Validation_loss')\n",
    "\n",
    "plt.title('Training and Validation Loss')\n",
    "\n",
    "plt.xlabel('Epochs')\n",
    "\n",
    "plt.ylabel('Loss')\n",
    "\n",
    "plt.legend()\n",
    "\n",
    "plt.savefig('Loss.png')\n",
    "\n",
    "plt.show()"
   ]
  },
  {
   "cell_type": "code",
   "execution_count": 28,
   "metadata": {},
   "outputs": [
    {
     "data": {
      "image/png": "[encoded data removed]",
      "text/plain": [
       "<Figure size 432x288 with 1 Axes>"
      ]
     },
     "metadata": {
      "needs_background": "light"
     },
     "output_type": "display_data"
    }
   ],
   "source": [
    "plt.plot(epochs, accuracy, 'g', label = 'Accuracy')\n",
    "\n",
    "plt.plot(epochs, val_accuracy, 'b', label = 'Validation_Accuracy')\n",
    "\n",
    "plt.title('Trainig and Validation Accuracy')\n",
    "\n",
    "plt.xlabel('Epochs')\n",
    "\n",
    "plt.ylabel('Accuracy')\n",
    "\n",
    "plt.legend()\n",
    "\n",
    "plt.savefig('Accuracy.png')\n",
    "\n",
    "plt.show()"
   ]
  },
  {
   "cell_type": "markdown",
   "metadata": {},
   "source": [
    "## Testing"
   ]
  },
  {
   "cell_type": "code",
   "execution_count": null,
   "metadata": {},
   "outputs": [],
   "source": [
    "Anthracnose_leaf = mpimg.imread(\"/content/drive/MyDrive/6 (73).jpg\")\n",
    "\n",
    "Healthy_leaf = mpimg.imread(\"/content/drive/MyDrive/Healthy.jpg\")\n",
    "\n",
    "Leaf_Blight_leaf = mpimg.imread(\"/content/drive/MyDrive/LB1.jpg\")"
   ]
  },
  {
   "cell_type": "code",
   "execution_count": null,
   "metadata": {},
   "outputs": [],
   "source": []
  },
  {
   "cell_type": "code",
   "execution_count": null,
   "metadata": {},
   "outputs": [],
   "source": []
  },
  {
   "cell_type": "code",
   "execution_count": null,
   "metadata": {},
   "outputs": [],
   "source": []
  },
  {
   "cell_type": "code",
   "execution_count": null,
   "metadata": {},
   "outputs": [],
   "source": []
  },
  {
   "cell_type": "code",
   "execution_count": null,
   "metadata": {},
   "outputs": [],
   "source": []
  },
  {
   "cell_type": "code",
   "execution_count": null,
   "metadata": {},
   "outputs": [],
   "source": []
  },
  {
   "cell_type": "code",
   "execution_count": null,
   "metadata": {},
   "outputs": [],
   "source": []
  },
  {
   "cell_type": "code",
   "execution_count": null,
   "metadata": {},
   "outputs": [],
   "source": []
  },
  {
   "cell_type": "code",
   "execution_count": null,
   "metadata": {},
   "outputs": [],
   "source": []
  },
  {
   "cell_type": "code",
   "execution_count": null,
   "metadata": {},
   "outputs": [],
   "source": []
  },
  {
   "cell_type": "code",
   "execution_count": null,
   "metadata": {},
   "outputs": [],
   "source": []
  },
  {
   "cell_type": "code",
   "execution_count": 6,
   "metadata": {},
   "outputs": [
    {
     "name": "stdout",
     "output_type": "stream",
     "text": [
      "Found 368 files belonging to 3 classes.\n"
     ]
    }
   ],
   "source": [
    "train_set = image_dataset_from_directory(\"C:\\\\Users\\\\adhim\\\\Desktop\\\\CompressedSegmented4\\\\Train\",\n",
    "                                             image_size = (250, 250),\n",
    "                                              batch_size = 32,\n",
    "                                              shuffle = True\n",
    "                                          )"
   ]
  },
  {
   "cell_type": "code",
   "execution_count": 7,
   "metadata": {},
   "outputs": [
    {
     "name": "stdout",
     "output_type": "stream",
     "text": [
      "Found 158 files belonging to 3 classes.\n"
     ]
    }
   ],
   "source": [
    "val_set = image_dataset_from_directory( \"C:\\\\Users\\\\adhim\\\\Desktop\\\\CompressedSegmented4\\\\Validation\",\n",
    "                                            image_size = (250, 250),\n",
    "                                            batch_size = 32,\n",
    "                                            shuffle = True\n",
    "                                          )"
   ]
  },
  {
   "cell_type": "markdown",
   "metadata": {},
   "source": [
    "## Model 2"
   ]
  },
  {
   "cell_type": "code",
   "execution_count": 122,
   "metadata": {},
   "outputs": [],
   "source": [
    "model2 = models.Sequential()\n",
    "\n",
    "model2.add(layers.experimental.preprocessing.RandomFlip('horizontal'))\n",
    "\n",
    "model2.add(layers.experimental.preprocessing.RandomRotation(0.2))\n",
    "\n",
    "\n",
    "model2.add(layers.Conv2D(filters = 16, kernel_size = (3, 3), padding = 'same', activation = 'relu', input_shape = (250, 250, 3)))\n",
    "model2.add(layers.Conv2D(filters = 16, kernel_size = (3, 3), padding = 'same', activation = LeakyReLU( alpha = leaky_relu_alpha)))\n",
    "\n",
    "model2.add(layers.MaxPooling2D( pool_size = 2, strides = 2))\n",
    "\n",
    "model2.add(layers.Conv2D(filters = 32, kernel_size = (3, 3), padding = 'same', activation = 'relu'))\n",
    "model2.add(layers.Conv2D(filters = 32, kernel_size = (3, 3), padding = 'same', activation = LeakyReLU( alpha = leaky_relu_alpha)))\n",
    "\n",
    "model2.add(layers.MaxPooling2D(pool_size = 2, strides = 2 ))\n",
    "\n",
    "model2.add(layers.Conv2D(filters = 32, kernel_size = (3, 3), padding = 'same', activation = 'relu'))\n",
    "model2.add(layers.Conv2D(filters = 64, kernel_size = (3, 3), padding = 'same', activation = LeakyReLU( alpha = leaky_relu_alpha)))\n",
    "\n",
    "model2.add(layers.MaxPooling2D(pool_size = 2, strides = 2 ))"
   ]
  },
  {
   "cell_type": "code",
   "execution_count": 123,
   "metadata": {},
   "outputs": [],
   "source": [
    "model2.add(layers.Flatten())\n",
    "\n",
    "model2.add(layers.Dense(128, kernel_regularizer = l2(0.001), activation =  'relu'))\n",
    "\n",
    "model2.add(layers.Dense(64, kernel_regularizer = l2(0.001), activation =  'relu'))\n",
    "\n",
    "model2.add(layers.Dense(32, kernel_regularizer = l2(0.001), activation =  'relu'))\n",
    "\n",
    "model2.add(layers.Dense(16, kernel_regularizer = l2(0.001), activation = 'relu'))\n",
    "\n",
    "model2.add(layers.Dropout(0.25))\n",
    "\n",
    "model2.add(layers.Dense(3, activation = \"softmax\"))"
   ]
  },
  {
   "cell_type": "code",
   "execution_count": 124,
   "metadata": {},
   "outputs": [],
   "source": [
    "checkpoint_path = 'training_2/cp.ckpt'\n",
    "\n",
    "checkpoint_dir = os.path.dirname(checkpoint_path)"
   ]
  },
  {
   "cell_type": "code",
   "execution_count": 125,
   "metadata": {},
   "outputs": [],
   "source": [
    "cp_callback = tf.keras.callbacks.ModelCheckpoint(\n",
    "                                                 filepath = checkpoint_path,\n",
    "                                                 save_weights_only = True,\n",
    "                                                 verbose = 1\n",
    "                                                 )"
   ]
  },
  {
   "cell_type": "code",
   "execution_count": 126,
   "metadata": {},
   "outputs": [],
   "source": [
    "model2.compile(loss = 'sparse_categorical_crossentropy',\n",
    "               metrics = ['accuracy'],\n",
    "               optimizer = tf.keras.optimizers.Adam())"
   ]
  },
  {
   "cell_type": "code",
   "execution_count": 127,
   "metadata": {},
   "outputs": [
    {
     "name": "stdout",
     "output_type": "stream",
     "text": [
      "Epoch 1/30\n",
      "12/12 [==============================] - ETA: 0s - loss: 2.0669 - accuracy: 0.4891\n",
      "Epoch 00001: saving model to training_2\\cp.ckpt\n",
      "12/12 [==============================] - 3s 282ms/step - loss: 2.0669 - accuracy: 0.4891 - val_loss: 1.4393 - val_accuracy: 0.6266\n",
      "Epoch 2/30\n",
      "12/12 [==============================] - ETA: 0s - loss: 1.4388 - accuracy: 0.5761\n",
      "Epoch 00002: saving model to training_2\\cp.ckpt\n",
      "12/12 [==============================] - 3s 217ms/step - loss: 1.4388 - accuracy: 0.5761 - val_loss: 1.3915 - val_accuracy: 0.5823\n",
      "Epoch 3/30\n",
      "12/12 [==============================] - ETA: 0s - loss: 1.3786 - accuracy: 0.5761\n",
      "Epoch 00003: saving model to training_2\\cp.ckpt\n",
      "12/12 [==============================] - 3s 216ms/step - loss: 1.3786 - accuracy: 0.5761 - val_loss: 1.2675 - val_accuracy: 0.6392\n",
      "Epoch 4/30\n",
      "12/12 [==============================] - ETA: 0s - loss: 1.3208 - accuracy: 0.6060\n",
      "Epoch 00004: saving model to training_2\\cp.ckpt\n",
      "12/12 [==============================] - 3s 218ms/step - loss: 1.3208 - accuracy: 0.6060 - val_loss: 1.3567 - val_accuracy: 0.6329\n",
      "Epoch 5/30\n",
      "12/12 [==============================] - ETA: 0s - loss: 1.2173 - accuracy: 0.6250\n",
      "Epoch 00005: saving model to training_2\\cp.ckpt\n",
      "12/12 [==============================] - 3s 216ms/step - loss: 1.2173 - accuracy: 0.6250 - val_loss: 1.1172 - val_accuracy: 0.6582\n",
      "Epoch 6/30\n",
      "12/12 [==============================] - ETA: 0s - loss: 1.1156 - accuracy: 0.6467\n",
      "Epoch 00006: saving model to training_2\\cp.ckpt\n",
      "12/12 [==============================] - 3s 218ms/step - loss: 1.1156 - accuracy: 0.6467 - val_loss: 1.4435 - val_accuracy: 0.5759\n",
      "Epoch 7/30\n",
      "12/12 [==============================] - ETA: 0s - loss: 1.1175 - accuracy: 0.6087\n",
      "Epoch 00007: saving model to training_2\\cp.ckpt\n",
      "12/12 [==============================] - 3s 218ms/step - loss: 1.1175 - accuracy: 0.6087 - val_loss: 1.1015 - val_accuracy: 0.6203\n",
      "Epoch 8/30\n",
      "12/12 [==============================] - ETA: 0s - loss: 1.0792 - accuracy: 0.6168\n",
      "Epoch 00008: saving model to training_2\\cp.ckpt\n",
      "12/12 [==============================] - 3s 218ms/step - loss: 1.0792 - accuracy: 0.6168 - val_loss: 1.0354 - val_accuracy: 0.6266\n",
      "Epoch 9/30\n",
      "12/12 [==============================] - ETA: 0s - loss: 0.9947 - accuracy: 0.6223\n",
      "Epoch 00009: saving model to training_2\\cp.ckpt\n",
      "12/12 [==============================] - 3s 219ms/step - loss: 0.9947 - accuracy: 0.6223 - val_loss: 1.1247 - val_accuracy: 0.5696\n",
      "Epoch 10/30\n",
      "12/12 [==============================] - ETA: 0s - loss: 1.0151 - accuracy: 0.6359\n",
      "Epoch 00010: saving model to training_2\\cp.ckpt\n",
      "12/12 [==============================] - 3s 219ms/step - loss: 1.0151 - accuracy: 0.6359 - val_loss: 0.9992 - val_accuracy: 0.6646\n",
      "Epoch 11/30\n",
      "12/12 [==============================] - ETA: 0s - loss: 0.9460 - accuracy: 0.6793\n",
      "Epoch 00011: saving model to training_2\\cp.ckpt\n",
      "12/12 [==============================] - 3s 220ms/step - loss: 0.9460 - accuracy: 0.6793 - val_loss: 0.9143 - val_accuracy: 0.6709\n",
      "Epoch 12/30\n",
      "12/12 [==============================] - ETA: 0s - loss: 0.9565 - accuracy: 0.6603\n",
      "Epoch 00012: saving model to training_2\\cp.ckpt\n",
      "12/12 [==============================] - 3s 220ms/step - loss: 0.9565 - accuracy: 0.6603 - val_loss: 0.9634 - val_accuracy: 0.6772\n",
      "Epoch 13/30\n",
      "12/12 [==============================] - ETA: 0s - loss: 0.8597 - accuracy: 0.6957\n",
      "Epoch 00013: saving model to training_2\\cp.ckpt\n",
      "12/12 [==============================] - 3s 220ms/step - loss: 0.8597 - accuracy: 0.6957 - val_loss: 0.8488 - val_accuracy: 0.7152\n",
      "Epoch 14/30\n",
      "12/12 [==============================] - ETA: 0s - loss: 0.8722 - accuracy: 0.6984\n",
      "Epoch 00014: saving model to training_2\\cp.ckpt\n",
      "12/12 [==============================] - 3s 220ms/step - loss: 0.8722 - accuracy: 0.6984 - val_loss: 0.7915 - val_accuracy: 0.7848\n",
      "Epoch 15/30\n",
      "12/12 [==============================] - ETA: 0s - loss: 0.8652 - accuracy: 0.6929\n",
      "Epoch 00015: saving model to training_2\\cp.ckpt\n",
      "12/12 [==============================] - 3s 219ms/step - loss: 0.8652 - accuracy: 0.6929 - val_loss: 0.8046 - val_accuracy: 0.7405\n",
      "Epoch 16/30\n",
      "12/12 [==============================] - ETA: 0s - loss: 0.8456 - accuracy: 0.7147\n",
      "Epoch 00016: saving model to training_2\\cp.ckpt\n",
      "12/12 [==============================] - 3s 220ms/step - loss: 0.8456 - accuracy: 0.7147 - val_loss: 0.7928 - val_accuracy: 0.7532\n",
      "Epoch 17/30\n",
      "12/12 [==============================] - ETA: 0s - loss: 0.7497 - accuracy: 0.7636\n",
      "Epoch 00017: saving model to training_2\\cp.ckpt\n",
      "12/12 [==============================] - 3s 220ms/step - loss: 0.7497 - accuracy: 0.7636 - val_loss: 0.7804 - val_accuracy: 0.7215\n",
      "Epoch 18/30\n",
      "12/12 [==============================] - ETA: 0s - loss: 0.7939 - accuracy: 0.7038\n",
      "Epoch 00018: saving model to training_2\\cp.ckpt\n",
      "12/12 [==============================] - 3s 221ms/step - loss: 0.7939 - accuracy: 0.7038 - val_loss: 0.8650 - val_accuracy: 0.6646\n",
      "Epoch 19/30\n",
      "12/12 [==============================] - ETA: 0s - loss: 0.8992 - accuracy: 0.6658\n",
      "Epoch 00019: saving model to training_2\\cp.ckpt\n",
      "12/12 [==============================] - 3s 220ms/step - loss: 0.8992 - accuracy: 0.6658 - val_loss: 0.8146 - val_accuracy: 0.6835\n",
      "Epoch 20/30\n",
      "12/12 [==============================] - ETA: 0s - loss: 0.8355 - accuracy: 0.7201\n",
      "Epoch 00020: saving model to training_2\\cp.ckpt\n",
      "12/12 [==============================] - 3s 220ms/step - loss: 0.8355 - accuracy: 0.7201 - val_loss: 0.8700 - val_accuracy: 0.6456\n",
      "Epoch 21/30\n",
      "12/12 [==============================] - ETA: 0s - loss: 0.7820 - accuracy: 0.7120\n",
      "Epoch 00021: saving model to training_2\\cp.ckpt\n",
      "12/12 [==============================] - 3s 219ms/step - loss: 0.7820 - accuracy: 0.7120 - val_loss: 0.7188 - val_accuracy: 0.7658\n",
      "Epoch 22/30\n",
      "12/12 [==============================] - ETA: 0s - loss: 0.7111 - accuracy: 0.7418\n",
      "Epoch 00022: saving model to training_2\\cp.ckpt\n",
      "12/12 [==============================] - 3s 221ms/step - loss: 0.7111 - accuracy: 0.7418 - val_loss: 0.7171 - val_accuracy: 0.7152\n",
      "Epoch 23/30\n",
      "12/12 [==============================] - ETA: 0s - loss: 0.6849 - accuracy: 0.7609\n",
      "Epoch 00023: saving model to training_2\\cp.ckpt\n",
      "12/12 [==============================] - 3s 220ms/step - loss: 0.6849 - accuracy: 0.7609 - val_loss: 0.7067 - val_accuracy: 0.7468\n",
      "Epoch 24/30\n",
      "12/12 [==============================] - ETA: 0s - loss: 0.6872 - accuracy: 0.7908\n",
      "Epoch 00024: saving model to training_2\\cp.ckpt\n",
      "12/12 [==============================] - 3s 225ms/step - loss: 0.6872 - accuracy: 0.7908 - val_loss: 0.7186 - val_accuracy: 0.7468\n",
      "Epoch 25/30\n",
      "12/12 [==============================] - ETA: 0s - loss: 0.7168 - accuracy: 0.7065\n",
      "Epoch 00025: saving model to training_2\\cp.ckpt\n",
      "12/12 [==============================] - 3s 221ms/step - loss: 0.7168 - accuracy: 0.7065 - val_loss: 0.7169 - val_accuracy: 0.7405\n",
      "Epoch 26/30\n",
      "12/12 [==============================] - ETA: 0s - loss: 0.7495 - accuracy: 0.7690\n",
      "Epoch 00026: saving model to training_2\\cp.ckpt\n",
      "12/12 [==============================] - 3s 221ms/step - loss: 0.7495 - accuracy: 0.7690 - val_loss: 0.7679 - val_accuracy: 0.6709\n",
      "Epoch 27/30\n",
      "12/12 [==============================] - ETA: 0s - loss: 0.6926 - accuracy: 0.7364\n",
      "Epoch 00027: saving model to training_2\\cp.ckpt\n",
      "12/12 [==============================] - 3s 223ms/step - loss: 0.6926 - accuracy: 0.7364 - val_loss: 0.8714 - val_accuracy: 0.6266\n",
      "Epoch 28/30\n",
      "12/12 [==============================] - ETA: 0s - loss: 0.6803 - accuracy: 0.7418\n",
      "Epoch 00028: saving model to training_2\\cp.ckpt\n",
      "12/12 [==============================] - 3s 220ms/step - loss: 0.6803 - accuracy: 0.7418 - val_loss: 0.8712 - val_accuracy: 0.5570\n",
      "Epoch 29/30\n",
      "12/12 [==============================] - ETA: 0s - loss: 0.6853 - accuracy: 0.7500\n",
      "Epoch 00029: saving model to training_2\\cp.ckpt\n",
      "12/12 [==============================] - 3s 220ms/step - loss: 0.6853 - accuracy: 0.7500 - val_loss: 0.8608 - val_accuracy: 0.5823\n",
      "Epoch 30/30\n",
      "12/12 [==============================] - ETA: 0s - loss: 0.7308 - accuracy: 0.7310\n",
      "Epoch 00030: saving model to training_2\\cp.ckpt\n",
      "12/12 [==============================] - 3s 221ms/step - loss: 0.7308 - accuracy: 0.7310 - val_loss: 0.9266 - val_accuracy: 0.6266\n"
     ]
    }
   ],
   "source": [
    "history = model2.fit(train_set,\n",
    "                     batch_size = 32,\n",
    "                     epochs = 30,\n",
    "                     validation_data = val_set,\n",
    "                     callbacks = [cp_callback]\n",
    "                     )"
   ]
  },
  {
   "cell_type": "code",
   "execution_count": null,
   "metadata": {},
   "outputs": [],
   "source": []
  },
  {
   "cell_type": "code",
   "execution_count": null,
   "metadata": {},
   "outputs": [],
   "source": []
  }
 ],
 "metadata": {
  "kernelspec": {
   "display_name": "Python 3",
   "language": "python",
   "name": "python3"
  },
  "language_info": {
   "codemirror_mode": {
    "name": "ipython",
    "version": 3
   },
   "file_extension": ".py",
   "mimetype": "text/x-python",
   "name": "python",
   "nbconvert_exporter": "python",
   "pygments_lexer": "ipython3",
   "version": "3.8.8"
  }
 },
 "nbformat": 4,
 "nbformat_minor": 4
}
