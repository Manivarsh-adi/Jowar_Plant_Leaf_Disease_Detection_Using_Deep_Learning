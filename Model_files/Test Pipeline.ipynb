{
 "cells": [
  {
   "cell_type": "code",
   "execution_count": 1,
   "metadata": {},
   "outputs": [],
   "source": [
    "import cv2\n",
    "import matplotlib.image as mpimg"
   ]
  },
  {
   "cell_type": "code",
   "execution_count": 2,
   "metadata": {},
   "outputs": [],
   "source": [
    "def preprocessing_image(path):\n",
    "    \n",
    "    t = 80\n",
    "    \n",
    "    ygt = 35\n",
    "    \n",
    "    img = mpimg.imread(path)\n",
    "    \n",
    "    orange_red = cv2.inRange(img, np.array([255 - t, 69 - t, 0 - t]), np.array([255 + t, 69 + t, 0 + t]))\n",
    "\n",
    "    dark_orange = cv2.inRange(img, np.array([255 - t, 140 - t, 0 - t]), np.array([255 + t, 140 + t, 0 + t]))\n",
    "\n",
    "    brown = cv2.inRange(img, np.array([165 - t, 42 - t, 42 - t]), np.array([165 + t, 42 + t, 42 + t]))\n",
    "\n",
    "    yellow = cv2.inRange(img, np.array([154 - ygt, 205 - ygt, 50 - ygt]), np.array([154 + ygt, 205 + ygt, 50 + ygt]))\n",
    "    \n",
    "    combined_mask = orange_red + dark_orange + yellow + brown\n",
    "    \n",
    "    masked_image =cv2.bitwise_and(img, img, mask = combined_mask)\n",
    "    \n",
    "    compression_size = (250, 250)\n",
    "\n",
    "    resized_img = cv2.resize(masked_image, compression_size, interpolation = cv2.INTER_NEAREST)\n",
    "\n",
    "    preprocessed_img = resized_img[np.newaxis,:]\n",
    "\n",
    "    return preprocessed_img"
   ]
  },
  {
   "cell_type": "code",
   "execution_count": 3,
   "metadata": {},
   "outputs": [],
   "source": []
  },
  {
   "cell_type": "code",
   "execution_count": 5,
   "metadata": {},
   "outputs": [],
   "source": [
    "def model_predict(prepro_img):\n",
    "    \n",
    "    label_dict = { 0:'Anthracnose', 1:'Healthy', 2:'Leaf Blight'}\n",
    "    \n",
    "    predict_variable = model1.predict(prepro_img)\n",
    "    \n",
    "    label = np.argmax(predict_variable)\n",
    "    \n",
    "    if label == 1:\n",
    "        \n",
    "        return \"It is a \" + label_dict[label] + \" Leaf\"\n",
    "    \n",
    "    else:\n",
    "        \n",
    "        return \"Processed Leaf is daignosed with \" + label_dict[label] + \" disease\""
   ]
  },
  {
   "cell_type": "code",
   "execution_count": null,
   "metadata": {},
   "outputs": [],
   "source": [
    "model_predict(preprocessing_image(path))"
   ]
  }
 ],
 "metadata": {
  "kernelspec": {
   "display_name": "Python 3",
   "language": "python",
   "name": "python3"
  },
  "language_info": {
   "codemirror_mode": {
    "name": "ipython",
    "version": 3
   },
   "file_extension": ".py",
   "mimetype": "text/x-python",
   "name": "python",
   "nbconvert_exporter": "python",
   "pygments_lexer": "ipython3",
   "version": "3.8.8"
  }
 },
 "nbformat": 4,
 "nbformat_minor": 4
}
